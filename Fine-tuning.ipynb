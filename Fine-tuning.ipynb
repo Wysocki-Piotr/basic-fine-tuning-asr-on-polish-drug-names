{
 "cells": [
  {
   "cell_type": "markdown",
   "id": "60410b40",
   "metadata": {},
   "source": [
    "### Wstępny benchmark podstawowego modelu na danych dev oraz subset"
   ]
  },
  {
   "cell_type": "code",
   "execution_count": 125,
   "id": "fc547aba",
   "metadata": {},
   "outputs": [],
   "source": [
    "import pandas as pd\n",
    "import os\n",
    "from transformers import WhisperProcessor, WhisperForConditionalGeneration\n",
    "import torchaudio\n",
    "import torch\n",
    "from peft import PeftModel, PeftConfig\n",
    "from datasets import Features, Value, Audio, load_dataset, Dataset\n",
    "import kagglehub\n",
    "from jiwer import wer,cer\n",
    "from tqdm import tqdm\n",
    "import numpy as np"
   ]
  },
  {
   "cell_type": "code",
   "execution_count": null,
   "id": "14262789",
   "metadata": {},
   "outputs": [],
   "source": [
    "dev_manifest = pd.read_csv(\"piper_out/dev_manifest.csv\", sep = \"|\")\n",
    "train_manifest = pd.read_csv(\"piper_out/train_manifest.csv\", sep = \"|\")\n",
    "test_manifest = pd.read_csv(\"piper_out/test_manifest.csv\", sep = \"|\")"
   ]
  },
  {
   "cell_type": "code",
   "execution_count": 102,
   "id": "a163ac5f",
   "metadata": {},
   "outputs": [],
   "source": [
    "audio_files = dev_manifest[\"wav_path\"]\n",
    "references = dev_manifest[\"text\"].tolist()"
   ]
  },
  {
   "cell_type": "code",
   "execution_count": 143,
   "id": "bbafe1ad",
   "metadata": {},
   "outputs": [],
   "source": [
    "with open(\"leki_nom.txt\", \"r\", encoding=\"utf-8\") as f:\n",
    "    leki = f.read().splitlines()"
   ]
  },
  {
   "cell_type": "code",
   "execution_count": 40,
   "id": "1e3912ad",
   "metadata": {},
   "outputs": [],
   "source": [
    "download_dir = \"C:/Users/Admin/Downloads/Posts.csv\"\n",
    "\n",
    "path = kagglehub.model_download(\n",
    "    \"msxksm/whisper-medium-medical-pl/transformers/default\"\n",
    ")"
   ]
  },
  {
   "cell_type": "code",
   "execution_count": null,
   "id": "b25cf9e8",
   "metadata": {},
   "outputs": [],
   "source": [
    "checkpoint = \"natural_anonym_synth\"\n",
    "SAMPLING_RATE = 16000\n",
    "language = \"pl\"\n",
    "task = \"transcribe\"\n",
    "peft_config = PeftConfig.from_pretrained(checkpoint) \n",
    "model = WhisperForConditionalGeneration.from_pretrained(peft_config.base_model_name_or_path)\n",
    "model = PeftModel.from_pretrained(model, checkpoint)\n",
    "merged_model = model.merge_and_unload()\n",
    "processor = WhisperProcessor.from_pretrained(peft_config.base_model_name_or_path, language=language, task=task)\n",
    "forced_decoder_ids = processor.get_decoder_prompt_ids(language=language, task=task)"
   ]
  },
  {
   "cell_type": "code",
   "execution_count": 118,
   "id": "2091ae7c",
   "metadata": {},
   "outputs": [],
   "source": [
    "def make_dataset(audio_folder, audio_files, references):\n",
    "    examples = []\n",
    "    for audio, ref in zip(audio_files, references):\n",
    "        filename = os.path.join(audio_folder, audio)\n",
    "        waveform, sr = torchaudio.load(filename)\n",
    "        if sr != SAMPLING_RATE:\n",
    "            waveform = torchaudio.transforms.Resample(sr, SAMPLING_RATE)(waveform)\n",
    "        if waveform.shape[0] > 1:\n",
    "            waveform = torch.mean(waveform, dim=0, keepdim=True)\n",
    "        \n",
    "        examples.append({\"waveform\": waveform, \"phrase\": ref})\n",
    "    return examples"
   ]
  },
  {
   "cell_type": "code",
   "execution_count": null,
   "id": "ee07dfbf",
   "metadata": {},
   "outputs": [
    {
     "name": "stderr",
     "output_type": "stream",
     "text": [
      "c:\\Users\\Admin\\AppData\\Local\\Programs\\Python\\Python313\\Lib\\site-packages\\torchaudio\\_backend\\utils.py:213: UserWarning: In 2.9, this function's implementation will be changed to use torchaudio.load_with_torchcodec` under the hood. Some parameters like ``normalize``, ``format``, ``buffer_size``, and ``backend`` will be ignored. We recommend that you port your code to rely directly on TorchCodec's decoder instead: https://docs.pytorch.org/torchcodec/stable/generated/torchcodec.decoders.AudioDecoder.html#torchcodec.decoders.AudioDecoder.\n",
      "  warnings.warn(\n"
     ]
    }
   ],
   "source": [
    "dataset = make_dataset(\"dev_noisy\", audio_files, references)"
   ]
  },
  {
   "cell_type": "code",
   "execution_count": 107,
   "id": "10aa6a92",
   "metadata": {},
   "outputs": [],
   "source": [
    "def transcribe_example(example):\n",
    "    input_features = processor(\n",
    "        example[\"waveform\"].squeeze(0), \n",
    "        sampling_rate=SAMPLING_RATE,\n",
    "        return_tensors=\"pt\"\n",
    "    ).input_features\n",
    "\n",
    "    with torch.no_grad():\n",
    "        predicted_ids = merged_model.generate(\n",
    "            input_features, \n",
    "            forced_decoder_ids=forced_decoder_ids\n",
    "        )[0]\n",
    "\n",
    "    transcription = processor.decode(predicted_ids, skip_special_tokens=True)\n",
    "    return transcription"
   ]
  },
  {
   "cell_type": "code",
   "execution_count": 110,
   "id": "31c6aee4",
   "metadata": {},
   "outputs": [
    {
     "name": "stderr",
     "output_type": "stream",
     "text": [
      "Transcribing:   0%|          | 0/146 [00:00<?, ?it/s]"
     ]
    },
    {
     "name": "stderr",
     "output_type": "stream",
     "text": [
      "Transcribing: 100%|██████████| 146/146 [25:05<00:00, 10.31s/it]\n"
     ]
    }
   ],
   "source": [
    "hypotheses = []\n",
    "references = []\n",
    "\n",
    "for ex in tqdm(dataset, desc=\"Transcribing\"):\n",
    "    transcription = transcribe_example(ex)\n",
    "    hypotheses.append(transcription)\n",
    "    references.append(ex[\"phrase\"])"
   ]
  },
  {
   "cell_type": "code",
   "execution_count": 111,
   "id": "3614e78e",
   "metadata": {},
   "outputs": [
    {
     "name": "stdout",
     "output_type": "stream",
     "text": [
      "Subset WER: 0.9536\n",
      "Subset CER: 0.5920\n"
     ]
    }
   ],
   "source": [
    "wer_score = wer(references, hypotheses)\n",
    "cer_score = cer(references, hypotheses)\n",
    "\n",
    "print(f\"Subset WER: {wer_score:.4f}\")\n",
    "print(f\"Subset CER: {cer_score:.4f}\")"
   ]
  },
  {
   "cell_type": "code",
   "execution_count": 112,
   "id": "9023baff",
   "metadata": {},
   "outputs": [
    {
     "name": "stdout",
     "output_type": "stream",
     "text": [
      "Reference: Powinnaś spróbować kuracji Ibupromem.\tHypothesis: Po winu nie spróbować kuracji w upromem.\n",
      "Reference: Najlepiej w twoim przypadku sprawdzi się Ibuprom.\tHypothesis: Najlepiej w twoim przypadku sprawdzi się IBU-PRO.\n",
      "Reference: Powinnaś spróbować kuracji Metafenem.\tHypothesis: Pożynne spróbować kuracji metafenem.\n",
      "Reference: Możesz kupić w aptece Metafen, powinien pomóc.\tHypothesis: Możesz kupić w aptycy metafem, powinien pomóc.\n",
      "Reference: Najlepiej w twoim przypadku sprawdzi się Nurofen Forte.\tHypothesis: Najlepiej w twoim przypadku sprawdzi się nurowenworte.\n",
      "Reference: Zalecam Nurofen Forte, bo dobrze działa na ból i stan zapalny.\tHypothesis: Zalecam norowę Fortem, bo dobrze działa nabór i stan zapalny.\n",
      "Reference: Przepiszę ci Dolgit, bo zwykle dobrze działa.\tHypothesis: Przepiszę ci doldit w osłupę, pobudzę węzeł węzeł węzeł węzeł węzeł węzeł węzeł węzeł węzeł węzeł węzeł węzeł węzeł węzeł węzeł węzeł węzeł węzeł węzeł węzeł węzeł węzeł węzeł węzeł węzeł węzeł węzeł węzeł węzeł węzeł węzeł węzeł węzeł węzeł węzeł węzeł węzeł węzeł węzeł węzeł węzeł węzeł węzeł węzeł węzeł węzeł węzeł węzeł węzeł węzeł węzeł węzeł węzeł węzeł węzeł węzecak węzec o węzec o węzec o węzec o węzec o węzec o węzec o węzec o węzec o węzec o węzec o węzec o węzec o węzec o węzec o węzec o węzóz o węz� o węz� o węz� o węz� o węz� o węz� o węz� o węz� o węz� o węz� o węz� o węz� o węz� o węz� o węz� o węz� o z p z b z b z b z b z b z b z b z b z b z b z b z b z b z b z b z b z\n",
      "Reference: Na recepcie zapiszę Dolgit jako lek na ból i stan zapalny.\tHypothesis: Na recepcie zapiszę dolegięcie do leka ból i stan zapalny.\n",
      "Reference: Na nadciśnienie przepiszę ci Bisocard.\tHypothesis: Na nadciśnienie przepisów cipisocard.\n",
      "Reference: Zalecam Bisocard, bo dobrze działa na nadciśnienie.\tHypothesis: Zalecam bisokrat, bo dobrze działana nadciśnienie.\n",
      "Reference: Jeśli masz nadciśnienie dobrze sprawdza się Bibloc.\tHypothesis: Jeśli masz nadciśnienie dobrze, sprawdzę się w i-LOG.\n",
      "Reference: Zalecam Bibloc, bo dobrze działa na nadciśnienie.\tHypothesis: Zalecam Bibloc, bo dobrze działana nadciśnienie.\n",
      "Reference: Na nadciśnienie przepiszę ci Concor.\tHypothesis: Na nadciśnienie przepiszeć konsult.\n",
      "Reference: Jeśli masz nadciśnienie dobrze sprawdza się Concor.\tHypothesis: Jeśli masz nadciśnienie dobrze, sprawdza się kąta.\n",
      "Reference: Przepiszę ci Bisoratio, bo zwykle dobrze działa.\tHypothesis: Przepiszę kibicę radiotopię, bo zwykle dobrze działa.\n",
      "Reference: Na recepcie zapiszę Bisoratio jako lek na nadciśnienie.\tHypothesis: Na recepcie zapiszą bisoratię jako lek na nadciśnienie.\n",
      "Reference: Na recepcie zapiszę Sobycor.\tHypothesis: Na recepcie zapisze sobie cor.\n",
      "Reference: Na recepcie zapiszę Sobycor.\tHypothesis: Na recepcie zapisze osobyco-r, \n",
      "Reference: Na recepcie zapiszę Coronal jako lek na nadciśnienie.\tHypothesis: Na recepcie zapisze coronal jaką lewą na nadciśnienie.\n",
      "Reference: Powinnaś przyjmować Coronal na nadciśnienie.\tHypothesis: Pożynna śwismola w porównaniu do porównania do porównania do porównania do porównania do porównania do porównania do porównania do porównania do porównania do porównania do porównania do porównania do porównania do porównania do porównania do porównania do porównania do porównania do porównania do porównania do porównania do porównania do porównania do porównania do porównania do porównania do porównania do porównania do porównania do porównania do poró w ronania do por ronania do por ronania do por ronania do por ronania do por ronania do por ronania do por ronania do por ronania do por ronania do por ronania do por ronania 2,1,1,1,1,1,1,1,1,1,1,1,1,1,1,1,1,1,1,1,1,1,1,1,1,1,1,1,1,1,1,1,1,1,1,1,1,1,1,1,1,1,1,1,1,1,1,1,1,1,1,1,1 had 1,1,1 had1,1 1 1 1 1 1 1 1 1 1 1 1 1 1 1 1 1 1 1 1 1 1 1 1 1 1 1 1 1 1 1 1 1 1 1 1 1 1 1 1 1 1 1 1 1 1 1 1 1 1 1 1 1 1 1 1 1 1 1 1 1 1 1 1 1 1 1 1 1 1 1 1 1 1 1 1 1 1 1 1 1 1 1 1 1 1 1 1 1 1 1 1 1 1 1 1 1 1 1 1 1 1 1 1\n",
      "Reference: Powinnaś spróbować kuracji Prestilolem.\tHypothesis: Pożyl mały, aora w prawej linii prawej. \n",
      "Reference: Najlepiej w twoim przypadku sprawdzi się Prestilol.\tHypothesis: Najlepiej w twoim przypadku sprawdzi się presti lo.\n",
      "Reference: Możesz kupić w aptece Bisoprolol, powinien pomóc.\tHypothesis: Możesz kupić w Aktecy Bicoprolu, powinien pomóc.\n",
      "Reference: Przepiszę ci Bisoprolol, bo zwykle dobrze działa.\tHypothesis: Przepisze cibisoprolol, bo zwykle dobrze działa.\n",
      "Reference: Powinnaś spróbować kuracji Perindoprylem.\tHypothesis: Pożyl mać skupić w kuratcji Pellindoprylem.\n",
      "Reference: Na recepcie zapiszę Perindopryl jako lek na nadciśnienie.\tHypothesis: Na recepcie zapisze periokulakolek na nadciśnienie.\n",
      "Reference: Najlepiej w twoim przypadku sprawdzi się Ramipryl.\tHypothesis: Najlepiej w twoim przypadku sprawdzi się rany pyl.\n",
      "Reference: Na recepcie zapiszę Ramipryl.\tHypothesis: Na recepcie zapisze ramiprl.\n",
      "Reference: Najlepiej w twoim przypadku sprawdzi się Amlodipina.\tHypothesis: Najlepiej w twoim przypadku sprawdzisz amiodipinę.\n",
      "Reference: Zalecam Amlodipinę, bo dobrze działa na nadciśnienie.\tHypothesis: Zalecam amlodipinę, bo dobrze działa na nadciśnienie.\n",
      "Reference: Na recepcie zapiszę Hydrochlorotiazyd.\tHypothesis: Na recepcie zapiszę hydrochorotiazyt.\n",
      "Reference: Powinnaś przyjmować Hydrochlorotiazyd na nadciśnienie.\tHypothesis: Pożynna się przyjmować hydrochlorotiazyt na nadciśnienie.\n",
      "Reference: Najlepiej w twoim przypadku sprawdzi się Losartan.\tHypothesis: Najlepiej w twoim przypadku sprawdzi się losartem.\n",
      "Reference: Możesz kupić w aptece Losartan, powinien pomóc.\tHypothesis: Możesz kupić w aptecjum sartan, powinien pomóc.\n",
      "Reference: Najlepiej w twoim przypadku sprawdzi się Avamina.\tHypothesis: Najlepiej w twoim przypadku sprawdzi się wamin.\n",
      "Reference: Powinnaś spróbować kuracji Avaminą.\tHypothesis: Pożyl naczyń powinna się spróbować w kuracie avaminu.\n",
      "Reference: Przepiszę ci Formetic, bo zwykle dobrze działa.\tHypothesis: Przepiszę onciwormetic, bo zwykle dobrze działa.\n",
      "Reference: Możesz kupić w aptece Formetic, powinien pomóc.\tHypothesis: Możesz kupić w Abtek Emf, powinien pomóc.\n",
      "Reference: Na recepcie zapiszę Glucophage XR jako lek na cukrzycę typu drugiego.\tHypothesis: Na recepcie zapisze glukofagu i seria colag na tkrzycy typu II.\n",
      "Reference: Możesz kupić w aptece Glucophage XR, powinien pomóc.\tHypothesis: Możesz kupić w aptecjum glukozofa GXR. Powinien pomóc.\n",
      "Reference: Możesz kupić w aptece Metformax, powinien pomóc.\tHypothesis: Możesz kupić w aptecjum Metformas. Powinien pomóc.\n",
      "Reference: Powinnaś przyjmować Metformax na cukrzycę typu drugiego.\tHypothesis: Pożynna się przyjmować w metformach z naczyń krzycy typu 2.\n",
      "Reference: Na recepcie zapiszę Xigduo.\tHypothesis: Na recepcie zapisze mk兹 g do.\n",
      "Reference: Na cukrzycę typu drugiego przepiszę ci Xigduo.\tHypothesis: Na cukrzycy typu drugiego przepiszę tkanki ksik dłu.\n",
      "Reference: Na recepcie zapiszę Synjardy.\tHypothesis: Na recepcie zapisze osniardy.\n",
      "Reference: Powinnaś spróbować kuracji Synjardy.\tHypothesis: Pożyl naczyń powinna się spróbować ku racji syniardy.\n",
      "Reference: Najlepiej w twoim przypadku sprawdzi się Actarosin.\tHypothesis: Najlepiej w twoim przypadku sprawdzi się o starości.\n",
      "Reference: Na recepcie zapiszę Actarosin.\tHypothesis: Na recepcie zapisze odstarłość.\n",
      "Reference: Powinnaś przyjmować Arterios na cukrzycę typu drugiego.\tHypothesis: Pożynnaś przyjmować arteriosnaduprzyce typu drugiego.\n",
      "Reference: Najlepiej w twoim przypadku sprawdzi się Arterios.\tHypothesis: Najlepiej w twoim przypadku sprawdzi się arterios.\n",
      "Reference: Przepiszę ci Metforminę, bo zwykle dobrze działa.\tHypothesis: Przepisze cimetforminy, bo zwykle dobrze działa.\n",
      "Reference: Możesz kupić w aptece Metforminę, powinien pomóc.\tHypothesis: Możesz kupić Wapę Cimetforminę. Powinien pomóc.\n",
      "Reference: Na recepcie zapiszę Sitagliptynę jako lek na cukrzycę typu drugiego.\tHypothesis: Na recepcie zapisze się tagliptyna jakoledna cukrzyca typu 2.\n",
      "Reference: Na cukrzycę typu drugiego przepiszę ci Sitagliptynę.\tHypothesis: Na co chrzyca typu drugiego przepisze ciśń i tkniętym.\n",
      "Reference: Na cukrzycę typu drugiego przepiszę ci Linagliptynę.\tHypothesis: Na cukrzycy typu drugiego przepisze klinem liptyny.\n",
      "Reference: Możesz kupić w aptece Linagliptynę, powinien pomóc.\tHypothesis: Możesz kupić wapnę Tc i negrytynę. Powinien pomóc.\n",
      "Reference: Najlepiej w twoim przypadku sprawdzi się Liraglutyd.\tHypothesis: Najlepiej w twoim przypadku sprawdzi się lirablutyt.\n",
      "Reference: Na recepcie zapiszę Liraglutyd.\tHypothesis: Na recepcie zapisze lirę w ucyt.\n",
      "Reference: Zalecam Dapagliflozynę, bo dobrze działa na cukrzycę typu drugiego.\tHypothesis: Zalecam depagliflozynę, bo dobrze działa na cukrzycy typu II.\n",
      "Reference: Powinnaś przyjmować Dapagliflozynę na cukrzycę typu drugiego.\tHypothesis: Pożinnaś przyjmować dopamidliwlozyna na cukrzycę typu drugiego.\n",
      "Reference: Jeśli masz wysoki cholesterol dobrze sprawdza się Crestor.\tHypothesis: Jeśli masz wysoki cholesterol, dobrze sprawdza się kresor.\n",
      "Reference: Przepiszę ci Crestor, bo zwykle dobrze działa.\tHypothesis: Przepiszę ciepłek kresu, bo zwykle dobrze działa.\n",
      "Reference: Najlepiej w twoim przypadku sprawdzi się Crosuvo.\tHypothesis: Najlepiej w twoim przypadku sprawdzi się krosso.\n",
      "Reference: Możesz kupić w aptece Crosuvo, powinien pomóc.\tHypothesis: Możysz kupić w aptece Kroszowo, powinien pomóc.\n",
      "Reference: Na wysoki cholesterol przepiszę ci Ridlip.\tHypothesis: Na wysokiej cholesterol przepisze chili-grip.\n",
      "Reference: Przepiszę ci Ridlip, bo zwykle dobrze działa.\tHypothesis: Przepiszę ciurki lilii, bo zwykle dobrze działa.\n",
      "Reference: Na wysoki cholesterol przepiszę ci Romazic.\tHypothesis: Na wysokich cholesterol przepiszę chiromazic.\n",
      "Reference: Powinnaś spróbować kuracji Romazicem.\tHypothesis: Pożyl powinna spróbować poradzić romazicę.\n",
      "Reference: Na recepcie zapiszę Rosucard.\tHypothesis: Na recepcie zapis rozsucard.\n",
      "Reference: Możesz kupić w aptece Rosucard, powinien pomóc.\tHypothesis: Możesz kupić w aptecjum rosłym sardynia. Powinien pomóc.\n",
      "Reference: Przepiszę ci Rosutrox, bo zwykle dobrze działa.\tHypothesis: Przepiszę ciurosłuproks, bo zwykle dobrze działa.\n",
      "Reference: Zalecam Rosutrox, bo dobrze działa na wysoki cholesterol.\tHypothesis: Zalecam rosutrok, bo dobrze działa na wysokie cholesterol.\n",
      "Reference: Możesz kupić w aptece Roswerę, powinien pomóc.\tHypothesis: Możesz kupić w aptecjum rosfery, powinien pomóc.\n",
      "Reference: Zalecam Roswerę, bo dobrze działa na wysoki cholesterol.\tHypothesis: Zalecam rosferę, bo dobrze działa na wysokiej cholesterol.\n",
      "Reference: Najlepiej w twoim przypadku sprawdzi się Suvardio.\tHypothesis: Najlepiej w twoim przypadku sprawdzi się suvargę.\n",
      "Reference: Jeśli masz wysoki cholesterol dobrze sprawdza się Suvardio.\tHypothesis: Jeśli masz wysoki cholesterol, dobrze sprawdza się suvardia.\n",
      "Reference: Na wysoki cholesterol przepiszę ci Zahron.\tHypothesis: Na wysokiej cholesterol przepisze ci zachron.\n",
      "Reference: Możesz kupić w aptece Zahron, powinien pomóc.\tHypothesis: Możysz kupić w aptecja Zakron, powinien pomóc.\n",
      "Reference: Jeśli masz wysoki cholesterol dobrze sprawdza się Zaranta.\tHypothesis: Jeśli masz wysokiej cholesterol, dobrze sprawdza się Zeranta.\n",
      "Reference: Na recepcie zapiszę Zarantę jako lek na wysoki cholesterol.\tHypothesis: Na recepcie zapiszę museladego rany jako lek na wysokie cholesterol.\n",
      "Reference: Na recepcie zapiszę Rosuvastatin Medical Valley.\tHypothesis: Na recepcie zapisze rosławostatinę Medical Valley.\n",
      "Reference: Możesz kupić w aptece Rosuvastatin Medical Valley, powinien pomóc.\tHypothesis: Możysz kupić w aorty cech rozrostu w Astarty Invenice w Lval Lake. Powinien pomóc.\n",
      "Reference: Najlepiej w twoim przypadku sprawdzi się Vigantoletten.\tHypothesis: Najlepiej w twoim przypadku sprawdzi się wigantoletem.\n",
      "Reference: Jeśli masz niedobór witaminy D dobrze sprawdza się Vigantoletten.\tHypothesis: Jeśli maż niedobór witaminy D, dobrze sprawdza się vigentoletę.\n",
      "Reference: Przepiszę ci Vigantol, bo zwykle dobrze działa.\tHypothesis: Przepisze cigarnol, bo zwykle dobrze działa.\n",
      "Reference: Na recepcie zapiszę Vigantol.\tHypothesis: Na recepcie zapisze Mviganto.\n",
      "Reference: Powinnaś spróbować kuracji Ibuvit D3.\tHypothesis: Pożyl mały, aora w prawej płuci, bez ognisk. \n",
      "Reference: Jeśli masz niedobór witaminy D dobrze sprawdza się Ibuvit D3.\tHypothesis: Jeśli masz niedobór witaminy D dobrze sprawdza się i buwity D3.\n",
      "Reference: Zalecam Biaron D, bo dobrze działa na niedobór witaminy D.\tHypothesis: Zalecam biolonę D, bo dobrze działa na niedobór witamin D.\n",
      "Reference: Najlepiej w twoim przypadku sprawdzi się Biaron D.\tHypothesis: Najlepiej w twoim przypadku sprawdzi się białonę.\n",
      "Reference: Przepiszę ci ApoD3, bo zwykle dobrze działa.\tHypothesis: Przepiszę ciapę do dęży, bo zwykle dobrze działa.\n",
      "Reference: Jeśli masz niedobór witaminy D dobrze sprawdza się ApoD3.\tHypothesis: Jeśli masz niedobór witaminy dożylnych sprawdzasz się apodegel.\n",
      "Reference: Przepiszę ci Devikap, bo zwykle dobrze działa.\tHypothesis: Przeproszę ci dywizjek, bo zwykle dobrze działa.\n",
      "Reference: Najlepiej w twoim przypadku sprawdzi się Devikap.\tHypothesis: Najlepiej w twoim przypadku sprawdzi się dywikap.\n",
      "Reference: Powinnaś spróbować kuracji Witaminą D3 Forte.\tHypothesis: Pożynna spróbowała o kuracji vitaminą D3-4.\n",
      "Reference: Powinnaś spróbować kuracji Witaminą D3 Forte.\tHypothesis: Pożyl należy spróbować kuracji witaminy D3-4.\n",
      "Reference: Na recepcie zapiszę Oriovit-D 1000 jako lek na niedobór witaminy D.\tHypothesis: Na recepcie zapiszę aoriowipę 1000 jk na niedobór witaminy D.\n",
      "Reference: Jeśli masz niedobór witaminy D dobrze sprawdza się Oriovit-D 1000.\tHypothesis: Jeśli masz niedobór witaminy T, dobrze sprawdza się ORIOVIC L.\n",
      "Reference: Na recepcie zapiszę Vigalex Bio jako lek na niedobór witaminy D.\tHypothesis: Na recepcie zapiszę wigalek z biakolek na niedobór witaminy D.\n",
      "Reference: Na niedobór witaminy D przepiszę ci Vigalex Bio.\tHypothesis: Na niedobór witamin D przepiszę kibikalek z biop.\n",
      "Reference: Zalecam Ospen 1000, bo dobrze działa na anginę.\tHypothesis: Zalecam ospę 1000, bo dobrze działa na ankile.\n",
      "Reference: Przepiszę ci Ospen 1000, bo zwykle dobrze działa.\tHypothesis: Przepisze cień 1000, bo zwykle dobrze działa.\n",
      "Reference: Najlepiej w twoim przypadku sprawdzi się Amotaks.\tHypothesis: Najlepiej w twoim przypadku sprawdzi się amotax.\n",
      "Reference: Przepiszę ci Amotaks, bo zwykle dobrze działa.\tHypothesis: Przepiszę cięsie Amotax, bo zwykle dobrze działa.\n",
      "Reference: Możesz kupić w aptece Augmentin, powinien pomóc.\tHypothesis: Możesz kupić w aptecjum augmentin, powinien pomóc.\n",
      "Reference: Powinnaś spróbować kuracji Augmentin.\tHypothesis: Pożyl mały, poza niemi, wskazana jest wskazana z cech serca.\n",
      "Reference: Na recepcie zapiszę Macromax jako lek na anginę.\tHypothesis: Na recepcie zapisze macromas, piekolek na anginie.\n",
      "Reference: Powinnaś spróbować kuracji Macromax.\tHypothesis: Pożyl należy spróbować do kuracji maszromos.\n",
      "Reference: Na anginę przepiszę ci Sumamed.\tHypothesis: Na anginele przepisem tisumamet.\n",
      "Reference: Zalecam Sumamed, bo dobrze działa na anginę.\tHypothesis: Zalecam sumometr, bo dobrze działa na anginy.\n",
      "Reference: Na recepcie zapiszę Amoksycylinę jako lek na anginę.\tHypothesis: Na recepcie zapis za amok ZC-lega jako lek na anginę.\n",
      "Reference: Zalecam Amoksycylinę, bo dobrze działa na anginę.\tHypothesis: Zalecam amosycylinę, bo dobrze działa na anginę.\n",
      "Reference: Przepiszę ci Omeprazol, bo zwykle dobrze działa.\tHypothesis: Przepiszę ci omf-l'Omf zl'l'l'l'l'l'l'l'l'l'l'l'l'l'l'l'l'l'l'l'l'l'l'l'l'l'l'l'l'l'l'l'l'l'l'l'l'l'l'l'l'l'l'l'l'l'l'l'l'l'l'l'l'l'l'l'l'l'l'l'l'l'l'l'l'l'l'l'l'l'l'l'l'l'l'l'l'l'l'l'l'l'l'l'l'l'l'l'l'l'l'l'l'l'l'l'l'l'l'l'l'l'l'l'l'l'l'l'l'l'l'l'l'l'l'l'l'l'l'l'l'l'l'l'l'l'l'l'l'l'l'l'l'l'l'l'l'l'l'l'l'l'l'l'l'l'l'l'l'l'l'l'l'l'l'l'l'l'l'l'l'l'l'l'l'l'l'l'l'l'l'l'l'l'l'l'l'l'l'l'l'l'l'l'l'l'l'l'l'l'l'l'l'l'l'l'l'l'l'l'l'l'l'z-z-z-z-z-z-z-z-z-z-z-z\n",
      "Reference: Powinnaś spróbować kuracji Omeprazolem.\tHypothesis: Pożyl należy spróbować do kuracji omeprezolem.\n",
      "Reference: Możesz kupić w aptece Pantoprazol, powinien pomóc.\tHypothesis: Możesz kupić w aptece Pantoprazo, powinien pomóc.\n",
      "Reference: Na recepcie zapiszę Pantoprazol jako lek na zgaga.\tHypothesis: Na recepcie zapisze pantoplazol jako lek nasgaga.\n",
      "Reference: Powinnaś przyjmować Laktulozę na zgaga.\tHypothesis: Pożynna się przyjmować laktulozę nazgakana.\n",
      "Reference: Zalecam Laktulozę, bo dobrze działa na zgaga.\tHypothesis: Zalecam laktulizę, bo dobrze działa nasz gadań.\n",
      "Reference: Jeśli masz zgaga dobrze sprawdza się Bisakodyl.\tHypothesis: Jeśli masz zgadza dobrze sprawdza się BIS-a kody.\n",
      "Reference: Zalecam Bisakodyl, bo dobrze działa na zgaga.\tHypothesis: Zalecam BIS-akodyl, bo dobrze działa nosgaga.\n",
      "Reference: Zalecam Sukralfat, bo dobrze działa na zgaga.\tHypothesis: Zalecam sukralfat, bo dobrze działa nazgaga.\n",
      "Reference: Jeśli masz zgaga dobrze sprawdza się Sukralfat.\tHypothesis: Jeśli masz zgadza, dobrze sprawdza się sukralfat.\n",
      "Reference: Na recepcie zapiszę Folik.\tHypothesis: Na recepcie zapisem folik.\n",
      "Reference: Przepiszę ci Folik, bo zwykle dobrze działa.\tHypothesis: Przepiszę ciolik, bo zwykle dobrze działa.\n",
      "Reference: Powinnaś przyjmować ActiFolin na profilaktyka.\tHypothesis: Pożynna świylka, zapewniona w 1 minutie ‒ w okolicy poprzednio. \n",
      "Reference: Najlepiej w twoim przypadku sprawdzi się ActiFolin.\tHypothesis: Najlepiej w twoim przypadku sprawdzi się accyty folii.\n",
      "Reference: Najlepiej w twoim przypadku sprawdzi się Aliness Kwas Foliowy.\tHypothesis: Najlepiej w twoim przypadku sprawdzi się aline z kwas foliowy.\n",
      "Reference: Przepiszę ci Aliness Kwas Foliowy, bo zwykle dobrze działa.\tHypothesis: Przepiszę ci eliny z kwas foliowy, bo zwykle dobrze działa.\n",
      "Reference: Możesz kupić w aptece D-Vitum Forte, powinien pomóc.\tHypothesis: Możesz kupić w aptecenitomfortem, powinien pomóc.\n",
      "Reference: Najlepiej w twoim przypadku sprawdzi się D-Vitum Forte.\tHypothesis: Najlepiej w twoim przypadku sprawdzi się dewitym fortem.\n",
      "Reference: Powinnaś spróbować kuracji Olicaps Witaminą D3.\tHypothesis: Pożynna spróbowała kuracji Olicap z witaminą D3.\n",
      "Reference: Na recepcie zapiszę Olicaps Witamina D3 jako lek na profilaktyka.\tHypothesis: Na recepcie zapisze olisaphsvitaminadetriakoleknaprofilaktyka.\n",
      "Reference: Powinnaś spróbować kuracji OstroVit Omega 3.\tHypothesis: Pożynna współpracjala kuracji ostrożo-witomegaczy.\n",
      "Reference: Na recepcie zapiszę OstroVit Omega 3 jako lek na profilaktyka.\tHypothesis: Na recepcie zapiszę ostrość omegarza w 1,3 mg i mleczka mleczka mleczka mleczka mleczka mleczka mleczka mleczka mleczka mleczka mleczka mleczka mleczka mleczka mleczka mleczka mleczka mleczka mleczka mleczka mleczka mleczka mleczka mleczka mleczka mleczka mleczka mleczka mleczka mleczka mleczka mleczka mleczka mleczka mleczka mleczka mleczka mleczka mleczka mleczka mleczka mleczka mleczka mleczka mleczka mleczka mleczka mleczka mleczka mleczka mleczka mleczka mleczka mleczka mleczka mleczka mleczka mleczka mleczka mleczka mleczka mleczka mleczka mleczka mleczka mleczka mleczka mleczka mleczka mleczka mleczka mleczka mleczka mleczka mleczka mleczka mleczka mleczka mleczka mleczka mleczka mleczka mleczka mleczka mleczka mleczka mleczka mleczka mleczka mleczka mleczka mleczka mleczka mleczka mleczka mleczka mleczka mleczka mleczka mleczka m begging, 1, 1,1,1,1,1,1,1,1,1,1\n",
      "Reference: Na recepcie zapiszę KFD Omega 3.\tHypothesis: Na recepcie zapiszę Kfd'Omega3.\n",
      "Reference: Przepiszę ci KFD Omega 3, bo zwykle dobrze działa.\tHypothesis: Przepiszę kwiat w DaOmega3, bo zwykle dobrze działa.\n",
      "Reference: Powinnaś spróbować kuracji Zolpidemem.\tHypothesis: Pożynna spróbowała z kuracją Zolpidemem.\n",
      "Reference: Zalecam Zolpidem, bo dobrze działa na bezsenność.\tHypothesis: Zalecam zorpięknięcie.\n",
      "Reference: Najlepiej w twoim przypadku sprawdzi się Zopiklon.\tHypothesis: Najlepiej w twoim przypadku sprawdzisz zopiklon.\n",
      "Reference: Na recepcie zapiszę Zopiklon.\tHypothesis: Na recepcie zapisze uzalpikłą.\n",
      "Reference: Na recepcie zapiszę Melatoninę.\tHypothesis: Na recepcie zapisze melatoninę.\n",
      "Reference: Najlepiej w twoim przypadku sprawdzi się Melatonina.\tHypothesis: Najlepiej w twoim przypadku sprawdzi się melatonina.\n",
      "Reference: Przepiszę ci Trazodon, bo zwykle dobrze działa.\tHypothesis: Przepisze triazodon, bo zwykle dobrze działa.\n",
      "Reference: Na recepcie zapiszę Trazodon.\tHypothesis: Na recepcie zapisze tranzodon.\n",
      "Reference: Zalecam Mirtazapinę, bo dobrze działa na bezsenność.\tHypothesis: Zalecam mirta za minutę, bo dobrze działa na bezsenność.\n",
      "Reference: Powinnaś spróbować kuracji Mirtazapiną.\tHypothesis: Pożylna zpróbowała kuracja jelita z apiną.\n"
     ]
    }
   ],
   "source": [
    "for ref, hyp in zip(references, hypotheses):\n",
    "    print(f\"Reference: {ref}\\tHypothesis: {hyp}\")"
   ]
  },
  {
   "cell_type": "code",
   "execution_count": 147,
   "id": "09a570d3",
   "metadata": {},
   "outputs": [],
   "source": [
    "folder = \"subset\"\n",
    "files = [f for f in os.listdir(folder) if os.path.isfile(os.path.join(folder, f))]"
   ]
  },
  {
   "cell_type": "code",
   "execution_count": 148,
   "id": "ad1b0df7",
   "metadata": {},
   "outputs": [],
   "source": [
    "subset_dataset = make_dataset(\"subset\", files, leki)"
   ]
  },
  {
   "cell_type": "code",
   "execution_count": 149,
   "id": "670385a0",
   "metadata": {},
   "outputs": [
    {
     "name": "stderr",
     "output_type": "stream",
     "text": [
      "Transcribing: 100%|██████████| 75/75 [10:27<00:00,  8.36s/it]\n"
     ]
    }
   ],
   "source": [
    "hypotheses = []\n",
    "references = []\n",
    "\n",
    "for ex in tqdm(subset_dataset, desc=\"Transcribing\"):\n",
    "    transcription = transcribe_example(ex)\n",
    "    hypotheses.append(transcription)\n",
    "    references.append(ex[\"phrase\"])"
   ]
  },
  {
   "cell_type": "code",
   "execution_count": 150,
   "id": "00358614",
   "metadata": {},
   "outputs": [
    {
     "name": "stdout",
     "output_type": "stream",
     "text": [
      "Subset CER: 1.0990\n"
     ]
    }
   ],
   "source": [
    "cer_score = cer(references, hypotheses)\n",
    "\n",
    "print(f\"Subset CER: {cer_score:.4f}\")"
   ]
  },
  {
   "cell_type": "code",
   "execution_count": 151,
   "id": "19210543",
   "metadata": {},
   "outputs": [
    {
     "name": "stdout",
     "output_type": "stream",
     "text": [
      "Reference: Actarosin\tHypothesis: Ostarosnie.\n",
      "Reference: ActiFolin\tHypothesis: Abstryj folii.\n",
      "Reference: Aliness Kwas Foliowy\tHypothesis: Alinis quas foillowy.\n",
      "Reference: Amlodipina\tHypothesis: Auto do dipina.\n",
      "Reference: Amoksycylina\tHypothesis: Amoż licejny.\n",
      "Reference: Amotaks\tHypothesis: Amotax.\n",
      "Reference: ApoD3\tHypothesis: Apoedektyczna opieka w KG.\n",
      "Reference: Arterios\tHypothesis: Aktelio.\n",
      "Reference: Augmentin\tHypothesis: Augunantnie.\n",
      "Reference: Avamina\tHypothesis: Awa minął.\n",
      "Reference: Biaron D\tHypothesis: Jak odbiór rąde.\n",
      "Reference: Bibloc\tHypothesis: PiWC.\n",
      "Reference: Bisakodyl\tHypothesis: Dli zakończonych leków nie zalecanią.\n",
      "Reference: Bisocard\tHypothesis: I sotoc.\n",
      "Reference: Bisoprolol\tHypothesis: Nie zauważyłem.\n",
      "Reference: Bisoratio\tHypothesis: Wii sora dnia.\n",
      "Reference: Concor\tHypothesis: Ponco\".\n",
      "Reference: Coronal\tHypothesis: Trona.\n",
      "Reference: Crestor\tHypothesis: Krystolat w kontrolnym ZWK nie obniża się.\n",
      "Reference: Crosuvo\tHypothesis: Proszę wą krossofool.\n",
      "Reference: D-Vitum Forte\tHypothesis: Dewidum fort.\n",
      "Reference: Dapagliflozyna\tHypothesis: Na pali flozyna.\n",
      "Reference: Devikap\tHypothesis: Dewikuj.\n",
      "Reference: Dolgit\tHypothesis: Dołóż ich.\n",
      "Reference: Folik\tHypothesis: Tarczyca położona bez objawów lewej prawidłowo, bez objawu lewej prawidłowa.\n",
      "Reference: Formetic\tHypothesis: Coromak 3.\n",
      "Reference: Glucophage XR\tHypothesis: Dlu cofady i ser.\n",
      "Reference: Hydrochlorotiazyd\tHypothesis: Kieruję do oddziału opiekuńczo-leczniczego.\n",
      "Reference: Ibuprom\tHypothesis: I w u prom.\n",
      "Reference: Ibuvit D3\tHypothesis: I buwid dęży.\n",
      "Reference: KFD Omega 3\tHypothesis: Wykonano 3-kulinarne opieki wskapy w ptaszce lewej.\n",
      "Reference: Laktuloza\tHypothesis: Lak tło za.\n",
      "Reference: Linagliptyna\tHypothesis: Linna w lewym tlenie.\n",
      "Reference: Liraglutyd\tHypothesis: Licza odbytka.\n",
      "Reference: Losartan\tHypothesis: Losaktan.\n",
      "Reference: Macromax\tHypothesis: Mat z Romaks.\n",
      "Reference: Melatonina\tHypothesis: Na latarninę.\n",
      "Reference: Metafen\tHypothesis: Potrzebny tarfem.\n",
      "Reference: Metformax\tHypothesis: Netformas.\n",
      "Reference: Metformina\tHypothesis: Miet forminy.\n",
      "Reference: Mirtazapina\tHypothesis: Nie ta zapina.\n",
      "Reference: Nurofen Forte\tHypothesis: Nurowendą fortepia.\n",
      "Reference: Olicaps Witamina D3\tHypothesis: Oliczaw z Vitaminą D3.\n",
      "Reference: Omeprazol\tHypothesis: One prawo.\n",
      "Reference: Oriovit-D 1000\tHypothesis: Orejowis 2000.\n",
      "Reference: Ospen 1000\tHypothesis: Osman dźwięk.\n",
      "Reference: OstroVit Omega 3\tHypothesis: Ostro widoczny, o megan 3.\n",
      "Reference: Pantoprazol\tHypothesis: Pan to prawo.\n",
      "Reference: Perindopryl\tHypothesis: Pewie indPelindopryduk.\n",
      "Reference: Prestilol\tHypothesis: Przez tlu.\n",
      "Reference: Ramipryl\tHypothesis: Ramie prdeby.\n",
      "Reference: Ridlip\tHypothesis: Rydzi.\n",
      "Reference: Romazic\tHypothesis: Ruch maficj.\n",
      "Reference: Rosucard\tHypothesis: Wąsł udcałek\n",
      "Reference: Rosutrox\tHypothesis: Promis z UPRONSUTROPS.\n",
      "Reference: Rosuvastatin Medical Valley\tHypothesis: Proszę w ostatnim menu celewalej.\n",
      "Reference: Roswera\tHypothesis: Osztywa.\n",
      "Reference: Sitagliptyna\tHypothesis: Człot rytmu.\n",
      "Reference: Sobycor\tHypothesis: Za byco!\n",
      "Reference: Sukralfat\tHypothesis: Cukrojelfat.\n",
      "Reference: Sumamed\tHypothesis: Człomamy.\n",
      "Reference: Suvardio\tHypothesis: Cukwa rdziu.\n",
      "Reference: Synjardy\tHypothesis: Kieruję do oddziału leczenia leczenia niacu.\n",
      "Reference: Trazodon\tHypothesis: Tarza z odą.\n",
      "Reference: Vigalex Bio\tHypothesis: Wigalek w biur.\n",
      "Reference: Vigalex Forte\tHypothesis: Widalek z FORDA.\n",
      "Reference: Vigalex Max\tHypothesis: GDX max.\n",
      "Reference: Vigantol\tHypothesis: Zwijam to.\n",
      "Reference: Vigantoletten\tHypothesis: Ziżam toletę.\n",
      "Reference: Witamina D3 Forte\tHypothesis: Witamina D 3-4.\n",
      "Reference: Xigduo\tHypothesis: Cykl do.\n",
      "Reference: Zahron\tHypothesis: Zakruntł.\n",
      "Reference: Zaranta\tHypothesis: Za rantę!\n",
      "Reference: Zolpidem\tHypothesis: Zapiekuje 1.1 M.\n",
      "Reference: Zopiklon\tHypothesis: Zapiekuj.\n"
     ]
    }
   ],
   "source": [
    "for ref, hyp in zip(references, hypotheses):\n",
    "    print(f\"Reference: {ref}\\tHypothesis: {hyp}\")"
   ]
  }
 ],
 "metadata": {
  "kernelspec": {
   "display_name": "Python 3",
   "language": "python",
   "name": "python3"
  },
  "language_info": {
   "codemirror_mode": {
    "name": "ipython",
    "version": 3
   },
   "file_extension": ".py",
   "mimetype": "text/x-python",
   "name": "python",
   "nbconvert_exporter": "python",
   "pygments_lexer": "ipython3",
   "version": "3.13.5"
  }
 },
 "nbformat": 4,
 "nbformat_minor": 5
}
