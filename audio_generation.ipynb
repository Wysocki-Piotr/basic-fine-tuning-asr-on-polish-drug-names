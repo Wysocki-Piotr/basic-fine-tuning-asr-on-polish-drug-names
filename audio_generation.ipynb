{
 "cells": [
  {
   "cell_type": "code",
   "execution_count": 4,
   "id": "79895641",
   "metadata": {},
   "outputs": [],
   "source": [
    "import csv\n",
    "import os\n",
    "import random\n",
    "import subprocess\n",
    "from pathlib import Path\n",
    "from piper import PiperVoice\n",
    "import wave"
   ]
  },
  {
   "cell_type": "code",
   "execution_count": 15,
   "id": "2af9d2c5",
   "metadata": {},
   "outputs": [],
   "source": [
    "MODEL_GOSIA = r\"C:/Users/Admin/Downloads/Posts.csv/pl_PL-gosia-medium.onnx\"\n",
    "\n",
    "MODEL_DARK = r\"C:/Users/Admin/Downloads/Posts.csv/pl_PL-darkman-medium.onnx\"\n",
    "\n",
    "MODEL_MC = r\"C:/Users/Admin/Downloads/Posts.csv/pl_PL-mc_speech-medium.onnx\"\n",
    "\n",
    "INPUT_DIR = r\"C:/Users/Admin/Downloads/Posts.csv\"\n",
    "CSV_FILES = {\n",
    "    \"train\": os.path.join(INPUT_DIR, \"train.csv\"),\n",
    "    \"dev\":   os.path.join(INPUT_DIR, \"dev.csv\"),\n",
    "    \"test\":  os.path.join(INPUT_DIR, \"test.csv\"),\n",
    "}\n",
    "\n",
    "OUT_BASE = r\"C:/Users/Admin/Downloads/piper_out/Posts.csv\"\n",
    "os.makedirs(OUT_BASE, exist_ok=True)\n",
    "\n",
    "SPEED_MIN = 0.90\n",
    "SPEED_MAX = 1.12\n",
    "REVERB_PROB = 0.18   "
   ]
  },
  {
   "cell_type": "code",
   "execution_count": null,
   "id": "e222955c",
   "metadata": {},
   "outputs": [],
   "source": [
    "def ffmpeg_change_speed_and_reverb(in_wav, out_wav, speed=1.0, add_reverb=False):\n",
    "    filters = []\n",
    "    if abs(speed - 1.0) > 0.001:\n",
    "        filters.append(f\"atempo={speed:.3f}\")\n",
    "    if add_reverb:\n",
    "        filters.append(\"aecho=0.8:0.9:1000:0.3\")\n",
    "    filter_str = \",\".join(filters) if filters else None\n",
    "\n",
    "    cmd = [\"ffmpeg\", \"-y\", \"-hide_banner\", \"-loglevel\", \"error\", \"-i\", in_wav]\n",
    "    if filter_str:\n",
    "        cmd += [\"-af\", filter_str]\n",
    "    cmd += [out_wav]\n",
    "    subprocess.run(cmd, check=True)"
   ]
  },
  {
   "cell_type": "code",
   "execution_count": 20,
   "id": "0aef59ee",
   "metadata": {},
   "outputs": [],
   "source": [
    "def synthesize_with_piper(voice_obj, text, tmp_path):\n",
    "    if os.path.exists(tmp_path):\n",
    "        os.remove(tmp_path)\n",
    "    with wave.open(tmp_path, \"wb\") as f:\n",
    "        voice_obj.synthesize_wav(text, f)"
   ]
  },
  {
   "cell_type": "code",
   "execution_count": null,
   "id": "bdd6ae7f",
   "metadata": {},
   "outputs": [],
   "source": [
    "def process_split(split_name, csv_path, out_split_dir,\n",
    "                  voice_gosia, voice_dark, voice_mc):\n",
    "    os.makedirs(out_split_dir, exist_ok=True)\n",
    "    out_rows = []\n",
    "    with open(csv_path, encoding=\"utf-8\") as f:\n",
    "        reader = csv.DictReader(f, delimiter=\"|\")\n",
    "        for i, row in enumerate(reader, start=1):\n",
    "            utt_id = row[\"utt_id\"]\n",
    "            speaker = row.get(\"speaker\", \"male\").lower()\n",
    "            text = row[\"text\"]\n",
    "\n",
    "            if speaker == \"male\":\n",
    "                chosen = random.choice([\"dark\", \"mc\"])\n",
    "                voice_obj = voice_dark if chosen == \"dark\" else voice_mc\n",
    "            else:\n",
    "                voice_obj = voice_gosia\n",
    "\n",
    "            tmp_wav = os.path.join(out_split_dir, f\"{utt_id}.tmp.wav\")\n",
    "            final_wav = os.path.join(out_split_dir, f\"{utt_id}.wav\")\n",
    "\n",
    "            synthesize_with_piper(voice_obj, text, tmp_wav)\n",
    "\n",
    "            speed = random.uniform(SPEED_MIN, SPEED_MAX)\n",
    "            add_reverb = (random.random() < REVERB_PROB)\n",
    "\n",
    "            if abs(speed - 1.0) < 0.001 and not add_reverb:\n",
    "                os.replace(tmp_wav, final_wav)\n",
    "            else:\n",
    "                ffmpeg_change_speed_and_reverb(tmp_wav, final_wav, speed=speed, add_reverb=add_reverb)\n",
    "                os.remove(tmp_wav)\n",
    "\n",
    "\n",
    "            out_rows.append({\n",
    "                \"utt_id\": utt_id,\n",
    "                \"wav_path\": final_wav,\n",
    "                \"speaker\": speaker,\n",
    "                \"text\": text\n",
    "            })\n",
    "\n",
    "    manifest_path = os.path.join(OUT_BASE, f\"{split_name}_manifest.csv\")\n",
    "    with open(manifest_path, \"w\", encoding=\"utf-8\", newline=\"\") as outf:\n",
    "        writer = csv.DictWriter(outf, fieldnames=[\"utt_id\",\"wav_path\",\"speaker\",\"text\"], delimiter=\"|\")\n",
    "        writer.writeheader()\n",
    "        for r in out_rows:\n",
    "            writer.writerow(r)\n",
    "    print(f\"[{split_name}] Zapisano {len(out_rows)} plików. Manifest: {manifest_path}\")\n",
    "    return manifest_path\n",
    "\n"
   ]
  },
  {
   "cell_type": "code",
   "execution_count": 22,
   "id": "557016bf",
   "metadata": {},
   "outputs": [
    {
     "name": "stdout",
     "output_type": "stream",
     "text": [
      "[train] Zapisano 1168 plików. Manifest: C:/Users/Admin/Downloads/piper_out/Posts.csv\\train_manifest.csv\n",
      "[dev] Zapisano 146 plików. Manifest: C:/Users/Admin/Downloads/piper_out/Posts.csv\\dev_manifest.csv\n",
      "[test] Zapisano 146 plików. Manifest: C:/Users/Admin/Downloads/piper_out/Posts.csv\\test_manifest.csv\n"
     ]
    }
   ],
   "source": [
    "voice_gosia = PiperVoice.load(MODEL_GOSIA)\n",
    "voice_dark  = PiperVoice.load(MODEL_DARK)\n",
    "voice_mc    = PiperVoice.load(MODEL_MC)\n",
    "\n",
    "for split, csvpath in CSV_FILES.items():\n",
    "    out_dir = os.path.join(OUT_BASE, split)\n",
    "    process_split(split, csvpath, out_dir, voice_gosia, voice_dark, voice_mc)"
   ]
  }
 ],
 "metadata": {
  "kernelspec": {
   "display_name": "Python 3",
   "language": "python",
   "name": "python3"
  },
  "language_info": {
   "codemirror_mode": {
    "name": "ipython",
    "version": 3
   },
   "file_extension": ".py",
   "mimetype": "text/x-python",
   "name": "python",
   "nbconvert_exporter": "python",
   "pygments_lexer": "ipython3",
   "version": "3.13.5"
  }
 },
 "nbformat": 4,
 "nbformat_minor": 5
}
