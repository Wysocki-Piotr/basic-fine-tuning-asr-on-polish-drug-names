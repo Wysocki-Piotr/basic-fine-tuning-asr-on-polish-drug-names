{
 "cells": [
  {
   "cell_type": "markdown",
   "id": "60410b40",
   "metadata": {},
   "source": [
    "### Preliminary benchmark"
   ]
  },
  {
   "cell_type": "code",
   "execution_count": 1,
   "id": "fc547aba",
   "metadata": {},
   "outputs": [
    {
     "name": "stderr",
     "output_type": "stream",
     "text": [
      "c:\\Users\\Admin\\AppData\\Local\\Programs\\Python\\Python313\\Lib\\site-packages\\tqdm\\auto.py:21: TqdmWarning: IProgress not found. Please update jupyter and ipywidgets. See https://ipywidgets.readthedocs.io/en/stable/user_install.html\n",
      "  from .autonotebook import tqdm as notebook_tqdm\n"
     ]
    }
   ],
   "source": [
    "import pandas as pd\n",
    "import os\n",
    "from transformers import (WhisperProcessor, WhisperForConditionalGeneration,Seq2SeqTrainingArguments,\n",
    "    Seq2SeqTrainer,\n",
    "    default_data_collator, TrainingArguments, Trainer\n",
    ")\n",
    "import torchaudio\n",
    "import torch\n",
    "from peft import PeftModel, PeftConfig, PeftType\n",
    "from datasets import Features, Value, Audio, load_dataset, Dataset\n",
    "import kagglehub\n",
    "from jiwer import wer,cer\n",
    "from tqdm import tqdm\n",
    "import numpy as np\n",
    "import torch\n",
    "from transformers.generation.logits_process import LogitsProcessorList, SuppressTokensLogitsProcessor\n",
    "from transformers import LogitsProcessor\n",
    "from rapidfuzz import process, fuzz\n",
    "import requests\n",
    "from peft import get_peft_model, LoraConfig, prepare_model_for_kbit_training\n",
    "import evaluate\n",
    "from typing import Dict, List, Any\n",
    "import torch.nn.functional as F\n",
    "from torch import nn\n",
    "from torch.utils.data import DataLoader\n",
    "from tqdm.auto import tqdm\n",
    "from torch.nn.utils.rnn import pad_sequence"
   ]
  },
  {
   "cell_type": "code",
   "execution_count": 49,
   "id": "14262789",
   "metadata": {},
   "outputs": [],
   "source": [
    "dev_manifest = pd.read_csv(\"piper_out/dev_manifest.csv\", sep = \"|\")\n",
    "train_manifest = pd.read_csv(\"piper_out/train_manifest.csv\", sep = \"|\")\n",
    "test_manifest = pd.read_csv(\"piper_out/test_manifest.csv\", sep = \"|\")"
   ]
  },
  {
   "cell_type": "code",
   "execution_count": 50,
   "id": "a163ac5f",
   "metadata": {},
   "outputs": [],
   "source": [
    "audio_files = dev_manifest[\"wav_path\"]\n",
    "audio_files = [os.path.basename(f) for f in audio_files]\n",
    "references = dev_manifest[\"text\"].tolist()"
   ]
  },
  {
   "cell_type": "code",
   "execution_count": 51,
   "id": "bbafe1ad",
   "metadata": {},
   "outputs": [],
   "source": [
    "with open(\"leki_nom.txt\", \"r\", encoding=\"utf-8\") as f:\n",
    "    leki = f.read().splitlines()"
   ]
  },
  {
   "cell_type": "code",
   "execution_count": 10,
   "id": "1e3912ad",
   "metadata": {},
   "outputs": [],
   "source": [
    "download_dir = \"C:/Users/Admin/Downloads/Posts.csv\"\n",
    "\n",
    "path = kagglehub.model_download(\n",
    "    \"msxksm/whisper-medium-medical-pl/transformers/default\"\n",
    ")"
   ]
  },
  {
   "cell_type": "code",
   "execution_count": null,
   "id": "da78057f",
   "metadata": {},
   "outputs": [],
   "source": [
    "api_key = \"<together.ai api key>\""
   ]
  },
  {
   "cell_type": "code",
   "execution_count": 11,
   "id": "b25cf9e8",
   "metadata": {},
   "outputs": [],
   "source": [
    "checkpoint = \"natural_anonym_synth\"\n",
    "SAMPLING_RATE = 16000\n",
    "language = \"pl\"\n",
    "task = \"transcribe\"\n",
    "peft_config = PeftConfig.from_pretrained(checkpoint) \n",
    "model = WhisperForConditionalGeneration.from_pretrained(peft_config.base_model_name_or_path)\n",
    "model = PeftModel.from_pretrained(model, checkpoint)\n",
    "merged_model = model.merge_and_unload()\n",
    "processor = WhisperProcessor.from_pretrained(peft_config.base_model_name_or_path, language=language, task=task)\n",
    "forced_decoder_ids = processor.get_decoder_prompt_ids(language=language, task=task)"
   ]
  },
  {
   "cell_type": "code",
   "execution_count": 9,
   "id": "2091ae7c",
   "metadata": {},
   "outputs": [],
   "source": [
    "def make_dataset(audio_folder, audio_files, references):\n",
    "    examples = []\n",
    "    for audio, ref in zip(audio_files, references):\n",
    "        filename = os.path.join(audio_folder, audio)\n",
    "        waveform, sr = torchaudio.load(filename)\n",
    "        if sr != SAMPLING_RATE:\n",
    "            waveform = torchaudio.transforms.Resample(sr, SAMPLING_RATE)(waveform)\n",
    "        if waveform.shape[0] > 1:\n",
    "            waveform = torch.mean(waveform, dim=0, keepdim=True)\n",
    "        \n",
    "        examples.append({\"waveform\": waveform, \"phrase\": ref})\n",
    "    return examples"
   ]
  },
  {
   "cell_type": "code",
   "execution_count": 23,
   "id": "1a4fd18a",
   "metadata": {},
   "outputs": [],
   "source": [
    "class BiasLogitsProcessor(LogitsProcessor):\n",
    "    def __init__(self, bias_words, processor, boost=5.0):\n",
    "        self.bias_token_ids = set()\n",
    "        for word in bias_words:\n",
    "            ids = processor.tokenizer.encode(word, add_special_tokens=False)\n",
    "            self.bias_token_ids.update(ids)\n",
    "        self.boost = boost\n",
    "    def __call__(self, input_ids, scores):\n",
    "        for token_id in self.bias_token_ids:\n",
    "            if token_id < scores.shape[-1]:\n",
    "                scores[:, token_id] += self.boost\n",
    "        return scores\n"
   ]
  },
  {
   "cell_type": "code",
   "execution_count": null,
   "id": "10aa6a92",
   "metadata": {},
   "outputs": [],
   "source": [
    "def transcribe_example(\n",
    "    example,\n",
    "    initial_prompt=None,\n",
    "    bad_words=None,    \n",
    "    bias_words = None, boost = 1,\n",
    "    llm = None\n",
    "):\n",
    "    input_features = processor(\n",
    "        example[\"waveform\"].squeeze(0),\n",
    "        sampling_rate=SAMPLING_RATE,\n",
    "        return_tensors=\"pt\"\n",
    "    ).input_features\n",
    "\n",
    "    decoder_input_ids = None\n",
    "    if initial_prompt:\n",
    "        prompt_ids = processor.tokenizer(\n",
    "            initial_prompt,\n",
    "            add_special_tokens=False,\n",
    "            return_tensors=\"pt\"\n",
    "        ).input_ids  \n",
    "\n",
    "        forced_ids = torch.tensor([[tok_id for _, tok_id in forced_decoder_ids]])  \n",
    "\n",
    "        decoder_input_ids = torch.cat([prompt_ids, forced_ids], dim=1)      \n",
    "\n",
    "\n",
    "    bad_words_ids = None\n",
    "    if bad_words and len(bad_words) > 0:\n",
    "        bad_words_ids = processor.tokenizer(\n",
    "            bad_words,\n",
    "            add_special_tokens=False\n",
    "        ).input_ids  \n",
    "    \n",
    "    logits_processor_list = []\n",
    "    if bias_words and len(bias_words) > 0:\n",
    "        bias_processor = BiasLogitsProcessor(bias_words, processor, boost=boost)\n",
    "        logits_processor_list.append(bias_processor)\n",
    "\n",
    "    with torch.no_grad():\n",
    "        if decoder_input_ids is not None:\n",
    "            predicted_ids = merged_model.generate( input_features, decoder_input_ids=decoder_input_ids,\n",
    "                                                   bad_words_ids = bad_words_ids, num_beams=boost,\n",
    "            logits_processor=logits_processor_list )[0] \n",
    "        else: \n",
    "            predicted_ids = merged_model.generate( input_features, forced_decoder_ids=forced_decoder_ids,\n",
    "                                                   bad_words_ids = bad_words_ids, num_beams=boost,\n",
    "            logits_processor=logits_processor_list )[0]\n",
    "\n",
    "    transcription = processor.decode(predicted_ids, skip_special_tokens=True)\n",
    "    return transcription\n",
    "\n"
   ]
  },
  {
   "cell_type": "code",
   "execution_count": 38,
   "id": "93443818",
   "metadata": {},
   "outputs": [],
   "source": [
    "def postprocess_transcription(transcription, known_terms, threshold=85):\n",
    "    words = transcription.split()\n",
    "    corrected = []\n",
    "    for w in words:\n",
    "        match, score, _ = process.extractOne(w, known_terms, scorer=fuzz.ratio)\n",
    "        if score >= threshold:\n",
    "            corrected.append(match)\n",
    "        else:\n",
    "            corrected.append(w)\n",
    "    return \" \".join(corrected)"
   ]
  },
  {
   "cell_type": "code",
   "execution_count": 7,
   "id": "c8b8f7fb",
   "metadata": {},
   "outputs": [],
   "source": [
    "def correct_with_llm(transcription, api_key, model=\"meta-llama/Llama-4-Maverick-17B-128E-Instruct-FP8\"):\n",
    "    url = \"https://api.together.xyz/v1/chat/completions\"\n",
    "    headers = {\"Authorization\": f\"Bearer {api_key}\", \"Content-Type\": \"application/json\"}\n",
    "\n",
    "    prompt = f\"\"\"\n",
    "    Jesteś ekspertem medycznym. Oto transkrypcja mowy:\n",
    "    ---\n",
    "    {transcription}\n",
    "    ---\n",
    "    Popraw błędy językowe i zamień nieprecyzyjne wyrażenia\n",
    "    na właściwe terminy medyczne. Nie dodawaj nowych informacji.\n",
    "    Zwróć tylko poprawioną wersję.\n",
    "    \"\"\"\n",
    "\n",
    "    payload = {\n",
    "        \"model\": model,\n",
    "        \"messages\": [{\"role\": \"user\", \"content\": prompt}],\n",
    "        \"max_tokens\": 512,\n",
    "        \"temperature\": 0.2\n",
    "    }\n",
    "\n",
    "    response = requests.post(url, headers=headers, json=payload)\n",
    "    response.raise_for_status()\n",
    "    return response.json()[\"choices\"][0][\"message\"][\"content\"].strip()"
   ]
  },
  {
   "cell_type": "code",
   "execution_count": 52,
   "id": "ce85c21e",
   "metadata": {},
   "outputs": [
    {
     "name": "stderr",
     "output_type": "stream",
     "text": [
      "c:\\Users\\Admin\\AppData\\Local\\Programs\\Python\\Python313\\Lib\\site-packages\\torchaudio\\_backend\\utils.py:213: UserWarning: In 2.9, this function's implementation will be changed to use torchaudio.load_with_torchcodec` under the hood. Some parameters like ``normalize``, ``format``, ``buffer_size``, and ``backend`` will be ignored. We recommend that you port your code to rely directly on TorchCodec's decoder instead: https://docs.pytorch.org/torchcodec/stable/generated/torchcodec.decoders.AudioDecoder.html#torchcodec.decoders.AudioDecoder.\n",
      "  warnings.warn(\n"
     ]
    }
   ],
   "source": [
    "dataset = make_dataset(\"dev_noisy\", audio_files, references)"
   ]
  },
  {
   "cell_type": "code",
   "execution_count": 53,
   "id": "78229b2e",
   "metadata": {},
   "outputs": [],
   "source": [
    "audio_files = train_manifest[\"wav_path\"]\n",
    "audio_files = [os.path.basename(f) for f in audio_files]\n",
    "references_train = train_manifest[\"text\"].tolist()"
   ]
  },
  {
   "cell_type": "code",
   "execution_count": 54,
   "id": "c71c042e",
   "metadata": {},
   "outputs": [],
   "source": [
    "folder = \"train_noisy\"\n",
    "folder_files = [f for f in os.listdir(folder) if os.path.isfile(os.path.join(folder, f))]\n",
    "folder_set = set(folder_files)\n",
    "audio_files = [f for f in audio_files if f in folder_set]"
   ]
  },
  {
   "cell_type": "code",
   "execution_count": 63,
   "id": "2efdaa29",
   "metadata": {},
   "outputs": [
    {
     "name": "stderr",
     "output_type": "stream",
     "text": [
      "c:\\Users\\Admin\\AppData\\Local\\Programs\\Python\\Python313\\Lib\\site-packages\\torchaudio\\_backend\\utils.py:213: UserWarning: In 2.9, this function's implementation will be changed to use torchaudio.load_with_torchcodec` under the hood. Some parameters like ``normalize``, ``format``, ``buffer_size``, and ``backend`` will be ignored. We recommend that you port your code to rely directly on TorchCodec's decoder instead: https://docs.pytorch.org/torchcodec/stable/generated/torchcodec.decoders.AudioDecoder.html#torchcodec.decoders.AudioDecoder.\n",
      "  warnings.warn(\n"
     ]
    }
   ],
   "source": [
    "train_dataset = make_dataset(\"train_noisy\", audio_files, references_train)"
   ]
  },
  {
   "cell_type": "code",
   "execution_count": null,
   "id": "b17bf18e",
   "metadata": {},
   "outputs": [],
   "source": [
    "hypotheses = []\n",
    "references = []\n",
    "\n",
    "for ex in tqdm(dataset, desc=\"Transcribing\"):\n",
    "    transcription = transcribe_example(ex)\n",
    "    hypotheses.append(transcription)\n",
    "    references.append(ex[\"phrase\"])"
   ]
  },
  {
   "cell_type": "code",
   "execution_count": 111,
   "id": "3614e78e",
   "metadata": {},
   "outputs": [
    {
     "name": "stdout",
     "output_type": "stream",
     "text": [
      "Subset WER: 0.9536\n",
      "Subset CER: 0.5920\n"
     ]
    }
   ],
   "source": [
    "wer_score = wer(references, hypotheses)\n",
    "cer_score = cer(references, hypotheses)\n",
    "\n",
    "print(f\"Subset WER: {wer_score:.4f}\")\n",
    "print(f\"Subset CER: {cer_score:.4f}\")"
   ]
  },
  {
   "cell_type": "code",
   "execution_count": 112,
   "id": "9023baff",
   "metadata": {},
   "outputs": [
    {
     "name": "stdout",
     "output_type": "stream",
     "text": [
      "Reference: Powinnaś spróbować kuracji Ibupromem.\tHypothesis: Po winu nie spróbować kuracji w upromem.\n",
      "Reference: Najlepiej w twoim przypadku sprawdzi się Ibuprom.\tHypothesis: Najlepiej w twoim przypadku sprawdzi się IBU-PRO.\n",
      "Reference: Powinnaś spróbować kuracji Metafenem.\tHypothesis: Pożynne spróbować kuracji metafenem.\n",
      "Reference: Możesz kupić w aptece Metafen, powinien pomóc.\tHypothesis: Możesz kupić w aptycy metafem, powinien pomóc.\n",
      "Reference: Najlepiej w twoim przypadku sprawdzi się Nurofen Forte.\tHypothesis: Najlepiej w twoim przypadku sprawdzi się nurowenworte.\n",
      "Reference: Zalecam Nurofen Forte, bo dobrze działa na ból i stan zapalny.\tHypothesis: Zalecam norowę Fortem, bo dobrze działa nabór i stan zapalny.\n",
      "Reference: Przepiszę ci Dolgit, bo zwykle dobrze działa.\tHypothesis: Przepiszę ci doldit w osłupę, pobudzę węzeł węzeł węzeł węzeł węzeł węzeł węzeł węzeł węzeł węzeł węzeł węzeł węzeł węzeł węzeł węzeł węzeł węzeł węzeł węzeł węzeł węzeł węzeł węzeł węzeł węzeł węzeł węzeł węzeł węzeł węzeł węzeł węzeł węzeł węzeł węzeł węzeł węzeł węzeł węzeł węzeł węzeł węzeł węzeł węzeł węzeł węzeł węzeł węzeł węzeł węzeł węzeł węzeł węzeł węzeł węzecak węzec o węzec o węzec o węzec o węzec o węzec o węzec o węzec o węzec o węzec o węzec o węzec o węzec o węzec o węzec o węzec o węzóz o węz� o węz� o węz� o węz� o węz� o węz� o węz� o węz� o węz� o węz� o węz� o węz� o węz� o węz� o węz� o węz� o z p z b z b z b z b z b z b z b z b z b z b z b z b z b z b z b z b z\n",
      "Reference: Na recepcie zapiszę Dolgit jako lek na ból i stan zapalny.\tHypothesis: Na recepcie zapiszę dolegięcie do leka ból i stan zapalny.\n",
      "Reference: Na nadciśnienie przepiszę ci Bisocard.\tHypothesis: Na nadciśnienie przepisów cipisocard.\n",
      "Reference: Zalecam Bisocard, bo dobrze działa na nadciśnienie.\tHypothesis: Zalecam bisokrat, bo dobrze działana nadciśnienie.\n",
      "Reference: Jeśli masz nadciśnienie dobrze sprawdza się Bibloc.\tHypothesis: Jeśli masz nadciśnienie dobrze, sprawdzę się w i-LOG.\n",
      "Reference: Zalecam Bibloc, bo dobrze działa na nadciśnienie.\tHypothesis: Zalecam Bibloc, bo dobrze działana nadciśnienie.\n",
      "Reference: Na nadciśnienie przepiszę ci Concor.\tHypothesis: Na nadciśnienie przepiszeć konsult.\n",
      "Reference: Jeśli masz nadciśnienie dobrze sprawdza się Concor.\tHypothesis: Jeśli masz nadciśnienie dobrze, sprawdza się kąta.\n",
      "Reference: Przepiszę ci Bisoratio, bo zwykle dobrze działa.\tHypothesis: Przepiszę kibicę radiotopię, bo zwykle dobrze działa.\n",
      "Reference: Na recepcie zapiszę Bisoratio jako lek na nadciśnienie.\tHypothesis: Na recepcie zapiszą bisoratię jako lek na nadciśnienie.\n",
      "Reference: Na recepcie zapiszę Sobycor.\tHypothesis: Na recepcie zapisze sobie cor.\n",
      "Reference: Na recepcie zapiszę Sobycor.\tHypothesis: Na recepcie zapisze osobyco-r, \n",
      "Reference: Na recepcie zapiszę Coronal jako lek na nadciśnienie.\tHypothesis: Na recepcie zapisze coronal jaką lewą na nadciśnienie.\n",
      "Reference: Powinnaś przyjmować Coronal na nadciśnienie.\tHypothesis: Pożynna śwismola w porównaniu do porównania do porównania do porównania do porównania do porównania do porównania do porównania do porównania do porównania do porównania do porównania do porównania do porównania do porównania do porównania do porównania do porównania do porównania do porównania do porównania do porównania do porównania do porównania do porównania do porównania do porównania do porównania do porównania do porównania do porównania do poró w ronania do por ronania do por ronania do por ronania do por ronania do por ronania do por ronania do por ronania do por ronania do por ronania do por ronania do por ronania 2,1,1,1,1,1,1,1,1,1,1,1,1,1,1,1,1,1,1,1,1,1,1,1,1,1,1,1,1,1,1,1,1,1,1,1,1,1,1,1,1,1,1,1,1,1,1,1,1,1,1,1,1 had 1,1,1 had1,1 1 1 1 1 1 1 1 1 1 1 1 1 1 1 1 1 1 1 1 1 1 1 1 1 1 1 1 1 1 1 1 1 1 1 1 1 1 1 1 1 1 1 1 1 1 1 1 1 1 1 1 1 1 1 1 1 1 1 1 1 1 1 1 1 1 1 1 1 1 1 1 1 1 1 1 1 1 1 1 1 1 1 1 1 1 1 1 1 1 1 1 1 1 1 1 1 1 1 1 1 1 1 1\n",
      "Reference: Powinnaś spróbować kuracji Prestilolem.\tHypothesis: Pożyl mały, aora w prawej linii prawej. \n",
      "Reference: Najlepiej w twoim przypadku sprawdzi się Prestilol.\tHypothesis: Najlepiej w twoim przypadku sprawdzi się presti lo.\n",
      "Reference: Możesz kupić w aptece Bisoprolol, powinien pomóc.\tHypothesis: Możesz kupić w Aktecy Bicoprolu, powinien pomóc.\n",
      "Reference: Przepiszę ci Bisoprolol, bo zwykle dobrze działa.\tHypothesis: Przepisze cibisoprolol, bo zwykle dobrze działa.\n",
      "Reference: Powinnaś spróbować kuracji Perindoprylem.\tHypothesis: Pożyl mać skupić w kuratcji Pellindoprylem.\n",
      "Reference: Na recepcie zapiszę Perindopryl jako lek na nadciśnienie.\tHypothesis: Na recepcie zapisze periokulakolek na nadciśnienie.\n",
      "Reference: Najlepiej w twoim przypadku sprawdzi się Ramipryl.\tHypothesis: Najlepiej w twoim przypadku sprawdzi się rany pyl.\n",
      "Reference: Na recepcie zapiszę Ramipryl.\tHypothesis: Na recepcie zapisze ramiprl.\n",
      "Reference: Najlepiej w twoim przypadku sprawdzi się Amlodipina.\tHypothesis: Najlepiej w twoim przypadku sprawdzisz amiodipinę.\n",
      "Reference: Zalecam Amlodipinę, bo dobrze działa na nadciśnienie.\tHypothesis: Zalecam amlodipinę, bo dobrze działa na nadciśnienie.\n",
      "Reference: Na recepcie zapiszę Hydrochlorotiazyd.\tHypothesis: Na recepcie zapiszę hydrochorotiazyt.\n",
      "Reference: Powinnaś przyjmować Hydrochlorotiazyd na nadciśnienie.\tHypothesis: Pożynna się przyjmować hydrochlorotiazyt na nadciśnienie.\n",
      "Reference: Najlepiej w twoim przypadku sprawdzi się Losartan.\tHypothesis: Najlepiej w twoim przypadku sprawdzi się losartem.\n",
      "Reference: Możesz kupić w aptece Losartan, powinien pomóc.\tHypothesis: Możesz kupić w aptecjum sartan, powinien pomóc.\n",
      "Reference: Najlepiej w twoim przypadku sprawdzi się Avamina.\tHypothesis: Najlepiej w twoim przypadku sprawdzi się wamin.\n",
      "Reference: Powinnaś spróbować kuracji Avaminą.\tHypothesis: Pożyl naczyń powinna się spróbować w kuracie avaminu.\n",
      "Reference: Przepiszę ci Formetic, bo zwykle dobrze działa.\tHypothesis: Przepiszę onciwormetic, bo zwykle dobrze działa.\n",
      "Reference: Możesz kupić w aptece Formetic, powinien pomóc.\tHypothesis: Możesz kupić w Abtek Emf, powinien pomóc.\n",
      "Reference: Na recepcie zapiszę Glucophage XR jako lek na cukrzycę typu drugiego.\tHypothesis: Na recepcie zapisze glukofagu i seria colag na tkrzycy typu II.\n",
      "Reference: Możesz kupić w aptece Glucophage XR, powinien pomóc.\tHypothesis: Możesz kupić w aptecjum glukozofa GXR. Powinien pomóc.\n",
      "Reference: Możesz kupić w aptece Metformax, powinien pomóc.\tHypothesis: Możesz kupić w aptecjum Metformas. Powinien pomóc.\n",
      "Reference: Powinnaś przyjmować Metformax na cukrzycę typu drugiego.\tHypothesis: Pożynna się przyjmować w metformach z naczyń krzycy typu 2.\n",
      "Reference: Na recepcie zapiszę Xigduo.\tHypothesis: Na recepcie zapisze mk兹 g do.\n",
      "Reference: Na cukrzycę typu drugiego przepiszę ci Xigduo.\tHypothesis: Na cukrzycy typu drugiego przepiszę tkanki ksik dłu.\n",
      "Reference: Na recepcie zapiszę Synjardy.\tHypothesis: Na recepcie zapisze osniardy.\n",
      "Reference: Powinnaś spróbować kuracji Synjardy.\tHypothesis: Pożyl naczyń powinna się spróbować ku racji syniardy.\n",
      "Reference: Najlepiej w twoim przypadku sprawdzi się Actarosin.\tHypothesis: Najlepiej w twoim przypadku sprawdzi się o starości.\n",
      "Reference: Na recepcie zapiszę Actarosin.\tHypothesis: Na recepcie zapisze odstarłość.\n",
      "Reference: Powinnaś przyjmować Arterios na cukrzycę typu drugiego.\tHypothesis: Pożynnaś przyjmować arteriosnaduprzyce typu drugiego.\n",
      "Reference: Najlepiej w twoim przypadku sprawdzi się Arterios.\tHypothesis: Najlepiej w twoim przypadku sprawdzi się arterios.\n",
      "Reference: Przepiszę ci Metforminę, bo zwykle dobrze działa.\tHypothesis: Przepisze cimetforminy, bo zwykle dobrze działa.\n",
      "Reference: Możesz kupić w aptece Metforminę, powinien pomóc.\tHypothesis: Możesz kupić Wapę Cimetforminę. Powinien pomóc.\n",
      "Reference: Na recepcie zapiszę Sitagliptynę jako lek na cukrzycę typu drugiego.\tHypothesis: Na recepcie zapisze się tagliptyna jakoledna cukrzyca typu 2.\n",
      "Reference: Na cukrzycę typu drugiego przepiszę ci Sitagliptynę.\tHypothesis: Na co chrzyca typu drugiego przepisze ciśń i tkniętym.\n",
      "Reference: Na cukrzycę typu drugiego przepiszę ci Linagliptynę.\tHypothesis: Na cukrzycy typu drugiego przepisze klinem liptyny.\n",
      "Reference: Możesz kupić w aptece Linagliptynę, powinien pomóc.\tHypothesis: Możesz kupić wapnę Tc i negrytynę. Powinien pomóc.\n",
      "Reference: Najlepiej w twoim przypadku sprawdzi się Liraglutyd.\tHypothesis: Najlepiej w twoim przypadku sprawdzi się lirablutyt.\n",
      "Reference: Na recepcie zapiszę Liraglutyd.\tHypothesis: Na recepcie zapisze lirę w ucyt.\n",
      "Reference: Zalecam Dapagliflozynę, bo dobrze działa na cukrzycę typu drugiego.\tHypothesis: Zalecam depagliflozynę, bo dobrze działa na cukrzycy typu II.\n",
      "Reference: Powinnaś przyjmować Dapagliflozynę na cukrzycę typu drugiego.\tHypothesis: Pożinnaś przyjmować dopamidliwlozyna na cukrzycę typu drugiego.\n",
      "Reference: Jeśli masz wysoki cholesterol dobrze sprawdza się Crestor.\tHypothesis: Jeśli masz wysoki cholesterol, dobrze sprawdza się kresor.\n",
      "Reference: Przepiszę ci Crestor, bo zwykle dobrze działa.\tHypothesis: Przepiszę ciepłek kresu, bo zwykle dobrze działa.\n",
      "Reference: Najlepiej w twoim przypadku sprawdzi się Crosuvo.\tHypothesis: Najlepiej w twoim przypadku sprawdzi się krosso.\n",
      "Reference: Możesz kupić w aptece Crosuvo, powinien pomóc.\tHypothesis: Możysz kupić w aptece Kroszowo, powinien pomóc.\n",
      "Reference: Na wysoki cholesterol przepiszę ci Ridlip.\tHypothesis: Na wysokiej cholesterol przepisze chili-grip.\n",
      "Reference: Przepiszę ci Ridlip, bo zwykle dobrze działa.\tHypothesis: Przepiszę ciurki lilii, bo zwykle dobrze działa.\n",
      "Reference: Na wysoki cholesterol przepiszę ci Romazic.\tHypothesis: Na wysokich cholesterol przepiszę chiromazic.\n",
      "Reference: Powinnaś spróbować kuracji Romazicem.\tHypothesis: Pożyl powinna spróbować poradzić romazicę.\n",
      "Reference: Na recepcie zapiszę Rosucard.\tHypothesis: Na recepcie zapis rozsucard.\n",
      "Reference: Możesz kupić w aptece Rosucard, powinien pomóc.\tHypothesis: Możesz kupić w aptecjum rosłym sardynia. Powinien pomóc.\n",
      "Reference: Przepiszę ci Rosutrox, bo zwykle dobrze działa.\tHypothesis: Przepiszę ciurosłuproks, bo zwykle dobrze działa.\n",
      "Reference: Zalecam Rosutrox, bo dobrze działa na wysoki cholesterol.\tHypothesis: Zalecam rosutrok, bo dobrze działa na wysokie cholesterol.\n",
      "Reference: Możesz kupić w aptece Roswerę, powinien pomóc.\tHypothesis: Możesz kupić w aptecjum rosfery, powinien pomóc.\n",
      "Reference: Zalecam Roswerę, bo dobrze działa na wysoki cholesterol.\tHypothesis: Zalecam rosferę, bo dobrze działa na wysokiej cholesterol.\n",
      "Reference: Najlepiej w twoim przypadku sprawdzi się Suvardio.\tHypothesis: Najlepiej w twoim przypadku sprawdzi się suvargę.\n",
      "Reference: Jeśli masz wysoki cholesterol dobrze sprawdza się Suvardio.\tHypothesis: Jeśli masz wysoki cholesterol, dobrze sprawdza się suvardia.\n",
      "Reference: Na wysoki cholesterol przepiszę ci Zahron.\tHypothesis: Na wysokiej cholesterol przepisze ci zachron.\n",
      "Reference: Możesz kupić w aptece Zahron, powinien pomóc.\tHypothesis: Możysz kupić w aptecja Zakron, powinien pomóc.\n",
      "Reference: Jeśli masz wysoki cholesterol dobrze sprawdza się Zaranta.\tHypothesis: Jeśli masz wysokiej cholesterol, dobrze sprawdza się Zeranta.\n",
      "Reference: Na recepcie zapiszę Zarantę jako lek na wysoki cholesterol.\tHypothesis: Na recepcie zapiszę museladego rany jako lek na wysokie cholesterol.\n",
      "Reference: Na recepcie zapiszę Rosuvastatin Medical Valley.\tHypothesis: Na recepcie zapisze rosławostatinę Medical Valley.\n",
      "Reference: Możesz kupić w aptece Rosuvastatin Medical Valley, powinien pomóc.\tHypothesis: Możysz kupić w aorty cech rozrostu w Astarty Invenice w Lval Lake. Powinien pomóc.\n",
      "Reference: Najlepiej w twoim przypadku sprawdzi się Vigantoletten.\tHypothesis: Najlepiej w twoim przypadku sprawdzi się wigantoletem.\n",
      "Reference: Jeśli masz niedobór witaminy D dobrze sprawdza się Vigantoletten.\tHypothesis: Jeśli maż niedobór witaminy D, dobrze sprawdza się vigentoletę.\n",
      "Reference: Przepiszę ci Vigantol, bo zwykle dobrze działa.\tHypothesis: Przepisze cigarnol, bo zwykle dobrze działa.\n",
      "Reference: Na recepcie zapiszę Vigantol.\tHypothesis: Na recepcie zapisze Mviganto.\n",
      "Reference: Powinnaś spróbować kuracji Ibuvit D3.\tHypothesis: Pożyl mały, aora w prawej płuci, bez ognisk. \n",
      "Reference: Jeśli masz niedobór witaminy D dobrze sprawdza się Ibuvit D3.\tHypothesis: Jeśli masz niedobór witaminy D dobrze sprawdza się i buwity D3.\n",
      "Reference: Zalecam Biaron D, bo dobrze działa na niedobór witaminy D.\tHypothesis: Zalecam biolonę D, bo dobrze działa na niedobór witamin D.\n",
      "Reference: Najlepiej w twoim przypadku sprawdzi się Biaron D.\tHypothesis: Najlepiej w twoim przypadku sprawdzi się białonę.\n",
      "Reference: Przepiszę ci ApoD3, bo zwykle dobrze działa.\tHypothesis: Przepiszę ciapę do dęży, bo zwykle dobrze działa.\n",
      "Reference: Jeśli masz niedobór witaminy D dobrze sprawdza się ApoD3.\tHypothesis: Jeśli masz niedobór witaminy dożylnych sprawdzasz się apodegel.\n",
      "Reference: Przepiszę ci Devikap, bo zwykle dobrze działa.\tHypothesis: Przeproszę ci dywizjek, bo zwykle dobrze działa.\n",
      "Reference: Najlepiej w twoim przypadku sprawdzi się Devikap.\tHypothesis: Najlepiej w twoim przypadku sprawdzi się dywikap.\n",
      "Reference: Powinnaś spróbować kuracji Witaminą D3 Forte.\tHypothesis: Pożynna spróbowała o kuracji vitaminą D3-4.\n",
      "Reference: Powinnaś spróbować kuracji Witaminą D3 Forte.\tHypothesis: Pożyl należy spróbować kuracji witaminy D3-4.\n",
      "Reference: Na recepcie zapiszę Oriovit-D 1000 jako lek na niedobór witaminy D.\tHypothesis: Na recepcie zapiszę aoriowipę 1000 jk na niedobór witaminy D.\n",
      "Reference: Jeśli masz niedobór witaminy D dobrze sprawdza się Oriovit-D 1000.\tHypothesis: Jeśli masz niedobór witaminy T, dobrze sprawdza się ORIOVIC L.\n",
      "Reference: Na recepcie zapiszę Vigalex Bio jako lek na niedobór witaminy D.\tHypothesis: Na recepcie zapiszę wigalek z biakolek na niedobór witaminy D.\n",
      "Reference: Na niedobór witaminy D przepiszę ci Vigalex Bio.\tHypothesis: Na niedobór witamin D przepiszę kibikalek z biop.\n",
      "Reference: Zalecam Ospen 1000, bo dobrze działa na anginę.\tHypothesis: Zalecam ospę 1000, bo dobrze działa na ankile.\n",
      "Reference: Przepiszę ci Ospen 1000, bo zwykle dobrze działa.\tHypothesis: Przepisze cień 1000, bo zwykle dobrze działa.\n",
      "Reference: Najlepiej w twoim przypadku sprawdzi się Amotaks.\tHypothesis: Najlepiej w twoim przypadku sprawdzi się amotax.\n",
      "Reference: Przepiszę ci Amotaks, bo zwykle dobrze działa.\tHypothesis: Przepiszę cięsie Amotax, bo zwykle dobrze działa.\n",
      "Reference: Możesz kupić w aptece Augmentin, powinien pomóc.\tHypothesis: Możesz kupić w aptecjum augmentin, powinien pomóc.\n",
      "Reference: Powinnaś spróbować kuracji Augmentin.\tHypothesis: Pożyl mały, poza niemi, wskazana jest wskazana z cech serca.\n",
      "Reference: Na recepcie zapiszę Macromax jako lek na anginę.\tHypothesis: Na recepcie zapisze macromas, piekolek na anginie.\n",
      "Reference: Powinnaś spróbować kuracji Macromax.\tHypothesis: Pożyl należy spróbować do kuracji maszromos.\n",
      "Reference: Na anginę przepiszę ci Sumamed.\tHypothesis: Na anginele przepisem tisumamet.\n",
      "Reference: Zalecam Sumamed, bo dobrze działa na anginę.\tHypothesis: Zalecam sumometr, bo dobrze działa na anginy.\n",
      "Reference: Na recepcie zapiszę Amoksycylinę jako lek na anginę.\tHypothesis: Na recepcie zapis za amok ZC-lega jako lek na anginę.\n",
      "Reference: Zalecam Amoksycylinę, bo dobrze działa na anginę.\tHypothesis: Zalecam amosycylinę, bo dobrze działa na anginę.\n",
      "Reference: Przepiszę ci Omeprazol, bo zwykle dobrze działa.\tHypothesis: Przepiszę ci omf-l'Omf zl'l'l'l'l'l'l'l'l'l'l'l'l'l'l'l'l'l'l'l'l'l'l'l'l'l'l'l'l'l'l'l'l'l'l'l'l'l'l'l'l'l'l'l'l'l'l'l'l'l'l'l'l'l'l'l'l'l'l'l'l'l'l'l'l'l'l'l'l'l'l'l'l'l'l'l'l'l'l'l'l'l'l'l'l'l'l'l'l'l'l'l'l'l'l'l'l'l'l'l'l'l'l'l'l'l'l'l'l'l'l'l'l'l'l'l'l'l'l'l'l'l'l'l'l'l'l'l'l'l'l'l'l'l'l'l'l'l'l'l'l'l'l'l'l'l'l'l'l'l'l'l'l'l'l'l'l'l'l'l'l'l'l'l'l'l'l'l'l'l'l'l'l'l'l'l'l'l'l'l'l'l'l'l'l'l'l'l'l'l'l'l'l'l'l'l'l'l'l'l'l'l'l'z-z-z-z-z-z-z-z-z-z-z-z\n",
      "Reference: Powinnaś spróbować kuracji Omeprazolem.\tHypothesis: Pożyl należy spróbować do kuracji omeprezolem.\n",
      "Reference: Możesz kupić w aptece Pantoprazol, powinien pomóc.\tHypothesis: Możesz kupić w aptece Pantoprazo, powinien pomóc.\n",
      "Reference: Na recepcie zapiszę Pantoprazol jako lek na zgaga.\tHypothesis: Na recepcie zapisze pantoplazol jako lek nasgaga.\n",
      "Reference: Powinnaś przyjmować Laktulozę na zgaga.\tHypothesis: Pożynna się przyjmować laktulozę nazgakana.\n",
      "Reference: Zalecam Laktulozę, bo dobrze działa na zgaga.\tHypothesis: Zalecam laktulizę, bo dobrze działa nasz gadań.\n",
      "Reference: Jeśli masz zgaga dobrze sprawdza się Bisakodyl.\tHypothesis: Jeśli masz zgadza dobrze sprawdza się BIS-a kody.\n",
      "Reference: Zalecam Bisakodyl, bo dobrze działa na zgaga.\tHypothesis: Zalecam BIS-akodyl, bo dobrze działa nosgaga.\n",
      "Reference: Zalecam Sukralfat, bo dobrze działa na zgaga.\tHypothesis: Zalecam sukralfat, bo dobrze działa nazgaga.\n",
      "Reference: Jeśli masz zgaga dobrze sprawdza się Sukralfat.\tHypothesis: Jeśli masz zgadza, dobrze sprawdza się sukralfat.\n",
      "Reference: Na recepcie zapiszę Folik.\tHypothesis: Na recepcie zapisem folik.\n",
      "Reference: Przepiszę ci Folik, bo zwykle dobrze działa.\tHypothesis: Przepiszę ciolik, bo zwykle dobrze działa.\n",
      "Reference: Powinnaś przyjmować ActiFolin na profilaktyka.\tHypothesis: Pożynna świylka, zapewniona w 1 minutie ‒ w okolicy poprzednio. \n",
      "Reference: Najlepiej w twoim przypadku sprawdzi się ActiFolin.\tHypothesis: Najlepiej w twoim przypadku sprawdzi się accyty folii.\n",
      "Reference: Najlepiej w twoim przypadku sprawdzi się Aliness Kwas Foliowy.\tHypothesis: Najlepiej w twoim przypadku sprawdzi się aline z kwas foliowy.\n",
      "Reference: Przepiszę ci Aliness Kwas Foliowy, bo zwykle dobrze działa.\tHypothesis: Przepiszę ci eliny z kwas foliowy, bo zwykle dobrze działa.\n",
      "Reference: Możesz kupić w aptece D-Vitum Forte, powinien pomóc.\tHypothesis: Możesz kupić w aptecenitomfortem, powinien pomóc.\n",
      "Reference: Najlepiej w twoim przypadku sprawdzi się D-Vitum Forte.\tHypothesis: Najlepiej w twoim przypadku sprawdzi się dewitym fortem.\n",
      "Reference: Powinnaś spróbować kuracji Olicaps Witaminą D3.\tHypothesis: Pożynna spróbowała kuracji Olicap z witaminą D3.\n",
      "Reference: Na recepcie zapiszę Olicaps Witamina D3 jako lek na profilaktyka.\tHypothesis: Na recepcie zapisze olisaphsvitaminadetriakoleknaprofilaktyka.\n",
      "Reference: Powinnaś spróbować kuracji OstroVit Omega 3.\tHypothesis: Pożynna współpracjala kuracji ostrożo-witomegaczy.\n",
      "Reference: Na recepcie zapiszę OstroVit Omega 3 jako lek na profilaktyka.\tHypothesis: Na recepcie zapiszę ostrość omegarza w 1,3 mg i mleczka mleczka mleczka mleczka mleczka mleczka mleczka mleczka mleczka mleczka mleczka mleczka mleczka mleczka mleczka mleczka mleczka mleczka mleczka mleczka mleczka mleczka mleczka mleczka mleczka mleczka mleczka mleczka mleczka mleczka mleczka mleczka mleczka mleczka mleczka mleczka mleczka mleczka mleczka mleczka mleczka mleczka mleczka mleczka mleczka mleczka mleczka mleczka mleczka mleczka mleczka mleczka mleczka mleczka mleczka mleczka mleczka mleczka mleczka mleczka mleczka mleczka mleczka mleczka mleczka mleczka mleczka mleczka mleczka mleczka mleczka mleczka mleczka mleczka mleczka mleczka mleczka mleczka mleczka mleczka mleczka mleczka mleczka mleczka mleczka mleczka mleczka mleczka mleczka mleczka mleczka mleczka mleczka mleczka mleczka mleczka mleczka mleczka mleczka mleczka m begging, 1, 1,1,1,1,1,1,1,1,1,1\n",
      "Reference: Na recepcie zapiszę KFD Omega 3.\tHypothesis: Na recepcie zapiszę Kfd'Omega3.\n",
      "Reference: Przepiszę ci KFD Omega 3, bo zwykle dobrze działa.\tHypothesis: Przepiszę kwiat w DaOmega3, bo zwykle dobrze działa.\n",
      "Reference: Powinnaś spróbować kuracji Zolpidemem.\tHypothesis: Pożynna spróbowała z kuracją Zolpidemem.\n",
      "Reference: Zalecam Zolpidem, bo dobrze działa na bezsenność.\tHypothesis: Zalecam zorpięknięcie.\n",
      "Reference: Najlepiej w twoim przypadku sprawdzi się Zopiklon.\tHypothesis: Najlepiej w twoim przypadku sprawdzisz zopiklon.\n",
      "Reference: Na recepcie zapiszę Zopiklon.\tHypothesis: Na recepcie zapisze uzalpikłą.\n",
      "Reference: Na recepcie zapiszę Melatoninę.\tHypothesis: Na recepcie zapisze melatoninę.\n",
      "Reference: Najlepiej w twoim przypadku sprawdzi się Melatonina.\tHypothesis: Najlepiej w twoim przypadku sprawdzi się melatonina.\n",
      "Reference: Przepiszę ci Trazodon, bo zwykle dobrze działa.\tHypothesis: Przepisze triazodon, bo zwykle dobrze działa.\n",
      "Reference: Na recepcie zapiszę Trazodon.\tHypothesis: Na recepcie zapisze tranzodon.\n",
      "Reference: Zalecam Mirtazapinę, bo dobrze działa na bezsenność.\tHypothesis: Zalecam mirta za minutę, bo dobrze działa na bezsenność.\n",
      "Reference: Powinnaś spróbować kuracji Mirtazapiną.\tHypothesis: Pożylna zpróbowała kuracja jelita z apiną.\n"
     ]
    }
   ],
   "source": [
    "for ref, hyp in zip(references, hypotheses):\n",
    "    print(f\"Reference: {ref}\\tHypothesis: {hyp}\")"
   ]
  },
  {
   "cell_type": "code",
   "execution_count": 32,
   "id": "09a570d3",
   "metadata": {},
   "outputs": [],
   "source": [
    "folder = \"subset\"\n",
    "files = [f for f in os.listdir(folder) if os.path.isfile(os.path.join(folder, f))]"
   ]
  },
  {
   "cell_type": "code",
   "execution_count": 33,
   "id": "ad1b0df7",
   "metadata": {},
   "outputs": [
    {
     "name": "stderr",
     "output_type": "stream",
     "text": [
      "c:\\Users\\Admin\\AppData\\Local\\Programs\\Python\\Python313\\Lib\\site-packages\\torchaudio\\_backend\\utils.py:213: UserWarning: In 2.9, this function's implementation will be changed to use torchaudio.load_with_torchcodec` under the hood. Some parameters like ``normalize``, ``format``, ``buffer_size``, and ``backend`` will be ignored. We recommend that you port your code to rely directly on TorchCodec's decoder instead: https://docs.pytorch.org/torchcodec/stable/generated/torchcodec.decoders.AudioDecoder.html#torchcodec.decoders.AudioDecoder.\n",
      "  warnings.warn(\n"
     ]
    }
   ],
   "source": [
    "subset_dataset = make_dataset(\"subset\", files, leki)"
   ]
  },
  {
   "cell_type": "code",
   "execution_count": 149,
   "id": "670385a0",
   "metadata": {},
   "outputs": [
    {
     "name": "stderr",
     "output_type": "stream",
     "text": [
      "Transcribing: 100%|██████████| 75/75 [10:27<00:00,  8.36s/it]\n"
     ]
    }
   ],
   "source": [
    "hypotheses = []\n",
    "references = []\n",
    "\n",
    "for ex in tqdm(subset_dataset, desc=\"Transcribing\"):\n",
    "    transcription = transcribe_example(ex)\n",
    "    hypotheses.append(transcription)\n",
    "    references.append(ex[\"phrase\"])"
   ]
  },
  {
   "cell_type": "code",
   "execution_count": 150,
   "id": "00358614",
   "metadata": {},
   "outputs": [
    {
     "name": "stdout",
     "output_type": "stream",
     "text": [
      "Subset CER: 1.0990\n"
     ]
    }
   ],
   "source": [
    "cer_score = cer(references, hypotheses)\n",
    "\n",
    "print(f\"Subset CER: {cer_score:.4f}\")"
   ]
  },
  {
   "cell_type": "code",
   "execution_count": 151,
   "id": "19210543",
   "metadata": {},
   "outputs": [
    {
     "name": "stdout",
     "output_type": "stream",
     "text": [
      "Reference: Actarosin\tHypothesis: Ostarosnie.\n",
      "Reference: ActiFolin\tHypothesis: Abstryj folii.\n",
      "Reference: Aliness Kwas Foliowy\tHypothesis: Alinis quas foillowy.\n",
      "Reference: Amlodipina\tHypothesis: Auto do dipina.\n",
      "Reference: Amoksycylina\tHypothesis: Amoż licejny.\n",
      "Reference: Amotaks\tHypothesis: Amotax.\n",
      "Reference: ApoD3\tHypothesis: Apoedektyczna opieka w KG.\n",
      "Reference: Arterios\tHypothesis: Aktelio.\n",
      "Reference: Augmentin\tHypothesis: Augunantnie.\n",
      "Reference: Avamina\tHypothesis: Awa minął.\n",
      "Reference: Biaron D\tHypothesis: Jak odbiór rąde.\n",
      "Reference: Bibloc\tHypothesis: PiWC.\n",
      "Reference: Bisakodyl\tHypothesis: Dli zakończonych leków nie zalecanią.\n",
      "Reference: Bisocard\tHypothesis: I sotoc.\n",
      "Reference: Bisoprolol\tHypothesis: Nie zauważyłem.\n",
      "Reference: Bisoratio\tHypothesis: Wii sora dnia.\n",
      "Reference: Concor\tHypothesis: Ponco\".\n",
      "Reference: Coronal\tHypothesis: Trona.\n",
      "Reference: Crestor\tHypothesis: Krystolat w kontrolnym ZWK nie obniża się.\n",
      "Reference: Crosuvo\tHypothesis: Proszę wą krossofool.\n",
      "Reference: D-Vitum Forte\tHypothesis: Dewidum fort.\n",
      "Reference: Dapagliflozyna\tHypothesis: Na pali flozyna.\n",
      "Reference: Devikap\tHypothesis: Dewikuj.\n",
      "Reference: Dolgit\tHypothesis: Dołóż ich.\n",
      "Reference: Folik\tHypothesis: Tarczyca położona bez objawów lewej prawidłowo, bez objawu lewej prawidłowa.\n",
      "Reference: Formetic\tHypothesis: Coromak 3.\n",
      "Reference: Glucophage XR\tHypothesis: Dlu cofady i ser.\n",
      "Reference: Hydrochlorotiazyd\tHypothesis: Kieruję do oddziału opiekuńczo-leczniczego.\n",
      "Reference: Ibuprom\tHypothesis: I w u prom.\n",
      "Reference: Ibuvit D3\tHypothesis: I buwid dęży.\n",
      "Reference: KFD Omega 3\tHypothesis: Wykonano 3-kulinarne opieki wskapy w ptaszce lewej.\n",
      "Reference: Laktuloza\tHypothesis: Lak tło za.\n",
      "Reference: Linagliptyna\tHypothesis: Linna w lewym tlenie.\n",
      "Reference: Liraglutyd\tHypothesis: Licza odbytka.\n",
      "Reference: Losartan\tHypothesis: Losaktan.\n",
      "Reference: Macromax\tHypothesis: Mat z Romaks.\n",
      "Reference: Melatonina\tHypothesis: Na latarninę.\n",
      "Reference: Metafen\tHypothesis: Potrzebny tarfem.\n",
      "Reference: Metformax\tHypothesis: Netformas.\n",
      "Reference: Metformina\tHypothesis: Miet forminy.\n",
      "Reference: Mirtazapina\tHypothesis: Nie ta zapina.\n",
      "Reference: Nurofen Forte\tHypothesis: Nurowendą fortepia.\n",
      "Reference: Olicaps Witamina D3\tHypothesis: Oliczaw z Vitaminą D3.\n",
      "Reference: Omeprazol\tHypothesis: One prawo.\n",
      "Reference: Oriovit-D 1000\tHypothesis: Orejowis 2000.\n",
      "Reference: Ospen 1000\tHypothesis: Osman dźwięk.\n",
      "Reference: OstroVit Omega 3\tHypothesis: Ostro widoczny, o megan 3.\n",
      "Reference: Pantoprazol\tHypothesis: Pan to prawo.\n",
      "Reference: Perindopryl\tHypothesis: Pewie indPelindopryduk.\n",
      "Reference: Prestilol\tHypothesis: Przez tlu.\n",
      "Reference: Ramipryl\tHypothesis: Ramie prdeby.\n",
      "Reference: Ridlip\tHypothesis: Rydzi.\n",
      "Reference: Romazic\tHypothesis: Ruch maficj.\n",
      "Reference: Rosucard\tHypothesis: Wąsł udcałek\n",
      "Reference: Rosutrox\tHypothesis: Promis z UPRONSUTROPS.\n",
      "Reference: Rosuvastatin Medical Valley\tHypothesis: Proszę w ostatnim menu celewalej.\n",
      "Reference: Roswera\tHypothesis: Osztywa.\n",
      "Reference: Sitagliptyna\tHypothesis: Człot rytmu.\n",
      "Reference: Sobycor\tHypothesis: Za byco!\n",
      "Reference: Sukralfat\tHypothesis: Cukrojelfat.\n",
      "Reference: Sumamed\tHypothesis: Człomamy.\n",
      "Reference: Suvardio\tHypothesis: Cukwa rdziu.\n",
      "Reference: Synjardy\tHypothesis: Kieruję do oddziału leczenia leczenia niacu.\n",
      "Reference: Trazodon\tHypothesis: Tarza z odą.\n",
      "Reference: Vigalex Bio\tHypothesis: Wigalek w biur.\n",
      "Reference: Vigalex Forte\tHypothesis: Widalek z FORDA.\n",
      "Reference: Vigalex Max\tHypothesis: GDX max.\n",
      "Reference: Vigantol\tHypothesis: Zwijam to.\n",
      "Reference: Vigantoletten\tHypothesis: Ziżam toletę.\n",
      "Reference: Witamina D3 Forte\tHypothesis: Witamina D 3-4.\n",
      "Reference: Xigduo\tHypothesis: Cykl do.\n",
      "Reference: Zahron\tHypothesis: Zakruntł.\n",
      "Reference: Zaranta\tHypothesis: Za rantę!\n",
      "Reference: Zolpidem\tHypothesis: Zapiekuje 1.1 M.\n",
      "Reference: Zopiklon\tHypothesis: Zapiekuj.\n"
     ]
    }
   ],
   "source": [
    "for ref, hyp in zip(references, hypotheses):\n",
    "    print(f\"Reference: {ref}\\tHypothesis: {hyp}\")"
   ]
  },
  {
   "cell_type": "code",
   "execution_count": null,
   "id": "e6ece7d2",
   "metadata": {},
   "outputs": [],
   "source": [
    "# potestowac tylko na lekach i na trainie\n",
    "\n",
    "### caly error analysis\n",
    "# precision recall accuracy na target terms\n",
    "# porownac z jakims modelem open source\n",
    "# word level confidence\n",
    "# czy jakies konkretne bledy sie powtarzaja"
   ]
  },
  {
   "cell_type": "markdown",
   "id": "31a7be9f",
   "metadata": {},
   "source": [
    "### Post-processing model without full fine-tuning"
   ]
  },
  {
   "cell_type": "markdown",
   "id": "34dcac29",
   "metadata": {},
   "source": [
    "##### setting initial-prompt parameter"
   ]
  },
  {
   "cell_type": "code",
   "execution_count": 31,
   "id": "b8393a3f",
   "metadata": {},
   "outputs": [],
   "source": [
    "initial_prompt = \"To nagranie jest fragmentem z wywiadu medycznego. Zawiera nazwy leków takich jak Paracetamol, Ibuprofen, Metformin.\""
   ]
  },
  {
   "cell_type": "code",
   "execution_count": null,
   "id": "8dd7e9f0",
   "metadata": {},
   "outputs": [
    {
     "name": "stderr",
     "output_type": "stream",
     "text": [
      "Transcribing:   0%|          | 0/146 [00:00<?, ?it/s]Using custom `forced_decoder_ids` from the (generation) config. This is deprecated in favor of the `task` and `language` flags/config options.\n",
      "Transcription using a multilingual Whisper will default to language detection followed by transcription instead of translation to English. This might be a breaking change for your use case. If you want to instead always translate your audio to English, make sure to pass `language='en'`. See https://github.com/huggingface/transformers/pull/28687 for more details.\n",
      "The attention mask is not set and cannot be inferred from input because pad token is same as eos token. As a consequence, you may observe unexpected behavior. Please pass your input's `attention_mask` to obtain reliable results.\n",
      "Transcribing: 100%|██████████| 146/146 [41:27<00:00, 17.04s/it]\n"
     ]
    }
   ],
   "source": [
    "hypotheses = []\n",
    "references = []\n",
    "\n",
    "for ex in tqdm(dataset, desc=\"Transcribing\"):\n",
    "    transcription = transcribe_example(ex, initial_prompt=initial_prompt)\n",
    "    hypotheses.append(transcription)\n",
    "    references.append(ex[\"phrase\"])"
   ]
  },
  {
   "cell_type": "code",
   "execution_count": 22,
   "id": "1e7d4169",
   "metadata": {},
   "outputs": [
    {
     "name": "stdout",
     "output_type": "stream",
     "text": [
      "Subset WER: 0.4496\n",
      "Subset CER: 0.1566\n"
     ]
    }
   ],
   "source": [
    "wer_score = wer(references, hypotheses)\n",
    "cer_score = cer(references, hypotheses)\n",
    "\n",
    "print(f\"Subset WER: {wer_score:.4f}\")\n",
    "print(f\"Subset CER: {cer_score:.4f}\")"
   ]
  },
  {
   "cell_type": "code",
   "execution_count": 26,
   "id": "8712d569",
   "metadata": {},
   "outputs": [
    {
     "name": "stdout",
     "output_type": "stream",
     "text": [
      "Reference: Na recepcie zapiszę Hydrochlorotiazyd.\tHypothesis: Na recepcie zapiszę hydrochorotiazyt.\n",
      "Reference: Powinnaś przyjmować Hydrochlorotiazyd na nadciśnienie.\tHypothesis: Pożynnaś przyjmować hydrochlorotiazytna nadciśnienie.\n",
      "Reference: Najlepiej w twoim przypadku sprawdzi się Losartan.\tHypothesis: Najlepiej w twoim przypadku sprawdzi się losartem.\n",
      "Reference: Możesz kupić w aptece Losartan, powinien pomóc.\tHypothesis:  Możesz kupić w aptecjum sartan, powinien pomóc.\n",
      "Reference: Najlepiej w twoim przypadku sprawdzi się Avamina.\tHypothesis: Najlepiej w twoim przypadku sprawdzi się wamin.\n",
      "Reference: Powinnaś spróbować kuracji Avaminą.\tHypothesis: Pożynne nasz to jest kreatura, kreaturia waminowa.\n",
      "Reference: Przepiszę ci Formetic, bo zwykle dobrze działa.\tHypothesis: Przepiszę onciwormic, bo zwykle dobrze działa.\n",
      "Reference: Możesz kupić w aptece Formetic, powinien pomóc.\tHypothesis:  Możesz kupić w Abtec Informatik, powinien pomóc.\n",
      "Reference: Na recepcie zapiszę Glucophage XR jako lek na cukrzycę typu drugiego.\tHypothesis: Na recepcie zapisze glucofagu i seria colag na tkrzycy typu II.\n",
      "Reference: Możesz kupić w aptece Glucophage XR, powinien pomóc.\tHypothesis:  Możesz kupić w Actegel Ceglucofage XR. Powinny pomóc.\n",
      "Reference: Możesz kupić w aptece Metformax, powinien pomóc.\tHypothesis:  Możesz kupić w aptecjum Metformin, powinien pomóc.\n",
      "Reference: Powinnaś przyjmować Metformax na cukrzycę typu drugiego.\tHypothesis: Pożynnaś przyjmować metformachs NaCukrzyca typu 2.\n",
      "Reference: Na recepcie zapiszę Xigduo.\tHypothesis: Na recepcie zapiszę Xigduo.\n",
      "Reference: Na cukrzycę typu drugiego przepiszę ci Xigduo.\tHypothesis: Na cukrzycy typu drugiego przepiszę Cixiid Duo.\n",
      "Reference: Na recepcie zapiszę Synjardy.\tHypothesis: Na receptie zapisze onseniardę.\n",
      "Reference: Powinnaś spróbować kuracji Synjardy.\tHypothesis: Pożynna zsłabka w Kuracy Iseniardy.\n",
      "Reference: Najlepiej w twoim przypadku sprawdzi się Actarosin.\tHypothesis: Najlepiej w twoim przypadku sprawdzi się on starosnie.\n",
      "Reference: Na recepcie zapiszę Actarosin.\tHypothesis: Na recepcie zapis o starości\n",
      "Reference: Powinnaś przyjmować Arterios na cukrzycę typu drugiego.\tHypothesis: Pożynnaś przyjmować arteriosnaduprzycę typu drugiego.\n",
      "Reference: Najlepiej w twoim przypadku sprawdzi się Arterios.\tHypothesis: Najlepiej w twoim przypadku sprawdzi się arterios.\n",
      "Reference: Przepiszę ci Metforminę, bo zwykle dobrze działa.\tHypothesis: Przepisze medforminy, bo zwykle dobrze działa.\n",
      "Reference: Możesz kupić w aptece Metforminę, powinien pomóc.\tHypothesis:  Możesz kupić waptecimetformin, powinien pomóc.\n",
      "Reference: Na recepcie zapiszę Sitagliptynę jako lek na cukrzycę typu drugiego.\tHypothesis: Na recepcie zapisze się tagliptynę jakolakam cukrzycym typu 2.\n",
      "Reference: Na cukrzycę typu drugiego przepiszę ci Sitagliptynę.\tHypothesis: Na co krzyczę? Typu drugiego przepisze ci się ta diktyna.\n",
      "Reference: Na cukrzycę typu drugiego przepiszę ci Linagliptynę.\tHypothesis: Na cukrzycy typu drugiego przepisze Cilinamliptyny.\n",
      "Reference: Możesz kupić w aptece Linagliptynę, powinien pomóc.\tHypothesis:  Możesz kupić waptecylnagryptyny. Powinien pomóc.\n",
      "Reference: Najlepiej w twoim przypadku sprawdzi się Liraglutyd.\tHypothesis: Najlepiej w twoim przypadku sprawdzi się lirablutyt.\n",
      "Reference: Na recepcie zapiszę Liraglutyd.\tHypothesis: Na recepcie zapisze liraglutyt.\n",
      "Reference: Zalecam Dapagliflozynę, bo dobrze działa na cukrzycę typu drugiego.\tHypothesis: Zalecam doparolflozynę, bo dobrze działa na cukrzycy typu drugiego.\n",
      "Reference: Powinnaś przyjmować Dapagliflozynę na cukrzycę typu drugiego.\tHypothesis: Powinnaś przyjmować Tepagliflozyna Cukrzycy typu drugiego.\n",
      "Reference: Jeśli masz wysoki cholesterol dobrze sprawdza się Crestor.\tHypothesis: Jeśli masz wysoki cholesterol, dobrze sprawdza się Crestor.\n",
      "Reference: Przepiszę ci Crestor, bo zwykle dobrze działa.\tHypothesis: Przepisze C. Crestor, bo zwykle dobrze działa.\n",
      "Reference: Najlepiej w twoim przypadku sprawdzi się Crosuvo.\tHypothesis: Najlepiej w twoim przypadku sprawdzi się Krosso.\n",
      "Reference: Możesz kupić w aptece Crosuvo, powinien pomóc.\tHypothesis:  Możesz kupić w aptecy crossbowu, powinien pomóc.\n",
      "Reference: Na wysoki cholesterol przepiszę ci Ridlip.\tHypothesis: Na wysokiej cholesterol przepisze Ciliglip.\n",
      "Reference: Przepiszę ci Ridlip, bo zwykle dobrze działa.\tHypothesis: Przepiszę kirik, bo zwykle dobrze działa.\n",
      "Reference: Na wysoki cholesterol przepiszę ci Romazic.\tHypothesis: Na wysokich cholesterol przepiszę cirumazic.\n",
      "Reference: Powinnaś spróbować kuracji Romazicem.\tHypothesis: Pożynne sprowadzono poradę ziromazicem.\n",
      "Reference: Na recepcie zapiszę Rosucard.\tHypothesis: Na recepcie zapis zirrosucard.\n",
      "Reference: Możesz kupić w aptece Rosucard, powinien pomóc.\tHypothesis:  Możesz kupić w Aptecum Rosul Sard, powinien pomóc.\n",
      "Reference: Przepiszę ci Rosutrox, bo zwykle dobrze działa.\tHypothesis: Przepiszę tiron sutrox, bo zwykle dobrze działa.\n",
      "Reference: Zalecam Rosutrox, bo dobrze działa na wysoki cholesterol.\tHypothesis: Zalecam Rosutrox, bo dobrze działa na wysokie cholesterol.\n",
      "Reference: Możesz kupić w aptece Roswerę, powinien pomóc.\tHypothesis:  Możesz kupić w aptecjum rosfery, powinien pomóc.\n",
      "Reference: Zalecam Roswerę, bo dobrze działa na wysoki cholesterol.\tHypothesis: Zalecam rosferę, bo dobrze działa na wysokiej cholesterol.\n",
      "Reference: Najlepiej w twoim przypadku sprawdzi się Suvardio.\tHypothesis: Najlepiej w twoim przypadku sprawdzi się suwarbią.\n",
      "Reference: Jeśli masz wysoki cholesterol dobrze sprawdza się Suvardio.\tHypothesis: Jeśli masz wysoki cholesterol, dobrze sprawdza się suwardia.\n",
      "Reference: Na wysoki cholesterol przepiszę ci Zahron.\tHypothesis: Na wysokiej cholesterol przepisze ciachron.\n",
      "Reference: Możesz kupić w aptece Zahron, powinien pomóc.\tHypothesis:  Możesz kupić w aptecja Zakron, powinien pomóc.\n",
      "Reference: Jeśli masz wysoki cholesterol dobrze sprawdza się Zaranta.\tHypothesis: Jeśli masz wysoki cholesterol, dobrze sprawdza się Zeranta.\n",
      "Reference: Na recepcie zapiszę Zarantę jako lek na wysoki cholesterol.\tHypothesis: Na recepcie zapiszą zarantę jakolek na wysokie cholesterol.\n",
      "Reference: Na recepcie zapiszę Rosuvastatin Medical Valley.\tHypothesis: Na recepcie zapis rozluwastatin medycal valer.\n",
      "Reference: Możesz kupić w aptece Rosuvastatin Medical Valley, powinien pomóc.\tHypothesis:  Możesz kupić w autece Roswastatii i Mednicel Walley. Powinien pomóc.\n",
      "Reference: Najlepiej w twoim przypadku sprawdzi się Vigantoletten.\tHypothesis: Najlepiej w twoim przypadku sprawdzi się Wigantoletem.\n",
      "Reference: Jeśli masz niedobór witaminy D dobrze sprawdza się Vigantoletten.\tHypothesis: Jeśli masz niedobór witaminy D, dobrze sprawdza się Wigentoleten.\n",
      "Reference: Przepiszę ci Vigantol, bo zwykle dobrze działa.\tHypothesis: Przepisze gigantol, bo zwykle dobrze działa.\n",
      "Reference: Na recepcie zapiszę Vigantol.\tHypothesis: Na recepcie zapiszę Viganto.\n",
      "Reference: Powinnaś spróbować kuracji Ibuvit D3.\tHypothesis: Pożylna spróbowa kreatyja ibuprofidny tr\n",
      "Reference: Jeśli masz niedobór witaminy D dobrze sprawdza się Ibuvit D3.\tHypothesis: Jeśli masz niedobór witaminy D dobrze sprawdza się i bufet D3.\n",
      "Reference: Zalecam Biaron D, bo dobrze działa na niedobór witaminy D.\tHypothesis: Zalecam biarę D, bo dobrze działa na niedobór witamin D.\n",
      "Reference: Najlepiej w twoim przypadku sprawdzi się Biaron D.\tHypothesis: Najlepiej w twoim przypadku sprawdzi się biaronę.\n",
      "Reference: Przepiszę ci ApoD3, bo zwykle dobrze działa.\tHypothesis: Przepiszę ciapę do dęży, bo zwykle dobrze działa.\n",
      "Reference: Jeśli masz niedobór witaminy D dobrze sprawdza się ApoD3.\tHypothesis: Jeśli masz niedobrę witaminny dobrze sprawdza się apodegel.\n",
      "Reference: Przepiszę ci Devikap, bo zwykle dobrze działa.\tHypothesis: Przepraszam za zaprakcję do dziennego porozumiania z projekcją, ale nie mogę wytrzymać.\n",
      "Reference: Najlepiej w twoim przypadku sprawdzi się Devikap.\tHypothesis: Najlepiej w twoim przypadku sprawdzi się Devicap.\n",
      "Reference: Powinnaś spróbować kuracji Witaminą D3 Forte.\tHypothesis: Pożynna spróbowała curacy witaminą D3Fortem.\n",
      "Reference: Powinnaś spróbować kuracji Witaminą D3 Forte.\tHypothesis: Pożylna z próbować korazjolita, vitaminomietwel, Trifortem.\n",
      "Reference: Na recepcie zapiszę Oriovit-D 1000 jako lek na niedobór witaminy D.\tHypothesis: Na recepcie zapiszę Oriolik 1000 Jk na niedobór witaminy D.\n",
      "Reference: Jeśli masz niedobór witaminy D dobrze sprawdza się Oriovit-D 1000.\tHypothesis: Jeśli masz niedobór witaminy T dobrze, sprawdza się Oriolist T.\n",
      "Reference: Na recepcie zapiszę Vigalex Bio jako lek na niedobór witaminy D.\tHypothesis: Na recepcie zapisze Migalex Biojako Lekt na niedobór witaminy D.\n",
      "Reference: Na niedobór witaminy D przepiszę ci Vigalex Bio.\tHypothesis: Na niedobór witamin D przepiszę Cilic, Alex Bio.\n",
      "Reference: Zalecam Ospen 1000, bo dobrze działa na anginę.\tHypothesis: Zalecam OSPen 1000, bo dobrze działa na ankile.\n",
      "Reference: Przepiszę ci Ospen 1000, bo zwykle dobrze działa.\tHypothesis: Przepisze cień 1000 mGa, bo zwykle dobrze działa.\n",
      "Reference: Najlepiej w twoim przypadku sprawdzi się Amotaks.\tHypothesis: Najlepiej w twoim przypadku sprawdzi się Amotax.\n",
      "Reference: Przepiszę ci Amotaks, bo zwykle dobrze działa.\tHypothesis: Przepiszę tijem Motax, bo zwykle dobrze działa.\n",
      "Reference: Możesz kupić w aptece Augmentin, powinien pomóc.\tHypothesis:  Możesz kupić w aptecja augmentin, powinien pomóc.\n",
      "Reference: Powinnaś spróbować kuracji Augmentin.\tHypothesis: Pożynna spróbowała kuracji augmentin.\n",
      "Reference: Na recepcie zapiszę Macromax jako lek na anginę.\tHypothesis: Na recepcie zapisze Macromax Pekolek Naanginę.\n",
      "Reference: Powinnaś spróbować kuracji Macromax.\tHypothesis: Pożynne spróbować kuracji Matromos.\n",
      "Reference: Na anginę przepiszę ci Sumamed.\tHypothesis: Na anginele przepisem Tisumamet.\n",
      "Reference: Zalecam Sumamed, bo dobrze działa na anginę.\tHypothesis: Zalecam sumometr, bo dobrze działano na anginy.\n",
      "Reference: Na recepcie zapiszę Amoksycylinę jako lek na anginę.\tHypothesis: Na recepcie zapisze amoksycylinę i jakoleknaneginę.\n",
      "Reference: Zalecam Amoksycylinę, bo dobrze działa na anginę.\tHypothesis: Zalecam Amosycylinę, bo dobrze działa na anginę.\n",
      "Reference: Przepiszę ci Omeprazol, bo zwykle dobrze działa.\tHypothesis: Przepiszę ci omf-prasl, bo zwykle dobrze działa.\n",
      "Reference: Powinnaś spróbować kuracji Omeprazolem.\tHypothesis: Pożynne spróbować kuracji omeprezolem.\n",
      "Reference: Możesz kupić w aptece Pantoprazol, powinien pomóc.\tHypothesis:  Możesz kupić w aptecy pantoplazą. Powinien pomóc.\n",
      "Reference: Na recepcie zapiszę Pantoprazol jako lek na zgaga.\tHypothesis: Na recepcie zapisze pantoplazol, jako lek Nasgaga.\n",
      "Reference: Powinnaś przyjmować Laktulozę na zgaga.\tHypothesis: Pożynna się przyjmować laktulozę Nazgada.\n",
      "Reference: Zalecam Laktulozę, bo dobrze działa na zgaga.\tHypothesis: Zalecam laktulizę, bo dobrze działa nasz gadań.\n",
      "Reference: Jeśli masz zgaga dobrze sprawdza się Bisakodyl.\tHypothesis: Jeśli maż z Gagga dobrze sprawdza się\n",
      "Reference: Zalecam Bisakodyl, bo dobrze działa na zgaga.\tHypothesis: Zalecam Bicacodyl, bo dobrze działa nosgaga.\n",
      "Reference: Zalecam Sukralfat, bo dobrze działa na zgaga.\tHypothesis: Zalecam Sucralfat, bo dobrze działa nazwiska gaga.\n",
      "Reference: Jeśli masz zgaga dobrze sprawdza się Sukralfat.\tHypothesis: Jeśli masz zgagaj, dobrze sprawdza się, SUCRA alfad.\n",
      "Reference: Na recepcie zapiszę Folik.\tHypothesis: Na recepcie zapisem folik.\n",
      "Reference: Przepiszę ci Folik, bo zwykle dobrze działa.\tHypothesis: Przepiszę tijolik, bo zwykle dobrze działa.\n",
      "Reference: Powinnaś przyjmować ActiFolin na profilaktyka.\tHypothesis: Pożynna się przyjmować atlasi w folinna profilaktyka.\n",
      "Reference: Najlepiej w twoim przypadku sprawdzi się ActiFolin.\tHypothesis: Najlepiej w twoim przypadku sprawdzi się acetykoli.\n",
      "Reference: Najlepiej w twoim przypadku sprawdzi się Aliness Kwas Foliowy.\tHypothesis: Najlepiej w twoim przypadku sprawdzi się aline z kwas foliowy.\n",
      "Reference: Przepiszę ci Aliness Kwas Foliowy, bo zwykle dobrze działa.\tHypothesis: Przepiszę ci elinę z kwas foliowy, bo zwykle dobrze działa.\n",
      "Reference: Możesz kupić w aptece D-Vitum Forte, powinien pomóc.\tHypothesis:  Możesz kupić w aptecytelitomfortem, powinien pomóc.\n",
      "Reference: Najlepiej w twoim przypadku sprawdzi się D-Vitum Forte.\tHypothesis: Najlepiej w twoim przypadku sprawdzi się Devitum Fortem.\n",
      "Reference: Powinnaś spróbować kuracji Olicaps Witaminą D3.\tHypothesis: Pożynna spróbowała kuracji Olicabr z witaminą D3.\n",
      "Reference: Na recepcie zapiszę Olicaps Witamina D3 jako lek na profilaktyka.\tHypothesis: Na recepcie zapiszo olicafl z witaminadetrzyja, koleg na profilaktykę.\n",
      "Reference: Powinnaś spróbować kuracji OstroVit Omega 3.\tHypothesis: Pożynna spróbowała kuracji ostrożo w i-Tomega 3.\n",
      "Reference: Na recepcie zapiszę OstroVit Omega 3 jako lek na profilaktyka.\tHypothesis: Na recepcie zapiszą ostrość vit omega3 jak lekna profilaktyka.\n",
      "Reference: Na recepcie zapiszę KFD Omega 3.\tHypothesis: Na recepcie zapiszę Kfd Omega 3.\n",
      "Reference: Przepiszę ci KFD Omega 3, bo zwykle dobrze działa.\tHypothesis: Przepiszę kikafetę Omega 3, bo zwykle dobrze działa.\n",
      "Reference: Powinnaś spróbować kuracji Zolpidemem.\tHypothesis: Pożynna spróbowała stworzenia z Opidemem.\n",
      "Reference: Zalecam Zolpidem, bo dobrze działa na bezsenność.\tHypothesis: Zalecam z Orpidem, bo dobrze działa na bezsenność.\n",
      "Reference: Najlepiej w twoim przypadku sprawdzi się Zopiklon.\tHypothesis: Najlepiej w twoim przypadku sprawdź się z Opiką.\n",
      "Reference: Na recepcie zapiszę Zopiklon.\tHypothesis: Na recepcie zapisze uzalpiklon.\n",
      "Reference: Na recepcie zapiszę Melatoninę.\tHypothesis: Na recepcie zapis zamelotoniny.\n",
      "Reference: Najlepiej w twoim przypadku sprawdzi się Melatonina.\tHypothesis: Najlepiej w twoim przypadku sprawdzi się melatonina.\n",
      "Reference: Przepiszę ci Trazodon, bo zwykle dobrze działa.\tHypothesis: Przepisia cterazodon, bo zwykle dobrze działa.\n",
      "Reference: Na recepcie zapiszę Trazodon.\tHypothesis: Na recepcie zapis zetrazodon.\n",
      "Reference: Zalecam Mirtazapinę, bo dobrze działa na bezsenność.\tHypothesis: Zalecam mirta za minutę, bo dobrze działa na bezsenność.\n",
      "Reference: Powinnaś spróbować kuracji Mirtazapiną.\tHypothesis: Pożynnaś spróbować kuracjami rtazapiną.\n"
     ]
    }
   ],
   "source": [
    "for ref, hyp in zip(references[30:], hypotheses[30:]):\n",
    "    print(f\"Reference: {ref}\\tHypothesis: {hyp}\")"
   ]
  },
  {
   "cell_type": "code",
   "execution_count": 35,
   "id": "25a84d84",
   "metadata": {},
   "outputs": [
    {
     "name": "stderr",
     "output_type": "stream",
     "text": [
      "Transcribing: 100%|██████████| 75/75 [27:56<00:00, 22.35s/it]\n"
     ]
    }
   ],
   "source": [
    "hypotheses = []\n",
    "references = []\n",
    "\n",
    "for ex in tqdm(subset_dataset, desc=\"Transcribing\"):\n",
    "    transcription = transcribe_example(ex, initial_prompt=initial_prompt)\n",
    "    hypotheses.append(transcription)\n",
    "    references.append(ex[\"phrase\"])"
   ]
  },
  {
   "cell_type": "code",
   "execution_count": 36,
   "id": "cb6b4ee7",
   "metadata": {},
   "outputs": [
    {
     "name": "stdout",
     "output_type": "stream",
     "text": [
      "Subset CER: 2.5681\n"
     ]
    }
   ],
   "source": [
    "cer_score = cer(references, hypotheses)\n",
    "\n",
    "print(f\"Subset CER: {cer_score:.4f}\")"
   ]
  },
  {
   "cell_type": "code",
   "execution_count": 37,
   "id": "30dae057",
   "metadata": {},
   "outputs": [
    {
     "name": "stdout",
     "output_type": "stream",
     "text": [
      "Reference: Actarosin\tHypothesis: Ostrosz.\n",
      "Reference: ActiFolin\tHypothesis: Abstij folii.\n",
      "Reference: Aliness Kwas Foliowy\tHypothesis: Alinis quas fojolowy.\n",
      "Reference: Amlodipina\tHypothesis: Analogipna.\n",
      "Reference: Amoksycylina\tHypothesis: Amocylina.\n",
      "Reference: Amotaks\tHypothesis: Amo tachs.\n",
      "Reference: ApoD3\tHypothesis: Apoedet 3.\n",
      "Reference: Arterios\tHypothesis: Ateria.\n",
      "Reference: Augmentin\tHypothesis: Paukowa nąciń.\n",
      "Reference: Avamina\tHypothesis:  Awamina.\n",
      "Reference: Biaron D\tHypothesis: Jak wiarą de do zespoňu zespoňu zespoňu zespoňem.\n",
      "Reference: Bibloc\tHypothesis: Pierć.\n",
      "Reference: Bisakodyl\tHypothesis: Dziesia kodyl.\n",
      "Reference: Bisocard\tHypothesis: I SOTS op.\n",
      "Reference: Bisoprolol\tHypothesis: Nie zrozumiem.\n",
      "Reference: Bisoratio\tHypothesis: Wi sora tie.\n",
      "Reference: Concor\tHypothesis: Ponco.\n",
      "Reference: Coronal\tHypothesis: Trona.\n",
      "Reference: Crestor\tHypothesis: Tak to.\n",
      "Reference: Crosuvo\tHypothesis: Proszuję do poradni lekarza lekarza lekarza lekarza.\n",
      "Reference: D-Vitum Forte\tHypothesis: Wywiad w wymiarze.\n",
      "Reference: Dapagliflozyna\tHypothesis: Na pagli fluzyna.\n",
      "Reference: Devikap\tHypothesis: Dewikalnie w poradni w poradni lewej w poradni lewej w poradni lewej w poradni lewej lewej lewej lewej lewej lewej lewej lewej lewej lewej lewej lewej lewej lewej lewej lewej lewej lewej lewej lewej lewej lewej lewej lewej lewej lewej lewej lewej lewej lewej lewej lewej lewej lewej lewej lewej lewej lewej lewej lewej lewej lewej lewej lewej lewej lewej lewej lewej lewej lewej lewej lewej lewej lewej lewej lewej lewej lewej lewej lewej lewej lewej lewej lewej lewej lewej lewej lewej lewej lewej lewej lewej lewej lewej lewej lewej lewej lewej lewej lewej lewej lewej lewej lewej lewej lewen rw rw rw n-r-r-r-r-r-r-r-r-r-r-r-r-r-r-r-r-r-r-r-r-r-r-r-r-r-r-r-r-r-r-r-r-r-r-r-r-r-r-r-r-r-r-r-r-r-r-r-r-r-r-r-r-r-\n",
      "Reference: Dolgit\tHypothesis: Dołogi.\n",
      "Reference: Folik\tHypothesis: Tągi.\n",
      "Reference: Formetic\tHypothesis: Korona T.\n",
      "Reference: Glucophage XR\tHypothesis: Dlu cofady i ser.\n",
      "Reference: Hydrochlorotiazyd\tHypothesis: Kieruję do oddziału odjazdu\n",
      "Reference: Ibuprom\tHypothesis: Ibupro.\n",
      "Reference: Ibuvit D3\tHypothesis: Ibówy i dymczy.\n",
      "Reference: KFD Omega 3\tHypothesis: Kfd omega3.\n",
      "Reference: Laktuloza\tHypothesis: Lak tło za.\n",
      "Reference: Linagliptyna\tHypothesis: Linavip tlenem.\n",
      "Reference: Liraglutyd\tHypothesis: Znaczył oddział w Klinikadie Ucic.\n",
      "Reference: Losartan\tHypothesis: Losaptam.\n",
      "Reference: Macromax\tHypothesis: Matromak.\n",
      "Reference: Melatonina\tHypothesis: Na latach 10.\n",
      "Reference: Metafen\tHypothesis: Mnęta w płycie płuca w płuciu prawego nie zalecana jest z powodu patologicznego zalecania zlepienia.\n",
      "Reference: Metformax\tHypothesis: Netformas.\n",
      "Reference: Metformina\tHypothesis: Metformin.\n",
      "Reference: Mirtazapina\tHypothesis: Nie ta zapina.\n",
      "Reference: Nurofen Forte\tHypothesis: Nurowendą w fortepieku.\n",
      "Reference: Olicaps Witamina D3\tHypothesis: Oliczaw z Vitamina D3.\n",
      "Reference: Omeprazol\tHypothesis: Omnie prawo.\n",
      "Reference: Oriovit-D 1000\tHypothesis: OrejOrej-Ovid 2000.\n",
      "Reference: Ospen 1000\tHypothesis: Ostman dźwięk.\n",
      "Reference: OstroVit Omega 3\tHypothesis: Ostro widomega trzy.\n",
      "Reference: Pantoprazol\tHypothesis: Pan to prawo.\n",
      "Reference: Perindopryl\tHypothesis: Pewień do prytu.\n",
      "Reference: Prestilol\tHypothesis: Przez tlen.\n",
      "Reference: Ramipryl\tHypothesis: Ramie prynik.\n",
      "Reference: Ridlip\tHypothesis: Widzę.\n",
      "Reference: Romazic\tHypothesis: Ruch mafic.\n",
      "Reference: Rosucard\tHypothesis: Wyosłuca.\n",
      "Reference: Rosutrox\tHypothesis: PROMPTROPS.\n",
      "Reference: Rosuvastatin Medical Valley\tHypothesis: Rosłów o stakinie nitelewalnej.\n",
      "Reference: Roswera\tHypothesis:  Osieram.\n",
      "Reference: Sitagliptyna\tHypothesis: Człot w tlenu.\n",
      "Reference: Sobycor\tHypothesis: Za byco!\n",
      "Reference: Sukralfat\tHypothesis: Zukral fad.\n",
      "Reference: Sumamed\tHypothesis: Zu moment.\n",
      "Reference: Suvardio\tHypothesis: Cuwa rudium.\n",
      "Reference: Synjardy\tHypothesis: Ten dni aorty.\n",
      "Reference: Trazodon\tHypothesis: Tarzodą.\n",
      "Reference: Vigalex Bio\tHypothesis: Wigalność w biu.\n",
      "Reference: Vigalex Forte\tHypothesis: VDLX for the.\n",
      "Reference: Vigalex Max\tHypothesis: G-G-G-G-G-G-G-G-G-G-G-G-G-G-G-G-G-G-G-G-G-G-G-G-G-G-G-G-G-G-G-G-G-G-G-G-G-G-G-G-G-G-G-G-G-G-G-G-G-G-G-G-G-G-G-G-G-G-G-G-G-G-G-G-G-G-G-G-G-G-G-G-G-G-G-G-G-G-G-G-G-G-G-G-G-G-G-G-G-G-G-G-G-G-G-G-G-G-G-G-G-G-G-G-G-G-G-G-G-G-G-G-G-G-G-G-G-G-G-G-G-G-G-G-G-G-G-G-G-G-G-G-G-G-G-G-G-G-G-G-G-G-G-G-G-G-G-G-G-G-G-G-G-G-G-G-G-G-G-G-G-G-G-G-G-G-G-G-G-G-G-G-G-G-G-G-G-G-G-G-G-G-G-G-G-G-G-G-G-G-G-G-G-Z Zz。 Zz z Zz zz zz zz zz zz z\n",
      "Reference: Vigantol\tHypothesis: Zidam do.\n",
      "Reference: Vigantoletten\tHypothesis: Zi zontoletem.\n",
      "Reference: Witamina D3 Forte\tHypothesis: Witamina D 3-4.\n",
      "Reference: Xigduo\tHypothesis: Zwidzę, że w poradni wskazań z progresjem, w poradni wskazań z paracetem.\n",
      "Reference: Zahron\tHypothesis: Zakłam.\n",
      "Reference: Zaranta\tHypothesis: Za rantę.\n",
      "Reference: Zolpidem\tHypothesis: Za opiekiem!\n",
      "Reference: Zopiklon\tHypothesis: Zapieknął.\n"
     ]
    }
   ],
   "source": [
    "for ref, hyp in zip(references, hypotheses):\n",
    "    print(f\"Reference: {ref}\\tHypothesis: {hyp}\")"
   ]
  },
  {
   "cell_type": "code",
   "execution_count": 39,
   "id": "0aca58fe",
   "metadata": {},
   "outputs": [],
   "source": [
    "initial_prompt = \"Rozmowa medyczna. Mogą wystąpić nazwy leków, w tym: Ibuprom, Metformina, Amlodipina, Ramipryl, Omeprazol, Bisoprolol.\""
   ]
  },
  {
   "cell_type": "code",
   "execution_count": 28,
   "id": "f51f3712",
   "metadata": {},
   "outputs": [
    {
     "name": "stderr",
     "output_type": "stream",
     "text": [
      "Transcribing: 100%|██████████| 146/146 [46:20<00:00, 19.05s/it] \n"
     ]
    }
   ],
   "source": [
    "hypotheses = []\n",
    "references = []\n",
    "\n",
    "for ex in tqdm(dataset, desc=\"Transcribing\"):\n",
    "    transcription = transcribe_example(ex, initial_prompt=initial_prompt)\n",
    "    hypotheses.append(transcription)\n",
    "    references.append(ex[\"phrase\"])"
   ]
  },
  {
   "cell_type": "code",
   "execution_count": 29,
   "id": "793d41d1",
   "metadata": {},
   "outputs": [
    {
     "name": "stdout",
     "output_type": "stream",
     "text": [
      "Subset WER: 0.4657\n",
      "Subset CER: 0.2351\n"
     ]
    }
   ],
   "source": [
    "wer_score = wer(references, hypotheses)\n",
    "cer_score = cer(references, hypotheses)\n",
    "\n",
    "print(f\"Subset WER: {wer_score:.4f}\")\n",
    "print(f\"Subset CER: {cer_score:.4f}\")"
   ]
  },
  {
   "cell_type": "code",
   "execution_count": 30,
   "id": "8f61663e",
   "metadata": {},
   "outputs": [
    {
     "name": "stdout",
     "output_type": "stream",
     "text": [
      "Reference: Powinnaś spróbować kuracji Ibupromem.\tHypothesis: Po winu nespróbować kuracji ibupromem.\n",
      "Reference: Najlepiej w twoim przypadku sprawdzi się Ibuprom.\tHypothesis: Najlepiej w twoim przypadku sprawdzić się ibuprom.\n",
      "Reference: Powinnaś spróbować kuracji Metafenem.\tHypothesis: Pożynne spróbować kuracji metafenem.\n",
      "Reference: Możesz kupić w aptece Metafen, powinien pomóc.\tHypothesis:  Możesz kupić wapnę Ticimetaphen, powinien pomóc.\n",
      "Reference: Najlepiej w twoim przypadku sprawdzi się Nurofen Forte.\tHypothesis: Najlepiej w twoim przypadku sprawdzić snu rofenforte.\n",
      "Reference: Zalecam Nurofen Forte, bo dobrze działa na ból i stan zapalny.\tHypothesis: Zalecam Noropher Fortem, bo dobrze działa nabór i stan zapalny.\n",
      "Reference: Przepiszę ci Dolgit, bo zwykle dobrze działa.\tHypothesis: Przepiszę nidolgit, bo zwykle dobrze działa.\n",
      "Reference: Na recepcie zapiszę Dolgit jako lek na ból i stan zapalny.\tHypothesis: Na recepcie zapisze on dolegijego leka ból i stan zapalny.\n",
      "Reference: Na nadciśnienie przepiszę ci Bisocard.\tHypothesis: Na nadciśnienie przepisy tibizocart.\n",
      "Reference: Zalecam Bisocard, bo dobrze działa na nadciśnienie.\tHypothesis: Zalecam bisocard, bo dobrze działa na nadciśnienie.\n",
      "Reference: Jeśli masz nadciśnienie dobrze sprawdza się Bibloc.\tHypothesis: Jeści masz nadciśnienie dobrze, sprawdzę się w iBLOTS.\n",
      "Reference: Zalecam Bibloc, bo dobrze działa na nadciśnienie.\tHypothesis: Zalecam Biblots, bo dobrze działa na nadciśnienie.\n",
      "Reference: Na nadciśnienie przepiszę ci Concor.\tHypothesis: Na nadciśnienie przepiszeć konsul.\n",
      "Reference: Jeśli masz nadciśnienie dobrze sprawdza się Concor.\tHypothesis: Jeślin mażna tciśnienie, dobrze sprawdza się kąco.\n",
      "Reference: Przepiszę ci Bisoratio, bo zwykle dobrze działa.\tHypothesis: Przepiszę kibicę radio, bo zwykle dobrze działa.\n",
      "Reference: Na recepcie zapiszę Bisoratio jako lek na nadciśnienie.\tHypothesis: Na recepcie zapiszą bisoratiojakolakonatciśnienie.\n",
      "Reference: Na recepcie zapiszę Sobycor.\tHypothesis: Na recepcie zapiszą sobie cor.\n",
      "Reference: Na recepcie zapiszę Sobycor.\tHypothesis: Na recepcie zapisza osłabę cor.\n",
      "Reference: Na recepcie zapiszę Coronal jako lek na nadciśnienie.\tHypothesis: Na recepcie zapisze coronalne kolegę na nadciśnienie.\n",
      "Reference: Powinnaś przyjmować Coronal na nadciśnienie.\tHypothesis: Pożynnaś przyjmować coronalne nadciśnienie.\n",
      "Reference: Powinnaś spróbować kuracji Prestilolem.\tHypothesis: Pożynna spróbowała kuracji prestilolem.\n",
      "Reference: Najlepiej w twoim przypadku sprawdzi się Prestilol.\tHypothesis: Najlepiej w twoim przypadku sprawdzi się presti lo.\n",
      "Reference: Możesz kupić w aptece Bisoprolol, powinien pomóc.\tHypothesis:  Możesz kupić waktyczny Bisoprolol, powinien pomóc.\n",
      "Reference: Przepiszę ci Bisoprolol, bo zwykle dobrze działa.\tHypothesis: Przepisze Cibizoprolol, bo zwykle dobrze działa.\n",
      "Reference: Powinnaś spróbować kuracji Perindoprylem.\tHypothesis: Pożylno zespołu podawca, w tym rytmie pod opieką kardiologiczną, z opieką kardiologiczną.\n",
      "Reference: Na recepcie zapiszę Perindopryl jako lek na nadciśnienie.\tHypothesis: Na recepcie zapis perioperidopryl, jako lek na nadciśnienie.\n",
      "Reference: Najlepiej w twoim przypadku sprawdzi się Ramipryl.\tHypothesis: Najlepiej w twoim przypadku sprawdzić Ramipryl.\n",
      "Reference: Na recepcie zapiszę Ramipryl.\tHypothesis: Na recepcie zapisem ramipryl.\n",
      "Reference: Najlepiej w twoim przypadku sprawdzi się Amlodipina.\tHypothesis: Najlepiej w twoim przypadku sprawdzisz Amlodipina.\n",
      "Reference: Zalecam Amlodipinę, bo dobrze działa na nadciśnienie.\tHypothesis: Zalecam amlodipinę, bo dobrze działa na nadciśnienie.\n",
      "Reference: Na recepcie zapiszę Hydrochlorotiazyd.\tHypothesis: Na recepcie zapisze hydrochorotiazyt.\n",
      "Reference: Powinnaś przyjmować Hydrochlorotiazyd na nadciśnienie.\tHypothesis: Pożynnaś przyjmować hydrochlorotiazytna nadciśnienie.\n",
      "Reference: Najlepiej w twoim przypadku sprawdzi się Losartan.\tHypothesis: Najlepiej w twoim przypadku sprawdzić zelosardę.\n",
      "Reference: Możesz kupić w aptece Losartan, powinien pomóc.\tHypothesis:  Możesz kupić w aptecylosartan, powinien pomóc.\n",
      "Reference: Najlepiej w twoim przypadku sprawdzi się Avamina.\tHypothesis: Najlepiej w twoim przypadku sprawdzi się wamin.\n",
      "Reference: Powinnaś spróbować kuracji Avaminą.\tHypothesis: Pożynu naszczubować kuracja waminou.\n",
      "Reference: Przepiszę ci Formetic, bo zwykle dobrze działa.\tHypothesis: Przepiszę onciwormic, bo zwykle dobrze działa.\n",
      "Reference: Możesz kupić w aptece Formetic, powinien pomóc.\tHypothesis:  Możesz kupić w Abtac Informatik, Powinien pomóc.\n",
      "Reference: Na recepcie zapiszę Glucophage XR jako lek na cukrzycę typu drugiego.\tHypothesis: Na recepcie zapisze glucofagu i seria colag na tkrzycy typu II.\n",
      "Reference: Możesz kupić w aptece Glucophage XR, powinien pomóc.\tHypothesis:  Możesz kupić w aptecypacji Ceglucofagi XR. Powinny pomóc.\n",
      "Reference: Możesz kupić w aptece Metformax, powinien pomóc.\tHypothesis:  Możesz kupić w aptecjum Metformas, powinien pomóc.\n",
      "Reference: Powinnaś przyjmować Metformax na cukrzycę typu drugiego.\tHypothesis: Pożynnaś przyjmować metformachsnacukrzycy typu 2.\n",
      "Reference: Na recepcie zapiszę Xigduo.\tHypothesis: Na recepcie zapiszę Xigduo.\n",
      "Reference: Na cukrzycę typu drugiego przepiszę ci Xigduo.\tHypothesis: Na cukrzycy typu drugiego przepisza Ocic-Duo.\n",
      "Reference: Na recepcie zapiszę Synjardy.\tHypothesis: Na receptie zapisze osniardy\n",
      "Reference: Powinnaś spróbować kuracji Synjardy.\tHypothesis: Pożynna zpozyka się w poradni rytmu utkowo-tkotkotkotkotkotkotkotkotkotkotkotkotkotkotkotkotkotkotkotkotkotkotkotkotkotkotkotkotkotkotkotkotkotkotkotkotkotkotkotkotkotkotkotkotkotkotkotkotkotkotkotkotkotkotkotkotkotkotkotkotkotkotkotkotkotkotkotkotkotkotkotkotkotkotkotkotkotkotkotkotkotkotkotkotkotkotkotkotkotkotkotkotkotkotkotkotkotkotkotkotkotkotkotkotkotkotkotkotkotkotkotkotkotkotkotkotkotkotkotkotkotkotkotkotkotkotkotkotkotkotkotkotkotkot. o-o-o-o-o-o-o-o-o-o-o-o-o-o-o-o-o-o-o-o-o-o-o-o-o-o-o-o-o-o-o-o-o-o-o-o-o-o-o-o-o-o-o-o-o-o-o-o-o-o-o-o\n",
      "Reference: Najlepiej w twoim przypadku sprawdzi się Actarosin.\tHypothesis: Najlepiej w twoim przypadku sprawdzi się o starości.\n",
      "Reference: Na recepcie zapiszę Actarosin.\tHypothesis: Na recepcie zapis o starości\n",
      "Reference: Powinnaś przyjmować Arterios na cukrzycę typu drugiego.\tHypothesis: Pożynnaś przyjmować arteriosnaduprzycę typu drugiego.\n",
      "Reference: Najlepiej w twoim przypadku sprawdzi się Arterios.\tHypothesis: Najlepiej w twoim przypadku sprawdzi się arterios.\n",
      "Reference: Przepiszę ci Metforminę, bo zwykle dobrze działa.\tHypothesis: Przepisze medforminy, bo zwykle dobrze działa.\n",
      "Reference: Możesz kupić w aptece Metforminę, powinien pomóc.\tHypothesis:  Możesz kupić waptec Metformina, powinien pomóc.\n",
      "Reference: Na recepcie zapiszę Sitagliptynę jako lek na cukrzycę typu drugiego.\tHypothesis: Na recepcie zapisze się tagliptynę jakolak na cukrzycę typu drugiego.\n",
      "Reference: Na cukrzycę typu drugiego przepiszę ci Sitagliptynę.\tHypothesis: Na co chyca typu drugiego przepisza ci się ta diktyna.\n",
      "Reference: Na cukrzycę typu drugiego przepiszę ci Linagliptynę.\tHypothesis: Na cukrzycy typu drugiego przepisza cilina gliptyny.\n",
      "Reference: Możesz kupić w aptece Linagliptynę, powinien pomóc.\tHypothesis:  Możesz kupić waptecylinę Gryptynę, powinien pomóc.\n",
      "Reference: Najlepiej w twoim przypadku sprawdzi się Liraglutyd.\tHypothesis: Najlepiej w twoim przypadku sprawdzi się lirablutyt.\n",
      "Reference: Na recepcie zapiszę Liraglutyd.\tHypothesis: Na recepcie zapisze lirakbutyt.\n",
      "Reference: Zalecam Dapagliflozynę, bo dobrze działa na cukrzycę typu drugiego.\tHypothesis: Zalecam zapapel fruzynę, bo dobrze działa na cukrzycy typu drugiego.\n",
      "Reference: Powinnaś przyjmować Dapagliflozynę na cukrzycę typu drugiego.\tHypothesis: Powinnaś przyjmować dopamiflozyna w toprzycy typu drugiego.\n",
      "Reference: Jeśli masz wysoki cholesterol dobrze sprawdza się Crestor.\tHypothesis: Jeśli masz wysoki cholesterol, dobrze sprawdza się krestol.\n",
      "Reference: Przepiszę ci Crestor, bo zwykle dobrze działa.\tHypothesis: Przepisze kresu rlewnego, zwykle dobrze działa.\n",
      "Reference: Najlepiej w twoim przypadku sprawdzi się Crosuvo.\tHypothesis: Najlepiej w twoim przypadku sprawdzi się krossofok.\n",
      "Reference: Możesz kupić w aptece Crosuvo, powinien pomóc.\tHypothesis:  Możesz kupić w aptece Crossuo, powinien pomóc.\n",
      "Reference: Na wysoki cholesterol przepiszę ci Ridlip.\tHypothesis: Na wysokiej cholesterol przepisze chili-grip.\n",
      "Reference: Przepiszę ci Ridlip, bo zwykle dobrze działa.\tHypothesis: Przepiszę kiri lipid, bo zwykle dobrze działa.\n",
      "Reference: Na wysoki cholesterol przepiszę ci Romazic.\tHypothesis: Na wysokich cholesterol przepiszę chiromazic.\n",
      "Reference: Powinnaś spróbować kuracji Romazicem.\tHypothesis: Pożylno wskazań do zespołu oparcia romantycznego.\n",
      "Reference: Na recepcie zapiszę Rosucard.\tHypothesis: Na recepcie zapis arosucard.\n",
      "Reference: Możesz kupić w aptece Rosucard, powinien pomóc.\tHypothesis:  Możesz kupić w Aptecum Rosul Sarty, powinien pomóc.\n",
      "Reference: Przepiszę ci Rosutrox, bo zwykle dobrze działa.\tHypothesis: Przepiszę mięsci Rosutrox, bo zwykle dobrze działa.\n",
      "Reference: Zalecam Rosutrox, bo dobrze działa na wysoki cholesterol.\tHypothesis: Zalecam Rosutrox, bo dobrze działa na wysokie cholesterol.\n",
      "Reference: Możesz kupić w aptece Roswerę, powinien pomóc.\tHypothesis:  Możesz kupić w aptecjum rosfery, powinien pomóc.\n",
      "Reference: Zalecam Roswerę, bo dobrze działa na wysoki cholesterol.\tHypothesis: Zalecam rosferę, bo dobrze działa na wysokich cholesterol.\n",
      "Reference: Najlepiej w twoim przypadku sprawdzi się Suvardio.\tHypothesis: Najlepiej w twoim przypadku sprawdzi się suwarbią.\n",
      "Reference: Jeśli masz wysoki cholesterol dobrze sprawdza się Suvardio.\tHypothesis: Jeści masz wysoki cholesterol, dobrze sprawdza się suvardia.\n",
      "Reference: Na wysoki cholesterol przepiszę ci Zahron.\tHypothesis: Na wysokiej cholesterol przepisze ciachron.\n",
      "Reference: Możesz kupić w aptece Zahron, powinien pomóc.\tHypothesis:  Możesz kupić w aptecja Zakron, powinien pomóc.\n",
      "Reference: Jeśli masz wysoki cholesterol dobrze sprawdza się Zaranta.\tHypothesis: Jeś masz wysoki cholesterol, dobrze sprawdza się z renta.\n",
      "Reference: Na recepcie zapiszę Zarantę jako lek na wysoki cholesterol.\tHypothesis: Na recepcie zapiszą zarantę jakolegna wysokiej cholesterol.\n",
      "Reference: Na recepcie zapiszę Rosuvastatin Medical Valley.\tHypothesis: Na recepcie zapis rozluwastatin medicine Valay.\n",
      "Reference: Możesz kupić w aptece Rosuvastatin Medical Valley, powinien pomóc.\tHypothesis:  Możesz kupić w autece Roswastatii w Magnicel Valley. Powinien pomóc.\n",
      "Reference: Najlepiej w twoim przypadku sprawdzi się Vigantoletten.\tHypothesis: Najlepiej w twoim przypadku sprawdzi się Wigantole ten.\n",
      "Reference: Jeśli masz niedobór witaminy D dobrze sprawdza się Vigantoletten.\tHypothesis: Jeśli maż niedobór witaminy D, dobrze sprawdza się wigentoleten.\n",
      "Reference: Przepiszę ci Vigantol, bo zwykle dobrze działa.\tHypothesis: Przepisia cigi gantol, bo zwykle dobrze działa.\n",
      "Reference: Na recepcie zapiszę Vigantol.\tHypothesis: Na recepcie zapiszę Viganto.\n",
      "Reference: Powinnaś spróbować kuracji Ibuvit D3.\tHypothesis: Pożylna spróbowała kuracji ibupruty dyncznej.\n",
      "Reference: Jeśli masz niedobór witaminy D dobrze sprawdza się Ibuvit D3.\tHypothesis: Jeś w imalnie dobór witaminy D, dobrze sprawdza się i bufity T3.\n",
      "Reference: Zalecam Biaron D, bo dobrze działa na niedobór witaminy D.\tHypothesis: Zalecam biarę D, bo dobrze działa na niedobór witamin D.\n",
      "Reference: Najlepiej w twoim przypadku sprawdzi się Biaron D.\tHypothesis: Najlepiej w twoim przypadku sprawdzi się biaronę.\n",
      "Reference: Przepiszę ci ApoD3, bo zwykle dobrze działa.\tHypothesis: Przepiszę ci aopodentrze, bo zwykle dobrze działa.\n",
      "Reference: Jeśli masz niedobór witaminy D dobrze sprawdza się ApoD3.\tHypothesis: Jeździ masz niedobrów witaminy D, dobrze sprawdzę się a podaj trzy.\n",
      "Reference: Przepiszę ci Devikap, bo zwykle dobrze działa.\tHypothesis: Przeproszę ci dywika, bo zwykle dobrze działa.\n",
      "Reference: Najlepiej w twoim przypadku sprawdzi się Devikap.\tHypothesis: Najlepiej w twoim przypadku sprawdzi się dewikap.\n",
      "Reference: Powinnaś spróbować kuracji Witaminą D3 Forte.\tHypothesis: Pożynna spróbowała kuracji witaminą D3Fortem.\n",
      "Reference: Powinnaś spróbować kuracji Witaminą D3 Forte.\tHypothesis: Pożylnać spróbowawa w Kuracji Mitaminą D3-Fortę.\n",
      "Reference: Na recepcie zapiszę Oriovit-D 1000 jako lek na niedobór witaminy D.\tHypothesis: Na recepcie zapiszę oriolipę 1000 Jk na niedobór witaminy D.\n",
      "Reference: Jeśli masz niedobór witaminy D dobrze sprawdza się Oriovit-D 1000.\tHypothesis: Jeśli masz niedobór witaminy T, dobrze sprawdza się Oriolist T.\n",
      "Reference: Na recepcie zapiszę Vigalex Bio jako lek na niedobór witaminy D.\tHypothesis: Na recepcie zapisze Migalex Biojak-Lek na niedobór witaminy D.\n",
      "Reference: Na niedobór witaminy D przepiszę ci Vigalex Bio.\tHypothesis: Na niedobór witamin D przepiszę Cilic, Alex Bio.\n",
      "Reference: Zalecam Ospen 1000, bo dobrze działa na anginę.\tHypothesis: Zalecam ospę 1000, bo dobrze działa na anginy.\n",
      "Reference: Przepiszę ci Ospen 1000, bo zwykle dobrze działa.\tHypothesis: Przepisze cień Ospen 1000, bo zwykle dobrze działa.\n",
      "Reference: Najlepiej w twoim przypadku sprawdzi się Amotaks.\tHypothesis: Najlepiej w twoim przypadku sprawdzi się Amotax.\n",
      "Reference: Przepiszę ci Amotaks, bo zwykle dobrze działa.\tHypothesis: Przepiszę tijelamotak, bo zwykle dobrze działa.\n",
      "Reference: Możesz kupić w aptece Augmentin, powinien pomóc.\tHypothesis:  Możesz kupić w aptecja augmenti, powinien pomóc.\n",
      "Reference: Powinnaś spróbować kuracji Augmentin.\tHypothesis: Pożynna spróbowała kuracji augmentin.\n",
      "Reference: Na recepcie zapiszę Macromax jako lek na anginę.\tHypothesis: Na recepcie zapis ma tromak z piekolek na anginie.\n",
      "Reference: Powinnaś spróbować kuracji Macromax.\tHypothesis: Pożynne spróbować kuracji Matromos.\n",
      "Reference: Na anginę przepiszę ci Sumamed.\tHypothesis: Na anginele przepisomciskum amet.\n",
      "Reference: Zalecam Sumamed, bo dobrze działa na anginę.\tHypothesis: Zalecam sumometr, bo dobrze działa na anginy.\n",
      "Reference: Na recepcie zapiszę Amoksycylinę jako lek na anginę.\tHypothesis: Na recepcie zapisze amoksycylinę i okolicna angina.\n",
      "Reference: Zalecam Amoksycylinę, bo dobrze działa na anginę.\tHypothesis: Zalecam Amosycylinę, bo dobrze działa na anginę.\n",
      "Reference: Przepiszę ci Omeprazol, bo zwykle dobrze działa.\tHypothesis: Przepiszę ci omeprazol, bo zwykle dobrze działa.\n",
      "Reference: Powinnaś spróbować kuracji Omeprazolem.\tHypothesis: Pożynne spróbować kuracji Omeprezolem.\n",
      "Reference: Możesz kupić w aptece Pantoprazol, powinien pomóc.\tHypothesis:  Możesz kupić w aptece Pantopla Zol. Powinien pomóc.\n",
      "Reference: Na recepcie zapiszę Pantoprazol jako lek na zgaga.\tHypothesis: Na recepcie zapiszy pantoprazol jakolak nasgaga.\n",
      "Reference: Powinnaś przyjmować Laktulozę na zgaga.\tHypothesis: Pożynna się przyjmować laktulozę Nazgada.\n",
      "Reference: Zalecam Laktulozę, bo dobrze działa na zgaga.\tHypothesis: Zalecam laktulizę, bo dobrze działa nasz gaga.\n",
      "Reference: Jeśli masz zgaga dobrze sprawdza się Bisakodyl.\tHypothesis: Jeśli maż z Gagga dobrze, sprawdza się BISC-a kody.\n",
      "Reference: Zalecam Bisakodyl, bo dobrze działa na zgaga.\tHypothesis: Zalecam Bicacodyl, bo dobrze działa nosgaga.\n",
      "Reference: Zalecam Sukralfat, bo dobrze działa na zgaga.\tHypothesis: Zalecam sukralfat, bo dobrze działa nazgaga.\n",
      "Reference: Jeśli masz zgaga dobrze sprawdza się Sukralfat.\tHypothesis: Jeśli masz zgag, dobrze sprawdza się sukralfat.\n",
      "Reference: Na recepcie zapiszę Folik.\tHypothesis: Na recepcie zapisza Mfolic.\n",
      "Reference: Przepiszę ci Folik, bo zwykle dobrze działa.\tHypothesis: Przepiszę tijelik, bo zwykle dobrze działa.\n",
      "Reference: Powinnaś przyjmować ActiFolin na profilaktyka.\tHypothesis: Pożynna się przyjmować atcjifolinna profilaktyka.\n",
      "Reference: Najlepiej w twoim przypadku sprawdzi się ActiFolin.\tHypothesis: Najlepiej w twoim przypadku sprawdzi się acetykoli.\n",
      "Reference: Najlepiej w twoim przypadku sprawdzi się Aliness Kwas Foliowy.\tHypothesis: Najlepiej w twoim przypadku sprawdzi się aline z kwas foliowy.\n",
      "Reference: Przepiszę ci Aliness Kwas Foliowy, bo zwykle dobrze działa.\tHypothesis: Przepiszę ci eliny z kwas foliowy, bo zwykle dobrze działa.\n",
      "Reference: Możesz kupić w aptece D-Vitum Forte, powinien pomóc.\tHypothesis:  Możesz kupić w aptecen diety fortem, powinien pomóc.\n",
      "Reference: Najlepiej w twoim przypadku sprawdzi się D-Vitum Forte.\tHypothesis: Najlepiej w twoim przypadku sprawdzić się dewitymfortem.\n",
      "Reference: Powinnaś spróbować kuracji Olicaps Witaminą D3.\tHypothesis: Pożynna spróbowała kuracji Olicap z witaminą D3.\n",
      "Reference: Na recepcie zapiszę Olicaps Witamina D3 jako lek na profilaktyka.\tHypothesis: Na recepcie zapisza olicapzvitaminadetrzyja kolegna profilaktyka.\n",
      "Reference: Powinnaś spróbować kuracji OstroVit Omega 3.\tHypothesis: Pożynna spróbowała kuracji ostrożnego w i-Tomega 3.\n",
      "Reference: Na recepcie zapiszę OstroVit Omega 3 jako lek na profilaktyka.\tHypothesis: Na recepcie zapiszą ostrość vit omega3 jak lekna profilaktyka.\n",
      "Reference: Na recepcie zapiszę KFD Omega 3.\tHypothesis: Na recepcie zapisza mkawę do omega-3.\n",
      "Reference: Przepiszę ci KFD Omega 3, bo zwykle dobrze działa.\tHypothesis: Przepiszę kikafetę Omega 3, bo zwykle dobrze działa.\n",
      "Reference: Powinnaś spróbować kuracji Zolpidemem.\tHypothesis: Pożynna spróbowała stworzenia z opatrzątkową zopiekułami.\n",
      "Reference: Zalecam Zolpidem, bo dobrze działa na bezsenność.\tHypothesis: Zalecam zorpil, bo dobrze działa na bezsenność.\n",
      "Reference: Najlepiej w twoim przypadku sprawdzi się Zopiklon.\tHypothesis: Najlepiej w twoim przypadku sprawdź się z Opiklą.\n",
      "Reference: Na recepcie zapiszę Zopiklon.\tHypothesis: Na recepcie zapisem uzalpitlon.\n",
      "Reference: Na recepcie zapiszę Melatoninę.\tHypothesis: Na recepcie zapis zamelotoniny.\n",
      "Reference: Najlepiej w twoim przypadku sprawdzi się Melatonina.\tHypothesis: Najlepiej w twoim przypadku sprawdzić się melatonina.\n",
      "Reference: Przepiszę ci Trazodon, bo zwykle dobrze działa.\tHypothesis: Przepisia trrazodon, bo zwykle dobrze działa.\n",
      "Reference: Na recepcie zapiszę Trazodon.\tHypothesis: Na recepcie zapis zetrazodon.\n",
      "Reference: Zalecam Mirtazapinę, bo dobrze działa na bezsenność.\tHypothesis: Zalecam mirta za pilny, bo dobrze działa na bezsenność.\n",
      "Reference: Powinnaś spróbować kuracji Mirtazapiną.\tHypothesis: Pożynnaś spróbować kuracjami rtazapiną.\n"
     ]
    }
   ],
   "source": [
    "for ref, hyp in zip(references, hypotheses):\n",
    "    print(f\"Reference: {ref}\\tHypothesis: {hyp}\")"
   ]
  },
  {
   "cell_type": "code",
   "execution_count": 40,
   "id": "8b88194f",
   "metadata": {},
   "outputs": [
    {
     "name": "stderr",
     "output_type": "stream",
     "text": [
      "Transcribing: 100%|██████████| 75/75 [31:26<00:00, 25.15s/it]   \n"
     ]
    }
   ],
   "source": [
    "hypotheses = []\n",
    "references = []\n",
    "\n",
    "for ex in tqdm(subset_dataset, desc=\"Transcribing\"):\n",
    "    transcription = transcribe_example(ex, initial_prompt=initial_prompt)\n",
    "    hypotheses.append(transcription)\n",
    "    references.append(ex[\"phrase\"])"
   ]
  },
  {
   "cell_type": "code",
   "execution_count": 43,
   "id": "50e3ce1f",
   "metadata": {},
   "outputs": [
    {
     "name": "stdout",
     "output_type": "stream",
     "text": [
      "Subset CER: 1.7799\n"
     ]
    }
   ],
   "source": [
    "cer_score = cer(references, hypotheses)\n",
    "\n",
    "print(f\"Subset CER: {cer_score:.4f}\")"
   ]
  },
  {
   "cell_type": "code",
   "execution_count": 44,
   "id": "d5020b63",
   "metadata": {},
   "outputs": [
    {
     "name": "stdout",
     "output_type": "stream",
     "text": [
      "Reference: Actarosin\tHypothesis: Ostrosi.\n",
      "Reference: ActiFolin\tHypothesis: Abstij folii.\n",
      "Reference: Aliness Kwas Foliowy\tHypothesis: Alina z Kwas Foiowem.\n",
      "Reference: Amlodipina\tHypothesis: Amlodipina.\n",
      "Reference: Amoksycylina\tHypothesis: Amoż siedzylina.\n",
      "Reference: Amotaks\tHypothesis: Amotax.\n",
      "Reference: ApoD3\tHypothesis: Apoedetry.\n",
      "Reference: Arterios\tHypothesis: Ateria.\n",
      "Reference: Augmentin\tHypothesis: Pałka nańczyna.\n",
      "Reference: Avamina\tHypothesis:  Awaimina.\n",
      "Reference: Biaron D\tHypothesis: Jedl.\n",
      "Reference: Bibloc\tHypothesis: Pierdzol.\n",
      "Reference: Bisakodyl\tHypothesis: Dli zakonyli.\n",
      "Reference: Bisocard\tHypothesis: I.\n",
      "Reference: Bisoprolol\tHypothesis: Nie zrozumiał.\n",
      "Reference: Bisoratio\tHypothesis: Wi sora tie.\n",
      "Reference: Concor\tHypothesis: Ponco.\n",
      "Reference: Coronal\tHypothesis: Trona.\n",
      "Reference: Crestor\tHypothesis: Przepływ do oparzeń dożylnych do zespołu podatku w poradni lewej komory, z powodu oparcia zespołu powierzchni, z powodu oparzenia z oparzeń z oparzeń z oparzeń z oparzeń z oparzeń z oparzeń z oparzeń z oparzeń z oparzeń z oparzeń z oparzeń z oparzeń z oparzeń z oparzeń z oparzeń z oparzeń z oparzeń z oparzeń z oparzeń z oparzeń z oparzeń z oparzeń z oparzeń z oparzeń z oparzeń z oparzeń z oparzeń z oparzeń z oparzeń z oparzeń z oparzeń z oparzeń z oparzeń z oparzeń z oparzeń z oparzeń z oparzeń z oparzeń z oparzeń z oparzeń z oparzeń z oparzeń z oparzeń z oparzeń z oparZXXXXXXXXXXXXXXXXXXXXXXXXXXXXXXXXXXXXXXXXXXXXXXXXXXXXXXXXXXXXXXXXXXXXXXXXXXXXX XX XX XX XX XX XX XX XX XX XX XX X X X X X X X X X X X X X X X X X X X X X X X X X X X X X X X X X X X X X X X X X X X X X X X X X X X X X X X X X X X X X X\n",
      "Reference: Crosuvo\tHypothesis:  Piekrosowu.\n",
      "Reference: D-Vitum Forte\tHypothesis: Dewidum fort.\n",
      "Reference: Dapagliflozyna\tHypothesis: Na pogliw lozyna.\n",
      "Reference: Devikap\tHypothesis: Dewika.\n",
      "Reference: Dolgit\tHypothesis: Dołogi.\n",
      "Reference: Folik\tHypothesis: Toli.\n",
      "Reference: Formetic\tHypothesis: Korometriczna.\n",
      "Reference: Glucophage XR\tHypothesis: Dlu cofady i ssew.\n",
      "Reference: Hydrochlorotiazyd\tHypothesis: Kieruję do oddziałuotologii.\n",
      "Reference: Ibuprom\tHypothesis:  Ibuprom.\n",
      "Reference: Ibuvit D3\tHypothesis: Ibupr w dynczyn.\n",
      "Reference: KFD Omega 3\tHypothesis: Kręgi PKW do omega 3.\n",
      "Reference: Laktuloza\tHypothesis: Lak tło za.\n",
      "Reference: Linagliptyna\tHypothesis: Linaviptina.\n",
      "Reference: Liraglutyd\tHypothesis: Zyja dutyt.\n",
      "Reference: Losartan\tHypothesis: Losaptam.\n",
      "Reference: Macromax\tHypothesis: Matromaks.\n",
      "Reference: Melatonina\tHypothesis: Na latach 1.\n",
      "Reference: Metafen\tHypothesis: Metaphen.\n",
      "Reference: Metformax\tHypothesis: Netformaz.\n",
      "Reference: Metformina\tHypothesis: Metformina.\n",
      "Reference: Mirtazapina\tHypothesis: Mieta zapina.\n",
      "Reference: Nurofen Forte\tHypothesis: Nurowendą w płycie.\n",
      "Reference: Olicaps Witamina D3\tHypothesis: Oliczaw z Vitamina D3.\n",
      "Reference: Omeprazol\tHypothesis: Omeprazol.\n",
      "Reference: Oriovit-D 1000\tHypothesis: Orej łóźdź 2000.\n",
      "Reference: Ospen 1000\tHypothesis: Ostman dźwąt.\n",
      "Reference: OstroVit Omega 3\tHypothesis: Ostro widoczna omega 3.\n",
      "Reference: Pantoprazol\tHypothesis: Panto prawo.\n",
      "Reference: Perindopryl\tHypothesis: Pewień do prytu.\n",
      "Reference: Prestilol\tHypothesis: Prostil.\n",
      "Reference: Ramipryl\tHypothesis: Ramipryl.\n",
      "Reference: Ridlip\tHypothesis: Widzę.\n",
      "Reference: Romazic\tHypothesis: Ruch maficj.\n",
      "Reference: Rosucard\tHypothesis: Wyosłucam od.\n",
      "Reference: Rosutrox\tHypothesis: Rąz Upt Rok z rtokrv.\n",
      "Reference: Rosuvastatin Medical Valley\tHypothesis: Proszę w usta kliniki medycyny lewej.\n",
      "Reference: Roswera\tHypothesis:  Osieram.\n",
      "Reference: Sitagliptyna\tHypothesis: Człet arytmistyczny.\n",
      "Reference: Sobycor\tHypothesis: Za byco!\n",
      "Reference: Sukralfat\tHypothesis: Zukral fawr.\n",
      "Reference: Sumamed\tHypothesis: Zu moment.\n",
      "Reference: Suvardio\tHypothesis: Cywoargie.\n",
      "Reference: Synjardy\tHypothesis: Trenier do lewej.\n",
      "Reference: Trazodon\tHypothesis: Tarzodą.\n",
      "Reference: Vigalex Bio\tHypothesis: Wygalek zbiór.\n",
      "Reference: Vigalex Forte\tHypothesis: Widaleks FORD.\n",
      "Reference: Vigalex Max\tHypothesis: G-D x-max.\n",
      "Reference: Vigantol\tHypothesis: Zidam do.\n",
      "Reference: Vigantoletten\tHypothesis: Zi zantaleten.\n",
      "Reference: Witamina D3 Forte\tHypothesis: Witamina D340.\n",
      "Reference: Xigduo\tHypothesis: Zidło.\n",
      "Reference: Zahron\tHypothesis: Zakrung.\n",
      "Reference: Zaranta\tHypothesis: Za rantę.\n",
      "Reference: Zolpidem\tHypothesis: Za opiekiem!\n",
      "Reference: Zopiklon\tHypothesis: Zapiekam.\n"
     ]
    }
   ],
   "source": [
    "for ref, hyp in zip(references, hypotheses):\n",
    "    print(f\"Reference: {ref}\\tHypothesis: {hyp}\")"
   ]
  },
  {
   "cell_type": "code",
   "execution_count": 45,
   "id": "59541020",
   "metadata": {},
   "outputs": [
    {
     "name": "stdout",
     "output_type": "stream",
     "text": [
      "['Actarosin', 'ActiFolin', 'Aliness Kwas Foliowy', 'Amlodipina', 'Amoksycylina', 'Amotaks', 'ApoD3', 'Arterios', 'Augmentin', 'Avamina', 'Biaron D', 'Bibloc', 'Bisakodyl', 'Bisocard', 'Bisoprolol', 'Bisoratio', 'Concor', 'Coronal', 'Crestor', 'Crosuvo', 'D-Vitum Forte', 'Dapagliflozyna', 'Devikap', 'Dolgit', 'Folik', 'Formetic', 'Glucophage XR', 'Hydrochlorotiazyd', 'Ibuprom', 'Ibuvit D3', 'KFD Omega 3', 'Laktuloza', 'Linagliptyna', 'Liraglutyd', 'Losartan', 'Macromax', 'Melatonina', 'Metafen', 'Metformax', 'Metformina', 'Mirtazapina', 'Nurofen Forte', 'Olicaps Witamina D3', 'Omeprazol', 'Oriovit-D 1000', 'Ospen 1000', 'OstroVit Omega 3', 'Pantoprazol', 'Perindopryl', 'Prestilol', 'Ramipryl', 'Ridlip', 'Romazic', 'Rosucard', 'Rosutrox', 'Rosuvastatin Medical Valley', 'Roswera', 'Sitagliptyna', 'Sobycor', 'Sukralfat', 'Sumamed', 'Suvardio', 'Synjardy', 'Trazodon', 'Vigalex Bio', 'Vigalex Forte', 'Vigalex Max', 'Vigantol', 'Vigantoletten', 'Witamina D3 Forte', 'Xigduo', 'Zahron', 'Zaranta', 'Zolpidem', 'Zopiklon']\n",
      "['Ostrosi.', 'Abstij folii.', 'Alina z Kwas Foiowem.', 'Amlodipina.', 'Amoż siedzylina.', 'Amotax.', 'Apoedetry.', 'Ateria.', 'Pałka nańczyna.', ' Awaimina.', 'Jedl.', 'Pierdzol.', 'Dli zakonyli.', 'I.', 'Nie zrozumiał.', 'Wi sora tie.', 'Ponco.', 'Trona.', 'Przepływ do oparzeń dożylnych do zespołu podatku w poradni lewej komory, z powodu oparcia zespołu powierzchni, z powodu oparzenia z oparzeń z oparzeń z oparzeń z oparzeń z oparzeń z oparzeń z oparzeń z oparzeń z oparzeń z oparzeń z oparzeń z oparzeń z oparzeń z oparzeń z oparzeń z oparzeń z oparzeń z oparzeń z oparzeń z oparzeń z oparzeń z oparzeń z oparzeń z oparzeń z oparzeń z oparzeń z oparzeń z oparzeń z oparzeń z oparzeń z oparzeń z oparzeń z oparzeń z oparzeń z oparzeń z oparzeń z oparzeń z oparzeń z oparzeń z oparzeń z oparzeń z oparzeń z oparzeń z oparzeń z oparZXXXXXXXXXXXXXXXXXXXXXXXXXXXXXXXXXXXXXXXXXXXXXXXXXXXXXXXXXXXXXXXXXXXXXXXXXXXXX XX XX XX XX XX XX XX XX XX XX XX X X X X X X X X X X X X X X X X X X X X X X X X X X X X X X X X X X X X X X X X X X X X X X X X X X X X X X X X X X X X X X', ' Piekrosowu.', 'Dewidum fort.', 'Na pogliw lozyna.', 'Dewika.', 'Dołogi.', 'Toli.', 'Korometriczna.', 'Dlu cofady i ssew.', 'Kieruję do oddziałuotologii.', ' Ibuprom.', 'Ibupr w dynczyn.', 'Kręgi PKW do omega 3.', 'Lak tło za.', 'Linaviptina.', 'Zyja dutyt.', 'Losaptam.', 'Matromaks.', 'Na latach 1.', 'Metaphen.', 'Netformaz.', 'Metformina.', 'Mieta zapina.', 'Nurowendą w płycie.', 'Oliczaw z Vitamina D3.', 'Omeprazol.', 'Orej łóźdź 2000.', 'Ostman dźwąt.', 'Ostro widoczna omega 3.', 'Panto prawo.', 'Pewień do prytu.', 'Prostil.', 'Ramipryl.', 'Widzę.', 'Ruch maficj.', 'Wyosłucam od.', 'Rąz Upt Rok z rtokrv.', 'Proszę w usta kliniki medycyny lewej.', ' Osieram.', 'Człet arytmistyczny.', 'Za byco!', 'Zukral fawr.', 'Zu moment.', 'Cywoargie.', 'Trenier do lewej.', 'Tarzodą.', 'Wygalek zbiór.', 'Widaleks FORD.', 'G-D x-max.', 'Zidam do.', 'Zi zantaleten.', 'Witamina D340.', 'Zidło.', 'Zakrung.', 'Za rantę.', 'Za opiekiem!', 'Zapiekam.']\n"
     ]
    }
   ],
   "source": [
    "print(references)\n",
    "print(hypotheses)"
   ]
  },
  {
   "cell_type": "markdown",
   "id": "9b73a6f0",
   "metadata": {},
   "source": [
    "### Using suppressed words "
   ]
  },
  {
   "cell_type": "code",
   "execution_count": null,
   "id": "298e148c",
   "metadata": {},
   "outputs": [],
   "source": [
    "bad_words = [\n",
    "    \"Awaimina\", \"Netformaz\", \"Metaphen\", \"Mieta zapina\", \"suwardia\", \"wigantoletem\", \"i bufet\", \"amotax\"\n",
    "    \"Nurowendą\", \"Oliczaw z Vitamina\", \"Tarzodą\", \"hydrochorotiazyt\", \"medformax\", \"devicap\"\n",
    "    \"Witamina D340\", \"Ostrosi\", \"Metaphen\", \"Netformaz\", \"Nurowendą\", \"kąco\", \"corozalne\", \"rosferę\"\n",
    "]"
   ]
  },
  {
   "cell_type": "code",
   "execution_count": 56,
   "id": "75e785df",
   "metadata": {},
   "outputs": [
    {
     "name": "stderr",
     "output_type": "stream",
     "text": [
      "Transcribing: 100%|██████████| 146/146 [1:24:00<00:00, 34.52s/it]  \n"
     ]
    }
   ],
   "source": [
    "hypotheses = []\n",
    "references = []\n",
    "\n",
    "for ex in tqdm(dataset, desc=\"Transcribing\"):\n",
    "    transcription = transcribe_example(ex, bad_words=bad_words)\n",
    "    hypotheses.append(transcription)\n",
    "    references.append(ex[\"phrase\"])"
   ]
  },
  {
   "cell_type": "code",
   "execution_count": 57,
   "id": "b4d67c83",
   "metadata": {},
   "outputs": [
    {
     "name": "stdout",
     "output_type": "stream",
     "text": [
      "Subset WER: 0.9536\n",
      "Subset CER: 0.5920\n"
     ]
    }
   ],
   "source": [
    "wer_score = wer(references, hypotheses)\n",
    "cer_score = cer(references, hypotheses)\n",
    "\n",
    "print(f\"Subset WER: {wer_score:.4f}\")\n",
    "print(f\"Subset CER: {cer_score:.4f}\")"
   ]
  },
  {
   "cell_type": "code",
   "execution_count": 58,
   "id": "11f8e4eb",
   "metadata": {},
   "outputs": [
    {
     "name": "stdout",
     "output_type": "stream",
     "text": [
      "Reference: Powinnaś spróbować kuracji Ibupromem.\tHypothesis: Po winu nie spróbować kuracji w upromem.\n",
      "Reference: Najlepiej w twoim przypadku sprawdzi się Ibuprom.\tHypothesis: Najlepiej w twoim przypadku sprawdzi się IBU-PRO.\n",
      "Reference: Powinnaś spróbować kuracji Metafenem.\tHypothesis: Pożynne spróbować kuracji metafenem.\n",
      "Reference: Możesz kupić w aptece Metafen, powinien pomóc.\tHypothesis: Możesz kupić w aptycy metafem, powinien pomóc.\n",
      "Reference: Najlepiej w twoim przypadku sprawdzi się Nurofen Forte.\tHypothesis: Najlepiej w twoim przypadku sprawdzi się nurowenworte.\n",
      "Reference: Zalecam Nurofen Forte, bo dobrze działa na ból i stan zapalny.\tHypothesis: Zalecam norowę Fortem, bo dobrze działa nabór i stan zapalny.\n",
      "Reference: Przepiszę ci Dolgit, bo zwykle dobrze działa.\tHypothesis: Przepiszę ci doldit w osłupę, pobudzę węzeł węzeł węzeł węzeł węzeł węzeł węzeł węzeł węzeł węzeł węzeł węzeł węzeł węzeł węzeł węzeł węzeł węzeł węzeł węzeł węzeł węzeł węzeł węzeł węzeł węzeł węzeł węzeł węzeł węzeł węzeł węzeł węzeł węzeł węzeł węzeł węzeł węzeł węzeł węzeł węzeł węzeł węzeł węzeł węzeł węzeł węzeł węzeł węzeł węzeł węzeł węzeł węzeł węzeł węzeł węzecak węzec o węzec o węzec o węzec o węzec o węzec o węzec o węzec o węzec o węzec o węzec o węzec o węzec o węzec o węzec o węzec o węzóz o węz� o węz� o węz� o węz� o węz� o węz� o węz� o węz� o węz� o węz� o węz� o węz� o węz� o węz� o węz� o węz� o z p z b z b z b z b z b z b z b z b z b z b z b z b z b z b z b z b z\n",
      "Reference: Na recepcie zapiszę Dolgit jako lek na ból i stan zapalny.\tHypothesis: Na recepcie zapiszę dolegięcie do leka ból i stan zapalny.\n",
      "Reference: Na nadciśnienie przepiszę ci Bisocard.\tHypothesis: Na nadciśnienie przepisów cipisocard.\n",
      "Reference: Zalecam Bisocard, bo dobrze działa na nadciśnienie.\tHypothesis: Zalecam bisokrat, bo dobrze działana nadciśnienie.\n",
      "Reference: Jeśli masz nadciśnienie dobrze sprawdza się Bibloc.\tHypothesis: Jeśli masz nadciśnienie dobrze, sprawdzę się w i-LOG.\n",
      "Reference: Zalecam Bibloc, bo dobrze działa na nadciśnienie.\tHypothesis: Zalecam Bibloc, bo dobrze działana nadciśnienie.\n",
      "Reference: Na nadciśnienie przepiszę ci Concor.\tHypothesis: Na nadciśnienie przepiszeć konsult.\n",
      "Reference: Jeśli masz nadciśnienie dobrze sprawdza się Concor.\tHypothesis: Jeśli masz nadciśnienie dobrze, sprawdza się kąta.\n",
      "Reference: Przepiszę ci Bisoratio, bo zwykle dobrze działa.\tHypothesis: Przepiszę kibicę radiotopię, bo zwykle dobrze działa.\n",
      "Reference: Na recepcie zapiszę Bisoratio jako lek na nadciśnienie.\tHypothesis: Na recepcie zapiszą bisoratię jako lek na nadciśnienie.\n",
      "Reference: Na recepcie zapiszę Sobycor.\tHypothesis: Na recepcie zapisze sobie cor.\n",
      "Reference: Na recepcie zapiszę Sobycor.\tHypothesis: Na recepcie zapisze osobyco-r, \n",
      "Reference: Na recepcie zapiszę Coronal jako lek na nadciśnienie.\tHypothesis: Na recepcie zapisze coronal jaką lewą na nadciśnienie.\n",
      "Reference: Powinnaś przyjmować Coronal na nadciśnienie.\tHypothesis: Pożynna śwismola w porównaniu do porównania do porównania do porównania do porównania do porównania do porównania do porównania do porównania do porównania do porównania do porównania do porównania do porównania do porównania do porównania do porównania do porównania do porównania do porównania do porównania do porównania do porównania do porównania do porównania do porównania do porównania do porównania do porównania do porównania do porównania do poró w ronania do por ronania do por ronania do por ronania do por ronania do por ronania do por ronania do por ronania do por ronania do por ronania do por ronania do por ronania 2,1,1,1,1,1,1,1,1,1,1,1,1,1,1,1,1,1,1,1,1,1,1,1,1,1,1,1,1,1,1,1,1,1,1,1,1,1,1,1,1,1,1,1,1,1,1,1,1,1,1,1,1 had 1,1,1 had1,1 1 1 1 1 1 1 1 1 1 1 1 1 1 1 1 1 1 1 1 1 1 1 1 1 1 1 1 1 1 1 1 1 1 1 1 1 1 1 1 1 1 1 1 1 1 1 1 1 1 1 1 1 1 1 1 1 1 1 1 1 1 1 1 1 1 1 1 1 1 1 1 1 1 1 1 1 1 1 1 1 1 1 1 1 1 1 1 1 1 1 1 1 1 1 1 1 1 1 1 1 1 1 1\n",
      "Reference: Powinnaś spróbować kuracji Prestilolem.\tHypothesis: Pożyl mały, aora w prawej linii prawej. \n",
      "Reference: Najlepiej w twoim przypadku sprawdzi się Prestilol.\tHypothesis: Najlepiej w twoim przypadku sprawdzi się presti lo.\n",
      "Reference: Możesz kupić w aptece Bisoprolol, powinien pomóc.\tHypothesis: Możesz kupić w Aktecy Bicoprolu, powinien pomóc.\n",
      "Reference: Przepiszę ci Bisoprolol, bo zwykle dobrze działa.\tHypothesis: Przepisze cibisoprolol, bo zwykle dobrze działa.\n",
      "Reference: Powinnaś spróbować kuracji Perindoprylem.\tHypothesis: Pożyl mać skupić w kuratcji Pellindoprylem.\n",
      "Reference: Na recepcie zapiszę Perindopryl jako lek na nadciśnienie.\tHypothesis: Na recepcie zapisze periokulakolek na nadciśnienie.\n",
      "Reference: Najlepiej w twoim przypadku sprawdzi się Ramipryl.\tHypothesis: Najlepiej w twoim przypadku sprawdzi się rany pyl.\n",
      "Reference: Na recepcie zapiszę Ramipryl.\tHypothesis: Na recepcie zapisze ramiprl.\n",
      "Reference: Najlepiej w twoim przypadku sprawdzi się Amlodipina.\tHypothesis: Najlepiej w twoim przypadku sprawdzisz amiodipinę.\n",
      "Reference: Zalecam Amlodipinę, bo dobrze działa na nadciśnienie.\tHypothesis: Zalecam amlodipinę, bo dobrze działa na nadciśnienie.\n",
      "Reference: Na recepcie zapiszę Hydrochlorotiazyd.\tHypothesis: Na recepcie zapiszę hydrochorotiazyt.\n",
      "Reference: Powinnaś przyjmować Hydrochlorotiazyd na nadciśnienie.\tHypothesis: Pożynna się przyjmować hydrochlorotiazyt na nadciśnienie.\n",
      "Reference: Najlepiej w twoim przypadku sprawdzi się Losartan.\tHypothesis: Najlepiej w twoim przypadku sprawdzi się losartem.\n",
      "Reference: Możesz kupić w aptece Losartan, powinien pomóc.\tHypothesis: Możesz kupić w aptecjum sartan, powinien pomóc.\n",
      "Reference: Najlepiej w twoim przypadku sprawdzi się Avamina.\tHypothesis: Najlepiej w twoim przypadku sprawdzi się wamin.\n",
      "Reference: Powinnaś spróbować kuracji Avaminą.\tHypothesis: Pożyl naczyń powinna się spróbować w kuracie avaminu.\n",
      "Reference: Przepiszę ci Formetic, bo zwykle dobrze działa.\tHypothesis: Przepiszę onciwormetic, bo zwykle dobrze działa.\n",
      "Reference: Możesz kupić w aptece Formetic, powinien pomóc.\tHypothesis: Możesz kupić w Abtek Emf, powinien pomóc.\n",
      "Reference: Na recepcie zapiszę Glucophage XR jako lek na cukrzycę typu drugiego.\tHypothesis: Na recepcie zapisze glukofagu i seria colag na tkrzycy typu II.\n",
      "Reference: Możesz kupić w aptece Glucophage XR, powinien pomóc.\tHypothesis: Możesz kupić w aptecjum glukozofa GXR. Powinien pomóc.\n",
      "Reference: Możesz kupić w aptece Metformax, powinien pomóc.\tHypothesis: Możesz kupić w aptecjum Metformas. Powinien pomóc.\n",
      "Reference: Powinnaś przyjmować Metformax na cukrzycę typu drugiego.\tHypothesis: Pożynna się przyjmować w metformach z naczyń krzycy typu 2.\n",
      "Reference: Na recepcie zapiszę Xigduo.\tHypothesis: Na recepcie zapisze mk兹 g do.\n",
      "Reference: Na cukrzycę typu drugiego przepiszę ci Xigduo.\tHypothesis: Na cukrzycy typu drugiego przepiszę tkanki ksik dłu.\n",
      "Reference: Na recepcie zapiszę Synjardy.\tHypothesis: Na recepcie zapisze osniardy.\n",
      "Reference: Powinnaś spróbować kuracji Synjardy.\tHypothesis: Pożyl naczyń powinna się spróbować ku racji syniardy.\n",
      "Reference: Najlepiej w twoim przypadku sprawdzi się Actarosin.\tHypothesis: Najlepiej w twoim przypadku sprawdzi się o starości.\n",
      "Reference: Na recepcie zapiszę Actarosin.\tHypothesis: Na recepcie zapisze odstarłość.\n",
      "Reference: Powinnaś przyjmować Arterios na cukrzycę typu drugiego.\tHypothesis: Pożynnaś przyjmować arteriosnaduprzyce typu drugiego.\n",
      "Reference: Najlepiej w twoim przypadku sprawdzi się Arterios.\tHypothesis: Najlepiej w twoim przypadku sprawdzi się arterios.\n",
      "Reference: Przepiszę ci Metforminę, bo zwykle dobrze działa.\tHypothesis: Przepisze cimetforminy, bo zwykle dobrze działa.\n",
      "Reference: Możesz kupić w aptece Metforminę, powinien pomóc.\tHypothesis: Możesz kupić Wapę Cimetforminę. Powinien pomóc.\n",
      "Reference: Na recepcie zapiszę Sitagliptynę jako lek na cukrzycę typu drugiego.\tHypothesis: Na recepcie zapisze się tagliptyna jakoledna cukrzyca typu 2.\n",
      "Reference: Na cukrzycę typu drugiego przepiszę ci Sitagliptynę.\tHypothesis: Na co chrzyca typu drugiego przepisze ciśń i tkniętym.\n",
      "Reference: Na cukrzycę typu drugiego przepiszę ci Linagliptynę.\tHypothesis: Na cukrzycy typu drugiego przepisze klinem liptyny.\n",
      "Reference: Możesz kupić w aptece Linagliptynę, powinien pomóc.\tHypothesis: Możesz kupić wapnę Tc i negrytynę. Powinien pomóc.\n",
      "Reference: Najlepiej w twoim przypadku sprawdzi się Liraglutyd.\tHypothesis: Najlepiej w twoim przypadku sprawdzi się lirablutyt.\n",
      "Reference: Na recepcie zapiszę Liraglutyd.\tHypothesis: Na recepcie zapisze lirę w ucyt.\n",
      "Reference: Zalecam Dapagliflozynę, bo dobrze działa na cukrzycę typu drugiego.\tHypothesis: Zalecam depagliflozynę, bo dobrze działa na cukrzycy typu II.\n",
      "Reference: Powinnaś przyjmować Dapagliflozynę na cukrzycę typu drugiego.\tHypothesis: Pożinnaś przyjmować dopamidliwlozyna na cukrzycę typu drugiego.\n",
      "Reference: Jeśli masz wysoki cholesterol dobrze sprawdza się Crestor.\tHypothesis: Jeśli masz wysoki cholesterol, dobrze sprawdza się kresor.\n",
      "Reference: Przepiszę ci Crestor, bo zwykle dobrze działa.\tHypothesis: Przepiszę ciepłek kresu, bo zwykle dobrze działa.\n",
      "Reference: Najlepiej w twoim przypadku sprawdzi się Crosuvo.\tHypothesis: Najlepiej w twoim przypadku sprawdzi się krosso.\n",
      "Reference: Możesz kupić w aptece Crosuvo, powinien pomóc.\tHypothesis: Możysz kupić w aptece Kroszowo, powinien pomóc.\n",
      "Reference: Na wysoki cholesterol przepiszę ci Ridlip.\tHypothesis: Na wysokiej cholesterol przepisze chili-grip.\n",
      "Reference: Przepiszę ci Ridlip, bo zwykle dobrze działa.\tHypothesis: Przepiszę ciurki lilii, bo zwykle dobrze działa.\n",
      "Reference: Na wysoki cholesterol przepiszę ci Romazic.\tHypothesis: Na wysokich cholesterol przepiszę chiromazic.\n",
      "Reference: Powinnaś spróbować kuracji Romazicem.\tHypothesis: Pożyl powinna spróbować poradzić romazicę.\n",
      "Reference: Na recepcie zapiszę Rosucard.\tHypothesis: Na recepcie zapis rozsucard.\n",
      "Reference: Możesz kupić w aptece Rosucard, powinien pomóc.\tHypothesis: Możesz kupić w aptecjum rosłym sardynia. Powinien pomóc.\n",
      "Reference: Przepiszę ci Rosutrox, bo zwykle dobrze działa.\tHypothesis: Przepiszę ciurosłuproks, bo zwykle dobrze działa.\n",
      "Reference: Zalecam Rosutrox, bo dobrze działa na wysoki cholesterol.\tHypothesis: Zalecam rosutrok, bo dobrze działa na wysokie cholesterol.\n",
      "Reference: Możesz kupić w aptece Roswerę, powinien pomóc.\tHypothesis: Możesz kupić w aptecjum rosfery, powinien pomóc.\n",
      "Reference: Zalecam Roswerę, bo dobrze działa na wysoki cholesterol.\tHypothesis: Zalecam rosferę, bo dobrze działa na wysokiej cholesterol.\n",
      "Reference: Najlepiej w twoim przypadku sprawdzi się Suvardio.\tHypothesis: Najlepiej w twoim przypadku sprawdzi się suvargę.\n",
      "Reference: Jeśli masz wysoki cholesterol dobrze sprawdza się Suvardio.\tHypothesis: Jeśli masz wysoki cholesterol, dobrze sprawdza się suvardia.\n",
      "Reference: Na wysoki cholesterol przepiszę ci Zahron.\tHypothesis: Na wysokiej cholesterol przepisze ci zachron.\n",
      "Reference: Możesz kupić w aptece Zahron, powinien pomóc.\tHypothesis: Możysz kupić w aptecja Zakron, powinien pomóc.\n",
      "Reference: Jeśli masz wysoki cholesterol dobrze sprawdza się Zaranta.\tHypothesis: Jeśli masz wysokiej cholesterol, dobrze sprawdza się Zeranta.\n",
      "Reference: Na recepcie zapiszę Zarantę jako lek na wysoki cholesterol.\tHypothesis: Na recepcie zapiszę museladego rany jako lek na wysokie cholesterol.\n",
      "Reference: Na recepcie zapiszę Rosuvastatin Medical Valley.\tHypothesis: Na recepcie zapisze rosławostatinę Medical Valley.\n",
      "Reference: Możesz kupić w aptece Rosuvastatin Medical Valley, powinien pomóc.\tHypothesis: Możysz kupić w aorty cech rozrostu w Astarty Invenice w Lval Lake. Powinien pomóc.\n",
      "Reference: Najlepiej w twoim przypadku sprawdzi się Vigantoletten.\tHypothesis: Najlepiej w twoim przypadku sprawdzi się wigantoletem.\n",
      "Reference: Jeśli masz niedobór witaminy D dobrze sprawdza się Vigantoletten.\tHypothesis: Jeśli maż niedobór witaminy D, dobrze sprawdza się vigentoletę.\n",
      "Reference: Przepiszę ci Vigantol, bo zwykle dobrze działa.\tHypothesis: Przepisze cigarnol, bo zwykle dobrze działa.\n",
      "Reference: Na recepcie zapiszę Vigantol.\tHypothesis: Na recepcie zapisze Mviganto.\n",
      "Reference: Powinnaś spróbować kuracji Ibuvit D3.\tHypothesis: Pożyl mały, aora w prawej płuci, bez ognisk. \n",
      "Reference: Jeśli masz niedobór witaminy D dobrze sprawdza się Ibuvit D3.\tHypothesis: Jeśli masz niedobór witaminy D dobrze sprawdza się i buwity D3.\n",
      "Reference: Zalecam Biaron D, bo dobrze działa na niedobór witaminy D.\tHypothesis: Zalecam biolonę D, bo dobrze działa na niedobór witamin D.\n",
      "Reference: Najlepiej w twoim przypadku sprawdzi się Biaron D.\tHypothesis: Najlepiej w twoim przypadku sprawdzi się białonę.\n",
      "Reference: Przepiszę ci ApoD3, bo zwykle dobrze działa.\tHypothesis: Przepiszę ciapę do dęży, bo zwykle dobrze działa.\n",
      "Reference: Jeśli masz niedobór witaminy D dobrze sprawdza się ApoD3.\tHypothesis: Jeśli masz niedobór witaminy dożylnych sprawdzasz się apodegel.\n",
      "Reference: Przepiszę ci Devikap, bo zwykle dobrze działa.\tHypothesis: Przeproszę ci dywizjek, bo zwykle dobrze działa.\n",
      "Reference: Najlepiej w twoim przypadku sprawdzi się Devikap.\tHypothesis: Najlepiej w twoim przypadku sprawdzi się dywikap.\n",
      "Reference: Powinnaś spróbować kuracji Witaminą D3 Forte.\tHypothesis: Pożynna spróbowała o kuracji vitaminą D3-4.\n",
      "Reference: Powinnaś spróbować kuracji Witaminą D3 Forte.\tHypothesis: Pożyl należy spróbować kuracji witaminy D3-4.\n",
      "Reference: Na recepcie zapiszę Oriovit-D 1000 jako lek na niedobór witaminy D.\tHypothesis: Na recepcie zapiszę aoriowipę 1000 jk na niedobór witaminy D.\n",
      "Reference: Jeśli masz niedobór witaminy D dobrze sprawdza się Oriovit-D 1000.\tHypothesis: Jeśli masz niedobór witaminy T, dobrze sprawdza się ORIOVIC L.\n",
      "Reference: Na recepcie zapiszę Vigalex Bio jako lek na niedobór witaminy D.\tHypothesis: Na recepcie zapiszę wigalek z biakolek na niedobór witaminy D.\n",
      "Reference: Na niedobór witaminy D przepiszę ci Vigalex Bio.\tHypothesis: Na niedobór witamin D przepiszę kibikalek z biop.\n",
      "Reference: Zalecam Ospen 1000, bo dobrze działa na anginę.\tHypothesis: Zalecam ospę 1000, bo dobrze działa na ankile.\n",
      "Reference: Przepiszę ci Ospen 1000, bo zwykle dobrze działa.\tHypothesis: Przepisze cień 1000, bo zwykle dobrze działa.\n",
      "Reference: Najlepiej w twoim przypadku sprawdzi się Amotaks.\tHypothesis: Najlepiej w twoim przypadku sprawdzi się amotax.\n",
      "Reference: Przepiszę ci Amotaks, bo zwykle dobrze działa.\tHypothesis: Przepiszę cięsie Amotax, bo zwykle dobrze działa.\n",
      "Reference: Możesz kupić w aptece Augmentin, powinien pomóc.\tHypothesis: Możesz kupić w aptecjum augmentin, powinien pomóc.\n",
      "Reference: Powinnaś spróbować kuracji Augmentin.\tHypothesis: Pożyl mały, poza niemi, wskazana jest wskazana z cech serca.\n",
      "Reference: Na recepcie zapiszę Macromax jako lek na anginę.\tHypothesis: Na recepcie zapisze macromas, piekolek na anginie.\n",
      "Reference: Powinnaś spróbować kuracji Macromax.\tHypothesis: Pożyl należy spróbować do kuracji maszromos.\n",
      "Reference: Na anginę przepiszę ci Sumamed.\tHypothesis: Na anginele przepisem tisumamet.\n",
      "Reference: Zalecam Sumamed, bo dobrze działa na anginę.\tHypothesis: Zalecam sumometr, bo dobrze działa na anginy.\n",
      "Reference: Na recepcie zapiszę Amoksycylinę jako lek na anginę.\tHypothesis: Na recepcie zapis za amok ZC-lega jako lek na anginę.\n",
      "Reference: Zalecam Amoksycylinę, bo dobrze działa na anginę.\tHypothesis: Zalecam amosycylinę, bo dobrze działa na anginę.\n",
      "Reference: Przepiszę ci Omeprazol, bo zwykle dobrze działa.\tHypothesis: Przepiszę ci omf-l'Omf zl'l'l'l'l'l'l'l'l'l'l'l'l'l'l'l'l'l'l'l'l'l'l'l'l'l'l'l'l'l'l'l'l'l'l'l'l'l'l'l'l'l'l'l'l'l'l'l'l'l'l'l'l'l'l'l'l'l'l'l'l'l'l'l'l'l'l'l'l'l'l'l'l'l'l'l'l'l'l'l'l'l'l'l'l'l'l'l'l'l'l'l'l'l'l'l'l'l'l'l'l'l'l'l'l'l'l'l'l'l'l'l'l'l'l'l'l'l'l'l'l'l'l'l'l'l'l'l'l'l'l'l'l'l'l'l'l'l'l'l'l'l'l'l'l'l'l'l'l'l'l'l'l'l'l'l'l'l'l'l'l'l'l'l'l'l'l'l'l'l'l'l'l'l'l'l'l'l'l'l'l'l'l'l'l'l'l'l'l'l'l'l'l'l'l'l'l'l'l'l'l'l'l'z-z-z-z-z-z-z-z-z-z-z-z\n",
      "Reference: Powinnaś spróbować kuracji Omeprazolem.\tHypothesis: Pożyl należy spróbować do kuracji omeprezolem.\n",
      "Reference: Możesz kupić w aptece Pantoprazol, powinien pomóc.\tHypothesis: Możesz kupić w aptece Pantoprazo, powinien pomóc.\n",
      "Reference: Na recepcie zapiszę Pantoprazol jako lek na zgaga.\tHypothesis: Na recepcie zapisze pantoplazol jako lek nasgaga.\n",
      "Reference: Powinnaś przyjmować Laktulozę na zgaga.\tHypothesis: Pożynna się przyjmować laktulozę nazgakana.\n",
      "Reference: Zalecam Laktulozę, bo dobrze działa na zgaga.\tHypothesis: Zalecam laktulizę, bo dobrze działa nasz gadań.\n",
      "Reference: Jeśli masz zgaga dobrze sprawdza się Bisakodyl.\tHypothesis: Jeśli masz zgadza dobrze sprawdza się BIS-a kody.\n",
      "Reference: Zalecam Bisakodyl, bo dobrze działa na zgaga.\tHypothesis: Zalecam BIS-akodyl, bo dobrze działa nosgaga.\n",
      "Reference: Zalecam Sukralfat, bo dobrze działa na zgaga.\tHypothesis: Zalecam sukralfat, bo dobrze działa nazgaga.\n",
      "Reference: Jeśli masz zgaga dobrze sprawdza się Sukralfat.\tHypothesis: Jeśli masz zgadza, dobrze sprawdza się sukralfat.\n",
      "Reference: Na recepcie zapiszę Folik.\tHypothesis: Na recepcie zapisem folik.\n",
      "Reference: Przepiszę ci Folik, bo zwykle dobrze działa.\tHypothesis: Przepiszę ciolik, bo zwykle dobrze działa.\n",
      "Reference: Powinnaś przyjmować ActiFolin na profilaktyka.\tHypothesis: Pożynna świylka, zapewniona w 1 minutie ‒ w okolicy poprzednio. \n",
      "Reference: Najlepiej w twoim przypadku sprawdzi się ActiFolin.\tHypothesis: Najlepiej w twoim przypadku sprawdzi się accyty folii.\n",
      "Reference: Najlepiej w twoim przypadku sprawdzi się Aliness Kwas Foliowy.\tHypothesis: Najlepiej w twoim przypadku sprawdzi się aline z kwas foliowy.\n",
      "Reference: Przepiszę ci Aliness Kwas Foliowy, bo zwykle dobrze działa.\tHypothesis: Przepiszę ci eliny z kwas foliowy, bo zwykle dobrze działa.\n",
      "Reference: Możesz kupić w aptece D-Vitum Forte, powinien pomóc.\tHypothesis: Możesz kupić w aptecenitomfortem, powinien pomóc.\n",
      "Reference: Najlepiej w twoim przypadku sprawdzi się D-Vitum Forte.\tHypothesis: Najlepiej w twoim przypadku sprawdzi się dewitym fortem.\n",
      "Reference: Powinnaś spróbować kuracji Olicaps Witaminą D3.\tHypothesis: Pożynna spróbowała kuracji Olicap z witaminą D3.\n",
      "Reference: Na recepcie zapiszę Olicaps Witamina D3 jako lek na profilaktyka.\tHypothesis: Na recepcie zapisze olisaphsvitaminadetriakoleknaprofilaktyka.\n",
      "Reference: Powinnaś spróbować kuracji OstroVit Omega 3.\tHypothesis: Pożynna współpracjala kuracji ostrożo-witomegaczy.\n",
      "Reference: Na recepcie zapiszę OstroVit Omega 3 jako lek na profilaktyka.\tHypothesis: Na recepcie zapiszę ostrość omegarza w 1,3 mg i mleczka mleczka mleczka mleczka mleczka mleczka mleczka mleczka mleczka mleczka mleczka mleczka mleczka mleczka mleczka mleczka mleczka mleczka mleczka mleczka mleczka mleczka mleczka mleczka mleczka mleczka mleczka mleczka mleczka mleczka mleczka mleczka mleczka mleczka mleczka mleczka mleczka mleczka mleczka mleczka mleczka mleczka mleczka mleczka mleczka mleczka mleczka mleczka mleczka mleczka mleczka mleczka mleczka mleczka mleczka mleczka mleczka mleczka mleczka mleczka mleczka mleczka mleczka mleczka mleczka mleczka mleczka mleczka mleczka mleczka mleczka mleczka mleczka mleczka mleczka mleczka mleczka mleczka mleczka mleczka mleczka mleczka mleczka mleczka mleczka mleczka mleczka mleczka mleczka mleczka mleczka mleczka mleczka mleczka mleczka mleczka mleczka mleczka mleczka mleczka m begging, 1, 1,1,1,1,1,1,1,1,1,1\n",
      "Reference: Na recepcie zapiszę KFD Omega 3.\tHypothesis: Na recepcie zapiszę Kfd'Omega3.\n",
      "Reference: Przepiszę ci KFD Omega 3, bo zwykle dobrze działa.\tHypothesis: Przepiszę kwiat w DaOmega3, bo zwykle dobrze działa.\n",
      "Reference: Powinnaś spróbować kuracji Zolpidemem.\tHypothesis: Pożynna spróbowała z kuracją Zolpidemem.\n",
      "Reference: Zalecam Zolpidem, bo dobrze działa na bezsenność.\tHypothesis: Zalecam zorpięknięcie.\n",
      "Reference: Najlepiej w twoim przypadku sprawdzi się Zopiklon.\tHypothesis: Najlepiej w twoim przypadku sprawdzisz zopiklon.\n",
      "Reference: Na recepcie zapiszę Zopiklon.\tHypothesis: Na recepcie zapisze uzalpikłą.\n",
      "Reference: Na recepcie zapiszę Melatoninę.\tHypothesis: Na recepcie zapisze melatoninę.\n",
      "Reference: Najlepiej w twoim przypadku sprawdzi się Melatonina.\tHypothesis: Najlepiej w twoim przypadku sprawdzi się melatonina.\n",
      "Reference: Przepiszę ci Trazodon, bo zwykle dobrze działa.\tHypothesis: Przepisze triazodon, bo zwykle dobrze działa.\n",
      "Reference: Na recepcie zapiszę Trazodon.\tHypothesis: Na recepcie zapisze tranzodon.\n",
      "Reference: Zalecam Mirtazapinę, bo dobrze działa na bezsenność.\tHypothesis: Zalecam mirta za minutę, bo dobrze działa na bezsenność.\n",
      "Reference: Powinnaś spróbować kuracji Mirtazapiną.\tHypothesis: Pożylna zpróbowała kuracja jelita z apiną.\n"
     ]
    }
   ],
   "source": [
    "for ref, hyp in zip(references, hypotheses):\n",
    "    print(f\"Reference: {ref}\\tHypothesis: {hyp}\")"
   ]
  },
  {
   "cell_type": "markdown",
   "id": "46b17935",
   "metadata": {},
   "source": [
    "### Testing soft bias with tokens favorization"
   ]
  },
  {
   "cell_type": "code",
   "execution_count": 28,
   "id": "7c9723fc",
   "metadata": {},
   "outputs": [
    {
     "name": "stderr",
     "output_type": "stream",
     "text": [
      "Transcribing: 100%|██████████| 146/146 [36:13<00:00, 14.89s/it] \n"
     ]
    }
   ],
   "source": [
    "hypotheses = []\n",
    "references = []\n",
    "\n",
    "for ex in tqdm(dataset, desc=\"Transcribing\"):\n",
    "    transcription = transcribe_example(ex, bias_words=leki)\n",
    "    hypotheses.append(transcription)\n",
    "    references.append(ex[\"phrase\"])"
   ]
  },
  {
   "cell_type": "code",
   "execution_count": 29,
   "id": "e936c649",
   "metadata": {},
   "outputs": [
    {
     "name": "stdout",
     "output_type": "stream",
     "text": [
      "Subset WER: 0.5101\n",
      "Subset CER: 0.3221\n"
     ]
    }
   ],
   "source": [
    "wer_score = wer(references, hypotheses)\n",
    "cer_score = cer(references, hypotheses)\n",
    "\n",
    "print(f\"Subset WER: {wer_score:.4f}\")\n",
    "print(f\"Subset CER: {cer_score:.4f}\")"
   ]
  },
  {
   "cell_type": "code",
   "execution_count": 30,
   "id": "4062f55b",
   "metadata": {},
   "outputs": [
    {
     "name": "stdout",
     "output_type": "stream",
     "text": [
      "Reference: Powinnaś spróbować kuracji Ibupromem.\tHypothesis: Poza tym w Klinikacji Kulicjum Kulicjum Kulicjum Kulicjum Kulicjum Kulicjum Kulicjum Kulicjum Kulicjum Kulicjum Kulicjum Kulicjum Kulicjum Kulicjum Kulicjum Kulicjum Kulicjum Kulicjum Kulicjum Kulicjum Kulicjum Kulicjum Kulicjum Kulicjum Kulicjum Kulicjum Kulicjum Kulicjum Kulicjum Kulicjum Kulicjum Kulicjum Kulicjum Kulicjum Kulicjum Kulicjum Kulicjum Kulicjum Kulicjum Kulicjum Kulicjum Kulicjum Kulicjum Kulicjum Kulicjum Kulicjum Kulicjum Kulicjum Kulicjum Kulicjum Kulicjum Kulicjum\n",
      "Reference: Najlepiej w twoim przypadku sprawdzi się Ibuprom.\tHypothesis: Najlepiej w twoim przypadku sprawdzi się IBU-Prom.\n",
      "Reference: Powinnaś spróbować kuracji Metafenem.\tHypothesis: Pożynne spróbować kuracji metafenem.\n",
      "Reference: Możesz kupić w aptece Metafen, powinien pomóc.\tHypothesis: Możesz kupić wapnę Tafan, powinien pomóc.\n",
      "Reference: Najlepiej w twoim przypadku sprawdzi się Nurofen Forte.\tHypothesis: Najlepiej w twoim przypadku sprawdzi się nurowenforte.\n",
      "Reference: Zalecam Nurofen Forte, bo dobrze działa na ból i stan zapalny.\tHypothesis: Zalecam norowę Fortem, bo dobrze działa nabór i stan zapalny.\n",
      "Reference: Przepiszę ci Dolgit, bo zwykle dobrze działa.\tHypothesis: Przepiszę ci dolgit, bo zwykle dobrze działa.\n",
      "Reference: Na recepcie zapiszę Dolgit jako lek na ból i stan zapalny.\tHypothesis: Na recepcie zapiszę dolgitakoletokulitutak.\n",
      "Reference: Na nadciśnienie przepiszę ci Bisocard.\tHypothesis: Na nadciśnienie przepisy cibisocard\n",
      "Reference: Zalecam Bisocard, bo dobrze działa na nadciśnienie.\tHypothesis: Zalecam bisocard, bo dobrze działana nadciśnienie.\n",
      "Reference: Jeśli masz nadciśnienie dobrze sprawdza się Bibloc.\tHypothesis: Jeśli masz nadciśnienie dobrze, sprawdzę się w i-Blood.\n",
      "Reference: Zalecam Bibloc, bo dobrze działa na nadciśnienie.\tHypothesis: Zalecam Bibloc, bo dobrze działana nadciśnienie.\n",
      "Reference: Na nadciśnienie przepiszę ci Concor.\tHypothesis: Na nadciśnienie przepiszeć konsult.\n",
      "Reference: Jeśli masz nadciśnienie dobrze sprawdza się Concor.\tHypothesis: Jeśli masz nadciśnienie dobrze, sprawdza się kodca.\n",
      "Reference: Przepiszę ci Bisoratio, bo zwykle dobrze działa.\tHypothesis: Przepiszę kibic-ratio, bo zwykle dobrze działa.\n",
      "Reference: Na recepcie zapiszę Bisoratio jako lek na nadciśnienie.\tHypothesis: Na recepcie zapiszą bisoratilakolakonatciśnienie.\n",
      "Reference: Na recepcie zapiszę Sobycor.\tHypothesis: Na recepcie zapisze osoby co-op.\n",
      "Reference: Na recepcie zapiszę Sobycor.\tHypothesis: Na recepcie zapisze osobyco-rl-rl-rl-rl-rl-rl-rl-rl-rl-rl-rl-rl-rl-rl-rl-rl-rl-rl-rl-rl-rl.\n",
      "Reference: Na recepcie zapiszę Coronal jako lek na nadciśnienie.\tHypothesis: Na recepcie zapisze coronalia kolaklana na tciśnienie.\n",
      "Reference: Powinnaś przyjmować Coronal na nadciśnienie.\tHypothesis: Pożinnaś przyjmować coronalne nadciśnienie.\n",
      "Reference: Powinnaś spróbować kuracji Prestilolem.\tHypothesis: Pożynna z próbować kuracji prestilolem.\n",
      "Reference: Najlepiej w twoim przypadku sprawdzi się Prestilol.\tHypothesis: Najlepiej w twoim przypadku sprawdzi się prestilu.\n",
      "Reference: Możesz kupić w aptece Bisoprolol, powinien pomóc.\tHypothesis: Możesz kupić waktyczną bisoprolol, powinien pomóc.\n",
      "Reference: Przepiszę ci Bisoprolol, bo zwykle dobrze działa.\tHypothesis: Zapisze cibisoprolol, bo zwykle dobrze działa.\n",
      "Reference: Powinnaś spróbować kuracji Perindoprylem.\tHypothesis: Pożynny nasi próbowały kuracy perindoprylem.\n",
      "Reference: Na recepcie zapiszę Perindopryl jako lek na nadciśnienie.\tHypothesis: Na recepcie zapisze periokulakolek na nadciśnienie.\n",
      "Reference: Najlepiej w twoim przypadku sprawdzi się Ramipryl.\tHypothesis: Najlepiej w twoim przypadku sprawdzi się remipryl.\n",
      "Reference: Na recepcie zapiszę Ramipryl.\tHypothesis: Na recepcie zapisze ramiprl.\n",
      "Reference: Najlepiej w twoim przypadku sprawdzi się Amlodipina.\tHypothesis: Najlepiej w twoim przypadku sprawdzi się amyloidipinę.\n",
      "Reference: Zalecam Amlodipinę, bo dobrze działa na nadciśnienie.\tHypothesis: Zalecam amlodipinę, bo dobrze działa na nadciśnienie.\n",
      "Reference: Na recepcie zapiszę Hydrochlorotiazyd.\tHypothesis: Na recepcie zapiszę hydrochorotiazyt.\n",
      "Reference: Powinnaś przyjmować Hydrochlorotiazyd na nadciśnienie.\tHypothesis: Pożynnaś przyjmować hydrochlorotiazytna nadciśnienie.\n",
      "Reference: Najlepiej w twoim przypadku sprawdzi się Losartan.\tHypothesis: Najlepiej w twoim przypadku sprawdzi się losartem.\n",
      "Reference: Możesz kupić w aptece Losartan, powinien pomóc.\tHypothesis: Możesz kupić w aptecylosartan, powinien pomóc.\n",
      "Reference: Najlepiej w twoim przypadku sprawdzi się Avamina.\tHypothesis: Najlepiej w twoim przypadku sprawdzi się wamin.\n",
      "Reference: Powinnaś spróbować kuracji Avaminą.\tHypothesis: Pożynna jest próbowa kuracja waminów.\n",
      "Reference: Przepiszę ci Formetic, bo zwykle dobrze działa.\tHypothesis: Przepiszę onycijolimetic, bo zwykle dobrze działa.\n",
      "Reference: Możesz kupić w aptece Formetic, powinien pomóc.\tHypothesis: Możesz kupić w Abtex Informatik, powinien pomóc.\n",
      "Reference: Na recepcie zapiszę Glucophage XR jako lek na cukrzycę typu drugiego.\tHypothesis: Narcypcie zapisze glucophagą X-seria Kolegnatokrzycy typu II.\n",
      "Reference: Możesz kupić w aptece Glucophage XR, powinien pomóc.\tHypothesis: Możesz kupić waktyczną glucosaketetetetetetetetetetetetetetetetetetetetetetetetetetetetetetetetetetetetetetetetetetetetetetetetetetetetetetetetetetetetetetetetetetetetetetetetetetetetetetetetetetetetetetetetetetetetetetetetetetetetetetetetetetetetetetetetetetetetetetetetetetetetetetetetetetetetetetetetetetetetetetetetetetetetetetetetetetetetetetetetetetetetetetetetetetetetetetetetetetetetetetetetetetetetetetetetetetetetetetetetetvb-b-B-B-B-B-B-B-B-B-B-B-B-B-B-B-B-B-B-B-B-B-B-B-B-B-B-B-B-B-B-B-B-B-B-B-B-B-B-B-B-B-B-B-B-B-B-B-B-B-B-B-B-B-B-B-B-B-B-B-B-B-B-B-B-B-B-B-B-B-B-B-B-B-B-B-B-B-B-B-B-B-B-B-B-B-B-B-B-B-B-B-B-B-B-B-B-B-B-B-B-B-B-B-B-B-B-B-B-B-B-B-B-B\n",
      "Reference: Możesz kupić w aptece Metformax, powinien pomóc.\tHypothesis: Możesz kupić w aptecjum Metformas. Powinien pomóc.\n",
      "Reference: Powinnaś przyjmować Metformax na cukrzycę typu drugiego.\tHypothesis: Pożynna się przyjmować w metformach snacukrzycy typu 2.\n",
      "Reference: Na recepcie zapiszę Xigduo.\tHypothesis: Na recepcie zapiszę Xigduo.\n",
      "Reference: Na cukrzycę typu drugiego przepiszę ci Xigduo.\tHypothesis: Na cukrzycy typu drugiego przepiszę tigzigduo.\n",
      "Reference: Na recepcie zapiszę Synjardy.\tHypothesis: Na recepcie zapisze osiyniardy.\n",
      "Reference: Powinnaś spróbować kuracji Synjardy.\tHypothesis: Pożynna współpoczyna kreatyjna.\n",
      "Reference: Najlepiej w twoim przypadku sprawdzi się Actarosin.\tHypothesis: Najlepiej w twoim przypadku sprawdzi się o starosinem.\n",
      "Reference: Na recepcie zapiszę Actarosin.\tHypothesis: Na recepcie zapisze ostarosik.\n",
      "Reference: Powinnaś przyjmować Arterios na cukrzycę typu drugiego.\tHypothesis: Pożynnaś przyjmować arteriosnaduprzycy typu 2.\n",
      "Reference: Najlepiej w twoim przypadku sprawdzi się Arterios.\tHypothesis: Najlepiej w twoim przypadku sprawdzi się arterios.\n",
      "Reference: Przepiszę ci Metforminę, bo zwykle dobrze działa.\tHypothesis: Przepisem metforminy, bo zwykle dobrze działa.\n",
      "Reference: Możesz kupić w aptece Metforminę, powinien pomóc.\tHypothesis: Możesz kupić Wapę Cimetforminę. Powinien pomóc.\n",
      "Reference: Na recepcie zapiszę Sitagliptynę jako lek na cukrzycę typu drugiego.\tHypothesis: Na recepcie zapisze się tagliptyna jakolagna w cukrzycy typu 2.\n",
      "Reference: Na cukrzycę typu drugiego przepiszę ci Sitagliptynę.\tHypothesis: Nacokrzyca typu 2. Przepisze ciśń ta diktyna.\n",
      "Reference: Na cukrzycę typu drugiego przepiszę ci Linagliptynę.\tHypothesis: Nacukrzyca typu drugiego przepisza cilina gliptyny.\n",
      "Reference: Możesz kupić w aptece Linagliptynę, powinien pomóc.\tHypothesis: Możesz kupić wapnę TC i negrytynę. Powinien pomóc.\n",
      "Reference: Najlepiej w twoim przypadku sprawdzi się Liraglutyd.\tHypothesis: Najlepiej w twoim przypadku sprawdzi się lirablutyt.\n",
      "Reference: Na recepcie zapiszę Liraglutyd.\tHypothesis: Na recepcie zapisze lirakutyt.\n",
      "Reference: Zalecam Dapagliflozynę, bo dobrze działa na cukrzycę typu drugiego.\tHypothesis: Zalecam depagliflozylę, bo dobrze działa na cukrzycy typu II.\n",
      "Reference: Powinnaś przyjmować Dapagliflozynę na cukrzycę typu drugiego.\tHypothesis: Powinnaś przyjmować Dapagliflozyna Cukrzycy typu drugiego.\n",
      "Reference: Jeśli masz wysoki cholesterol dobrze sprawdza się Crestor.\tHypothesis: Jeśli masz wysoką cholesterol, dobrze sprawdza się krestol.\n",
      "Reference: Przepiszę ci Crestor, bo zwykle dobrze działa.\tHypothesis: Przepisze cikrozytol, bo zwykle dobrze działa.\n",
      "Reference: Najlepiej w twoim przypadku sprawdzi się Crosuvo.\tHypothesis: Najlepiej w twoim przypadku sprawdzi się krossowum.\n",
      "Reference: Możesz kupić w aptece Crosuvo, powinien pomóc.\tHypothesis: Możesz kupić w aptecy Krosvlo. Powinien pomóc.\n",
      "Reference: Na wysoki cholesterol przepiszę ci Ridlip.\tHypothesis: Na wysokiej cholesterol przepisze chiliglip.\n",
      "Reference: Przepiszę ci Ridlip, bo zwykle dobrze działa.\tHypothesis: Zapiszę ci lydik, bo zwykle dobrze działa.\n",
      "Reference: Na wysoki cholesterol przepiszę ci Romazic.\tHypothesis: Na wysokich cholesterol przepiszę chiromazic.\n",
      "Reference: Powinnaś spróbować kuracji Romazicem.\tHypothesis: Poza tym powinna spróbować poradzić ramazicę.\n",
      "Reference: Na recepcie zapiszę Rosucard.\tHypothesis: Na recepcie zapis rozucarty.\n",
      "Reference: Możesz kupić w aptece Rosucard, powinien pomóc.\tHypothesis: Możesz kupić w aptecynautosów Sartr, powinien pomóc.\n",
      "Reference: Przepiszę ci Rosutrox, bo zwykle dobrze działa.\tHypothesis: Przepiszę ciurosutrox, bo zwykle dobrze działa.\n",
      "Reference: Zalecam Rosutrox, bo dobrze działa na wysoki cholesterol.\tHypothesis: Zalecam rosutrox, bo dobrze działa na wysokie cholesterol.\n",
      "Reference: Możesz kupić w aptece Roswerę, powinien pomóc.\tHypothesis: Możesz kupić w aptecyrosferę. Powinien pomóc.\n",
      "Reference: Zalecam Roswerę, bo dobrze działa na wysoki cholesterol.\tHypothesis: Zalecam rosferę, bo dobrze działa na wysokiej cholesterol.\n",
      "Reference: Najlepiej w twoim przypadku sprawdzi się Suvardio.\tHypothesis: Najlepiej w twoim przypadku sprawdzi się suwerio.\n",
      "Reference: Jeśli masz wysoki cholesterol dobrze sprawdza się Suvardio.\tHypothesis: Jeśli masz wysoki cholesterol, dobrze sprawdza się suvardia.\n",
      "Reference: Na wysoki cholesterol przepiszę ci Zahron.\tHypothesis: Na wysokiej cholesterol przepisze ci zachron.\n",
      "Reference: Możesz kupić w aptece Zahron, powinien pomóc.\tHypothesis: Możysz kupić w aptecjum Zachronu. Powinien pomóc.\n",
      "Reference: Jeśli masz wysoki cholesterol dobrze sprawdza się Zaranta.\tHypothesis: Jeśli masz wysokich cholesterol, dobrze sprawdza się z renta.\n",
      "Reference: Na recepcie zapiszę Zarantę jako lek na wysoki cholesterol.\tHypothesis: Na recepcie zapiszą zarantę jakolakna wysokiej cholesterol.\n",
      "Reference: Na recepcie zapiszę Rosuvastatin Medical Valley.\tHypothesis: Na recepcie zapiszy rosłupastatini medycylowej.\n",
      "Reference: Możesz kupić w aptece Rosuvastatin Medical Valley, powinien pomóc.\tHypothesis: Możysz kupić w aorty cech rosławastatii Mellicale Valley. Powinien pomóc.\n",
      "Reference: Najlepiej w twoim przypadku sprawdzi się Vigantoletten.\tHypothesis: Najlepiej w twoim przypadku sprawdzi się wigantoletem.\n",
      "Reference: Jeśli masz niedobór witaminy D dobrze sprawdza się Vigantoletten.\tHypothesis: Jeśli masz niedobór witaminy D, dobrze sprawdza się wigentoleten.\n",
      "Reference: Przepiszę ci Vigantol, bo zwykle dobrze działa.\tHypothesis: Przepisarci Gantol bo zwykle dobrze działa.\n",
      "Reference: Na recepcie zapiszę Vigantol.\tHypothesis: Na recepcie zapisze Mviganto.\n",
      "Reference: Powinnaś spróbować kuracji Ibuvit D3.\tHypothesis: Pożynna spróbowała kuracji i gubic dynczy.\n",
      "Reference: Jeśli masz niedobór witaminy D dobrze sprawdza się Ibuvit D3.\tHypothesis: Jeśli masz niedobór witaminy D dobrze sprawdza się i buwity D3.\n",
      "Reference: Zalecam Biaron D, bo dobrze działa na niedobór witaminy D.\tHypothesis: Zalecam biolonę D, bo dobrze działa na niedobór witaminy D.\n",
      "Reference: Najlepiej w twoim przypadku sprawdzi się Biaron D.\tHypothesis: Najlepiej w twoim przypadku sprawdzi się białonet.\n",
      "Reference: Przepiszę ci ApoD3, bo zwykle dobrze działa.\tHypothesis: Przepiszą ciapodęży, bo zwykle dobrze działa.\n",
      "Reference: Jeśli masz niedobór witaminy D dobrze sprawdza się ApoD3.\tHypothesis: Jeśli masz niedobrzę witaminy dobra sprawdza się apodyczyn.\n",
      "Reference: Przepiszę ci Devikap, bo zwykle dobrze działa.\tHypothesis: Przeproszę ci dylikap, bo zwykle dobrze działa.\n",
      "Reference: Najlepiej w twoim przypadku sprawdzi się Devikap.\tHypothesis: Najlepiej w twoim przypadku sprawdzi się dewikap.\n",
      "Reference: Powinnaś spróbować kuracji Witaminą D3 Forte.\tHypothesis: Pożynna spróbowała zkuracji witaminą D3-Fortem.\n",
      "Reference: Powinnaś spróbować kuracji Witaminą D3 Forte.\tHypothesis: Pożynna spróbowała korazjelitaminą D3-4.\n",
      "Reference: Na recepcie zapiszę Oriovit-D 1000 jako lek na niedobór witaminy D.\tHypothesis: Na recepcie zapiszyą oriolik 1000 jakolik na niedobór witaminy D.\n",
      "Reference: Jeśli masz niedobór witaminy D dobrze sprawdza się Oriovit-D 1000.\tHypothesis: Jeśli masz niedobór witaminy D, dobrze sprawdza się Oriolisty 1000.\n",
      "Reference: Na recepcie zapiszę Vigalex Bio jako lek na niedobór witaminy D.\tHypothesis: Na recepcie zapiszę wigalex-biolakolakonanedobór witaminy D.\n",
      "Reference: Na niedobór witaminy D przepiszę ci Vigalex Bio.\tHypothesis: Na niedobór witaminy D przepiszę kibikolak z biopo.\n",
      "Reference: Zalecam Ospen 1000, bo dobrze działa na anginę.\tHypothesis: Zalecam ospę 1000 mL, bo dobrze działa na angin.\n",
      "Reference: Przepiszę ci Ospen 1000, bo zwykle dobrze działa.\tHypothesis: Przepiszecie ospę 1000, bo zwykle dobrze działa.\n",
      "Reference: Najlepiej w twoim przypadku sprawdzi się Amotaks.\tHypothesis: Najlepiej w twoim przypadku sprawdzi się amotax.\n",
      "Reference: Przepiszę ci Amotaks, bo zwykle dobrze działa.\tHypothesis: Przepiszę tl-amotax, bo zwykle dobrze działa.\n",
      "Reference: Możesz kupić w aptece Augmentin, powinien pomóc.\tHypothesis: Możesz kupić w aptecjum augmentin, powinien pomóc.\n",
      "Reference: Powinnaś spróbować kuracji Augmentin.\tHypothesis: Pożinna spróbować kuracji augmentin.\n",
      "Reference: Na recepcie zapiszę Macromax jako lek na anginę.\tHypothesis: Na recepcie zapiszym macromakspia colagna angina.\n",
      "Reference: Powinnaś spróbować kuracji Macromax.\tHypothesis: Pożynne spróbować kuracji Matromos.\n",
      "Reference: Na anginę przepiszę ci Sumamed.\tHypothesis: Na anginę przepisem tisumamet.\n",
      "Reference: Zalecam Sumamed, bo dobrze działa na anginę.\tHypothesis: Zalecam sumometr, bo dobrze działa na anginy.\n",
      "Reference: Na recepcie zapiszę Amoksycylinę jako lek na anginę.\tHypothesis: Na recepcie zapiszy amoksycylinae jacolak nanaginae.\n",
      "Reference: Zalecam Amoksycylinę, bo dobrze działa na anginę.\tHypothesis: Zalecam amosycylinę, bo dobrze działa na anginę.\n",
      "Reference: Przepiszę ci Omeprazol, bo zwykle dobrze działa.\tHypothesis: Przepiszę ci o myprazl, bo zwykle dobrze działa.\n",
      "Reference: Powinnaś spróbować kuracji Omeprazolem.\tHypothesis: Pożynna spróbowa kulocjolimoterapia. Kulocjolimoterapia.\n",
      "Reference: Możesz kupić w aptece Pantoprazol, powinien pomóc.\tHypothesis: Możesz kupić w aptecypatoprazum, powinien pomóc.\n",
      "Reference: Na recepcie zapiszę Pantoprazol jako lek na zgaga.\tHypothesis: Na recepcie zapisze pantoprazol jako lek nasgaga.\n",
      "Reference: Powinnaś przyjmować Laktulozę na zgaga.\tHypothesis: Pożynna się przyjmować laktolodzyna zgaga.\n",
      "Reference: Zalecam Laktulozę, bo dobrze działa na zgaga.\tHypothesis: Zalecam laktulodę, bo dobrze działa nasz gadań.\n",
      "Reference: Jeśli masz zgaga dobrze sprawdza się Bisakodyl.\tHypothesis: Jeśli masz zgadza dobrze, sprawdza się bisakody.\n",
      "Reference: Zalecam Bisakodyl, bo dobrze działa na zgaga.\tHypothesis: Zalecam Bicakodyl, bo dobrze działa nosgaga.\n",
      "Reference: Zalecam Sukralfat, bo dobrze działa na zgaga.\tHypothesis: Zalecam sukralfat, bo dobrze działa nazgaga.\n",
      "Reference: Jeśli masz zgaga dobrze sprawdza się Sukralfat.\tHypothesis: Jeśli masz zgadza, dobrze sprawdza się sukralfat.\n",
      "Reference: Na recepcie zapiszę Folik.\tHypothesis: Na recepcie zapisem folik.\n",
      "Reference: Przepiszę ci Folik, bo zwykle dobrze działa.\tHypothesis: Przepiszę ciolik, bo zwykle dobrze działa.\n",
      "Reference: Powinnaś przyjmować ActiFolin na profilaktyka.\tHypothesis: Poza tym powinna się przyjmować accylcholinna profilaktyka.\n",
      "Reference: Najlepiej w twoim przypadku sprawdzi się ActiFolin.\tHypothesis: Najlepiej w twoim przypadku sprawdzi się accyty foli.\n",
      "Reference: Najlepiej w twoim przypadku sprawdzi się Aliness Kwas Foliowy.\tHypothesis: Najlepiej w twoim przypadku sprawdzi się aline z kwas foliowy.\n",
      "Reference: Przepiszę ci Aliness Kwas Foliowy, bo zwykle dobrze działa.\tHypothesis: Przepiszę ci elina z kwas foliowy, bo zwykle dobrze działa.\n",
      "Reference: Możesz kupić w aptece D-Vitum Forte, powinien pomóc.\tHypothesis: M możesz kupić w aptecydowitą fortę. Powinien pomóc.\n",
      "Reference: Najlepiej w twoim przypadku sprawdzi się D-Vitum Forte.\tHypothesis: Najlepiej w twoim przypadku sprawdzi się dewitym fortem.\n",
      "Reference: Powinnaś spróbować kuracji Olicaps Witaminą D3.\tHypothesis: Pożynna spróbowała kuracji Olicaf z witaminą D3.\n",
      "Reference: Na recepcie zapiszę Olicaps Witamina D3 jako lek na profilaktyka.\tHypothesis: Na recepcie zapisze olicaphy z witamina D3 jako lekna profilaktyka.\n",
      "Reference: Powinnaś spróbować kuracji OstroVit Omega 3.\tHypothesis: Pożynna współpłynna w KURACI, ostrożo-wit omega-3.\n",
      "Reference: Na recepcie zapiszę OstroVit Omega 3 jako lek na profilaktyka.\tHypothesis: Na recepcie zapiszę ostrożonę Omega 3 jako lekna profilaktyka.\n",
      "Reference: Na recepcie zapiszę KFD Omega 3.\tHypothesis: Na recepcie zapiszę KFD-O-MG-C.\n",
      "Reference: Przepiszę ci KFD Omega 3, bo zwykle dobrze działa.\tHypothesis: Przepiszę kikaflę OMEGA 3, bo zwykle dobrze działa.\n",
      "Reference: Powinnaś spróbować kuracji Zolpidemem.\tHypothesis: Pożynna z próbować kuracji Zorbidemem.\n",
      "Reference: Zalecam Zolpidem, bo dobrze działa na bezsenność.\tHypothesis: Zalecam zorpięt, bo dobrze działa na bezsenność.\n",
      "Reference: Najlepiej w twoim przypadku sprawdzi się Zopiklon.\tHypothesis: Najlepiej w twoim przypadku sprawdzisz zopiklon.\n",
      "Reference: Na recepcie zapiszę Zopiklon.\tHypothesis: Na recepcie zapiszym zopitlon.\n",
      "Reference: Na recepcie zapiszę Melatoninę.\tHypothesis: Na recepcie zapiszym melatoninę.\n",
      "Reference: Najlepiej w twoim przypadku sprawdzi się Melatonina.\tHypothesis: Najlepiej w twoim przypadku sprawdzi się melatonina.\n",
      "Reference: Przepiszę ci Trazodon, bo zwykle dobrze działa.\tHypothesis: Przepisir zodom, bo zwykle dobrze działa.\n",
      "Reference: Na recepcie zapiszę Trazodon.\tHypothesis: Na recepcie zapiszyt razodon.\n",
      "Reference: Zalecam Mirtazapinę, bo dobrze działa na bezsenność.\tHypothesis: Zalecam mirtazapinę. Bo dobrze działa na bezsenność.\n",
      "Reference: Powinnaś spróbować kuracji Mirtazapiną.\tHypothesis: Pożynnaś spróbować kuracyjnie miarę tazapiną.\n"
     ]
    }
   ],
   "source": [
    "for ref, hyp in zip(references, hypotheses):\n",
    "    print(f\"Reference: {ref}\\tHypothesis: {hyp}\")"
   ]
  },
  {
   "cell_type": "code",
   "execution_count": 34,
   "id": "55bf6a0b",
   "metadata": {},
   "outputs": [
    {
     "name": "stderr",
     "output_type": "stream",
     "text": [
      "Transcribing: 100%|██████████| 75/75 [2:30:35<00:00, 120.48s/it]   \n"
     ]
    }
   ],
   "source": [
    "hypotheses = []\n",
    "references = []\n",
    "\n",
    "for ex in tqdm(subset_dataset, desc=\"Transcribing\"):\n",
    "    transcription = transcribe_example(ex, bias_words=leki)\n",
    "    hypotheses.append(transcription)\n",
    "    references.append(ex[\"phrase\"])"
   ]
  },
  {
   "cell_type": "code",
   "execution_count": 35,
   "id": "5bd43608",
   "metadata": {},
   "outputs": [
    {
     "name": "stdout",
     "output_type": "stream",
     "text": [
      "Subset CER: 4.7263\n"
     ]
    }
   ],
   "source": [
    "cer_score = cer(references, hypotheses)\n",
    "\n",
    "print(f\"Subset CER: {cer_score:.4f}\")"
   ]
  },
  {
   "cell_type": "code",
   "execution_count": 36,
   "id": "d16cf402",
   "metadata": {},
   "outputs": [
    {
     "name": "stdout",
     "output_type": "stream",
     "text": [
      "Reference: Actarosin\tHypothesis: Ostrożnie.\n",
      "Reference: ActiFolin\tHypothesis: XG-Foli.\n",
      "Reference: Aliness Kwas Foliowy\tHypothesis: Alina z KVAS fojjowym.\n",
      "Reference: Amlodipina\tHypothesis: Auto-drypina.\n",
      "Reference: Amoksycylina\tHypothesis: Amocylina.\n",
      "Reference: Amotaks\tHypothesis: Amutax.\n",
      "Reference: ApoD3\tHypothesis: Apoid 3.\n",
      "Reference: Arterios\tHypothesis: Ateria.\n",
      "Reference: Augmentin\tHypothesis: Pałka na 3.\n",
      "Reference: Avamina\tHypothesis: Awamina.\n",
      "Reference: Biaron D\tHypothesis: Kieruję do poradni lekarza lekarza leczo-pokrwia.\n",
      "Reference: Bibloc\tHypothesis: PiWC.\n",
      "Reference: Bisakodyl\tHypothesis: Diakodyl.\n",
      "Reference: Bisocard\tHypothesis: I sotoc.\n",
      "Reference: Bisoprolol\tHypothesis: Nisoprodu.\n",
      "Reference: Bisoratio\tHypothesis: WIJSR 3.\n",
      "Reference: Concor\tHypothesis: Pontyk onakowy-vvvvvvvvvvvvvvvvvvvvvvvvvvvvvvvvvvvvvvvvvvvvvvvvvvvvvvvvvvvvvvvvvvvvvvvvvvvvvvvvvvvvvvvvvvvvvvvvvvvvvvvvvvvvvvvvvvvvvvvvvvvvvvvvvvvvvvvvvvvvvvvvvvvvvvvvvvvvvvvvvvvvvvvvvvvvvvvvvvvv vvvv vvvv vvv v v v v v v v v v v v v v v v v v v v v v v v v v v v v v v v v v v v v v v v v v v v v v v v v v v v v v v v v v v v v v v v v v v v v v v v v v v v v v v v v v v v v v v v v v v v v v v v v v v v v v v v v v v v v v v v v v v v v v v v v v v v v v v v v v v v v v v v v v v v v v v v v v v v v v v v v v v v v v v v v v v v v v v v v v v v v v v v v v v v v v v v v v v v v v v v v v v v v v v v v v v v v v v v v v v v v v v v v v v v v v v v v v v v v v v v v v v v v v v v v v v v v v\n",
      "Reference: Coronal\tHypothesis: Trona.\n",
      "Reference: Crestor\tHypothesis: Krystolaketaketaketaketaketaketaketaketaketaketaketaketaketaketaketaketaketaketaketaketaketaketaketaketaketaketaketaketaketaketaketaketaketaketaketaketaketaketaketaketaketaketaketaketaketaketaketaketaketaketaketaketaketaketaketaketaketaketaketaketaketaketaketaketaketaketaketaketaketaketaketaketaketaketaketaketaketaketaketaketaketaketaketaketaketaketaketaketaketaketaketaketaketaketaketaketaketaketaketaketaketaketaketaketaketaketaketaketaketaketaketaketaketaketaketaketaketaketaketaketarjxjxjjjjjjjjjjjjjjjjjjjjjjjjjjjjjjjjjjjjjjjjjjjjjjjjjjjjjjjjjjjjjjjjjjjjjjjjjjjjjjjjjjjjjjjjjjjjjjjjjjjjjjjjjjjjjjjjjjjjjjjjjjjjjjjjjjjjjjjjjjjjjjjj JI-F-F-F-F- F- F- F- F- F- F- F- F- F- F- F- F- F- F- F- F- F- F- F- F-\n",
      "Reference: Crosuvo\tHypothesis: Proszę wążyć do KSV.\n",
      "Reference: D-Vitum Forte\tHypothesis: Dewidum fort.\n",
      "Reference: Dapagliflozyna\tHypothesis: Naparliw lozyna.\n",
      "Reference: Devikap\tHypothesis: Dewikuj.\n",
      "Reference: Dolgit\tHypothesis: Dolgi.\n",
      "Reference: Folik\tHypothesis: Tarczyca niepokojąca niepokojąca niepokojąca niepokojąca niepokojąca niepokojąca niepokojąca niepokojąca niepokojąca niepokojąca niepokojąca niepokojąca niepokojąca niepokojąca niepokojąca niepokojąca niepokojąca niepokojąca niepokojąca niepokojąca niepokojąca niepokojąca niepokojąca niepokojąca niepokojąca niepokojąca niepokojąca niepokojąca niepokojąca niepokojąca niepokojąca niepokojąca niepokojąca niepokojąca niepokojąca niepokojąca niepokojąca niepokojąca niepokojąca niepokojąca niepokojąca niepokojąca niep o- 1- 1- 3- 3- 3- 3- 3- 3- 3- 3- 3- 3- 3- 3- 3- 3- 3- 3- 3- 3- 3- 3- 3- 3- 3- 3- 3- 3- 3- 3- 3- 3- 3- 3- 3- 3- 3- 3- 3- 3- 3- 3- 3- 3- 3- 3- 3- 3- 3- 3- 3- 3- 3- 3- 3- 3- 3- 3- 3- 3- 3- 3- 3- 3- 3- 3- 3- 3- 3- 3- 3- 3- 3- 3- 3- 3- 3- 3- 3- 3- 3- 3- 3- 3- 3- 3- 3- 3- 3- 3- 3- 3- 3- 3- 3- 3- 3- 3- 3- 3- 3- 3- 3- 3- 3- 3- 3- 3- 3- 3- 3- 3- 3-\n",
      "Reference: Formetic\tHypothesis: Coromak 3.\n",
      "Reference: Glucophage XR\tHypothesis: Dlu cofawy i ser.\n",
      "Reference: Hydrochlorotiazyd\tHypothesis: Kieruję do oddziału opiekuńczo-pokrwioteki.\n",
      "Reference: Ibuprom\tHypothesis: IWLK.\n",
      "Reference: Ibuvit D3\tHypothesis: I-W-D-N-C\n",
      "Reference: KFD Omega 3\tHypothesis: Wykonaj KFD omega 3.\n",
      "Reference: Laktuloza\tHypothesis: Lakt doza.\n",
      "Reference: Linagliptyna\tHypothesis: Linna w leptyna.\n",
      "Reference: Liraglutyd\tHypothesis: Licza odbytka.\n",
      "Reference: Losartan\tHypothesis: Losaktan.\n",
      "Reference: Macromax\tHypothesis: Matzylomak.\n",
      "Reference: Melatonina\tHypothesis: Na latomie nipno-nipno-tylko-tylko-tylko-tylko-tylko-tylko-tylko-tylko-tylko-tylko-tylko-tylko-tylko-tylko-tylko-tylko-tylko-tylko-tylko-tylko-tylko-tylko-tyl-tyl-tyl-tyl-tyl-tyl-tyl-tyl-tyl-tyl-tyl-tyl-tyl-tyl-tyl-tyl-tyl-tyl-tyl-tyl-tyl-tyl-tyl-tyl-tyl-tyl-tyl-tyl-tyl-tyl-tyl-tyl-tyl-tyl-tyl-tyl-tyl-tyl-tyl-tyl-tyl-tyl-tyl-tyl-tyl-tyl-tyl-tyl-ty-ty-ty-ty-ty-ty-ty-ty-ty-ty-ty-ty-ty-ty-ty-ty-ty-ty-ty-ty-ty-ty-ty-ty-ty-ty-ty-ty-ty-ty-ty-ty-ty-ty-ty-ty-ty-ty-T-T-T-T-T-T-T-T-T-T-T-T-T-T-T-T-T-T-T-T-T-T-T-T-T-T-T-T-T-T-T-T-T-T-T-T-T-T-T-T-T-T-T-T-T-T-T-T-T-T-T-T-T-T-T-T-T-T-T-T-T-T-\n",
      "Reference: Metafen\tHypothesis: Metafan.\n",
      "Reference: Metformax\tHypothesis: Netformas.\n",
      "Reference: Metformina\tHypothesis: Metformina.\n",
      "Reference: Mirtazapina\tHypothesis: Mieta zapinna.\n",
      "Reference: Nurofen Forte\tHypothesis: Nurowen w FOTA.\n",
      "Reference: Olicaps Witamina D3\tHypothesis: Olica w zwitamina D3.\n",
      "Reference: Omeprazol\tHypothesis: Ona prawa.\n",
      "Reference: Oriovit-D 1000\tHypothesis: Orejolidę 1000.\n",
      "Reference: Ospen 1000\tHypothesis: Odmiana do żołądza.\n",
      "Reference: OstroVit Omega 3\tHypothesis: Ostro widoczny omega3.\n",
      "Reference: Pantoprazol\tHypothesis: Pan to obraz.\n",
      "Reference: Perindopryl\tHypothesis: Pyjindowy.\n",
      "Reference: Prestilol\tHypothesis: Proszę stwierdzić.\n",
      "Reference: Ramipryl\tHypothesis: Ramia prawe.\n",
      "Reference: Ridlip\tHypothesis: Rydzy.\n",
      "Reference: Romazic\tHypothesis: Romazic.\n",
      "Reference: Rosucard\tHypothesis: Wyosłup salak.\n",
      "Reference: Rosutrox\tHypothesis: Promisutrox.\n",
      "Reference: Rosuvastatin Medical Valley\tHypothesis: Proszę o stakinę nitelewalnej.\n",
      "Reference: Roswera\tHypothesis: Odstawia objawy oddechowy opatrzenie.\n",
      "Reference: Sitagliptyna\tHypothesis: Czyta ziptyna.\n",
      "Reference: Sobycor\tHypothesis: Zapyco.\n",
      "Reference: Sukralfat\tHypothesis: Cukrojelfat.\n",
      "Reference: Sumamed\tHypothesis: Zumamak.\n",
      "Reference: Suvardio\tHypothesis: Cukwa rdziu.\n",
      "Reference: Synjardy\tHypothesis: Kieruję do poradni albinaidowej opieki medycyny.\n",
      "Reference: Trazodon\tHypothesis: Zodom!\n",
      "Reference: Vigalex Bio\tHypothesis: Wigalek w biuro.\n",
      "Reference: Vigalex Forte\tHypothesis: Widalek z Forte.\n",
      "Reference: Vigalex Max\tHypothesis: GDX Max.\n",
      "Reference: Vigantol\tHypothesis: Widzę do dalszy odpływ w lewej klatce.\n",
      "Reference: Vigantoletten\tHypothesis: Ziżam to letyn.\n",
      "Reference: Witamina D3 Forte\tHypothesis: Witamina D340.\n",
      "Reference: Xigduo\tHypothesis: Cyl do.\n",
      "Reference: Zahron\tHypothesis: Zakrom.\n",
      "Reference: Zaranta\tHypothesis: Za rantę!\n",
      "Reference: Zolpidem\tHypothesis: Załóż PID,\n",
      "Reference: Zopiklon\tHypothesis: Zapikam!\n"
     ]
    }
   ],
   "source": [
    "for ref, hyp in zip(references, hypotheses):\n",
    "    print(f\"Reference: {ref}\\tHypothesis: {hyp}\")"
   ]
  },
  {
   "cell_type": "markdown",
   "id": "be936412",
   "metadata": {},
   "source": [
    "### Fuzzy Matching"
   ]
  },
  {
   "cell_type": "code",
   "execution_count": 45,
   "id": "b4ea6127",
   "metadata": {},
   "outputs": [
    {
     "name": "stderr",
     "output_type": "stream",
     "text": [
      "Transcribing: 100%|██████████| 146/146 [36:17<00:00, 14.91s/it] \n"
     ]
    }
   ],
   "source": [
    "hypotheses = []\n",
    "references = []\n",
    "\n",
    "for ex in tqdm(dataset, desc=\"Transcribing\"):\n",
    "    transcription = transcribe_example(ex)\n",
    "    postprocessed_transcription = postprocess_transcription(transcription=transcription, known_terms=leki)\n",
    "    hypotheses.append(postprocessed_transcription)\n",
    "    references.append(ex[\"phrase\"])"
   ]
  },
  {
   "cell_type": "code",
   "execution_count": 47,
   "id": "f5b79231",
   "metadata": {},
   "outputs": [
    {
     "name": "stdout",
     "output_type": "stream",
     "text": [
      "Subset WER: 0.5484\n",
      "Subset CER: 0.2668\n"
     ]
    }
   ],
   "source": [
    "wer_score = wer(references, hypotheses)\n",
    "cer_score = cer(references, hypotheses)\n",
    "\n",
    "print(f\"Subset WER: {wer_score:.4f}\")\n",
    "print(f\"Subset CER: {cer_score:.4f}\")"
   ]
  },
  {
   "cell_type": "code",
   "execution_count": 48,
   "id": "2203a369",
   "metadata": {},
   "outputs": [
    {
     "name": "stdout",
     "output_type": "stream",
     "text": [
      "Reference: Powinnaś spróbować kuracji Ibupromem.\tHypothesis: Po winu nie spróbować kuracji w upromem.\n",
      "Reference: Najlepiej w twoim przypadku sprawdzi się Ibuprom.\tHypothesis: Najlepiej w twoim przypadku sprawdzi się IBU-PRO.\n",
      "Reference: Powinnaś spróbować kuracji Metafenem.\tHypothesis: Pobinna spróbować kuracji metafenem.\n",
      "Reference: Możesz kupić w aptece Metafen, powinien pomóc.\tHypothesis: Możesz kupić w aptycy metafem, powinien pomóc.\n",
      "Reference: Najlepiej w twoim przypadku sprawdzi się Nurofen Forte.\tHypothesis: Najlepiej w twoim przypadku sprawdzi się nurowenworte.\n",
      "Reference: Zalecam Nurofen Forte, bo dobrze działa na ból i stan zapalny.\tHypothesis: Zalecam norowę Fortem, bo dobrze działa nabór i stan zapalny.\n",
      "Reference: Przepiszę ci Dolgit, bo zwykle dobrze działa.\tHypothesis: Przepiszę ci dole git, bo zwykle dobrze działa.\n",
      "Reference: Na recepcie zapiszę Dolgit jako lek na ból i stan zapalny.\tHypothesis: Na recepcie zapiszę dolegięcie do leka ból i stan zapalny.\n",
      "Reference: Na nadciśnienie przepiszę ci Bisocard.\tHypothesis: Na nadciśnienie przepisów cibi socart.\n",
      "Reference: Zalecam Bisocard, bo dobrze działa na nadciśnienie.\tHypothesis: Zalecam bisokrat, bo dobrze działana nadciśnienie.\n",
      "Reference: Jeśli masz nadciśnienie dobrze sprawdza się Bibloc.\tHypothesis: Jeśli masz nadciśnienie dobrze, sprawdzę się w i-LOG.\n",
      "Reference: Zalecam Bibloc, bo dobrze działa na nadciśnienie.\tHypothesis: Zalecam Bibloc bo dobrze działana nadciśnienie.\n",
      "Reference: Na nadciśnienie przepiszę ci Concor.\tHypothesis: Na nadciśnienie przepiszeć konsult.\n",
      "Reference: Jeśli masz nadciśnienie dobrze sprawdza się Concor.\tHypothesis: Jeśli masz nadciśnienie dobrze, sprawdza się końce.\n",
      "Reference: Przepiszę ci Bisoratio, bo zwykle dobrze działa.\tHypothesis: Przepiszę kibis radio, bo zwykle dobrze działa.\n",
      "Reference: Na recepcie zapiszę Bisoratio jako lek na nadciśnienie.\tHypothesis: Na recepcie zapiszą bisoratię jako lek na nadciśnienie.\n",
      "Reference: Na recepcie zapiszę Sobycor.\tHypothesis: Na recepcie zapisze sobie cor.\n",
      "Reference: Na recepcie zapiszę Sobycor.\tHypothesis: Na recepcie zapisze osobyco-r.\n",
      "Reference: Na recepcie zapiszę Coronal jako lek na nadciśnienie.\tHypothesis: Na recepcie zapisze coronę jako leka na nadciśnienie.\n",
      "Reference: Powinnaś przyjmować Coronal na nadciśnienie.\tHypothesis: Powinnaś przyjmować coronalne nadciśnienie.\n",
      "Reference: Powinnaś spróbować kuracji Prestilolem.\tHypothesis: Pożynna spróbowała skuracji prestilowym.\n",
      "Reference: Najlepiej w twoim przypadku sprawdzi się Prestilol.\tHypothesis: Najlepiej w twoim przypadku sprawdzi się prestilu.\n",
      "Reference: Możesz kupić w aptece Bisoprolol, powinien pomóc.\tHypothesis: Możesz kupić waktyczną Bisoprolol powinien pomóc.\n",
      "Reference: Przepiszę ci Bisoprolol, bo zwykle dobrze działa.\tHypothesis: Zapisze cibisoprolol, bo zwykle dobrze działa.\n",
      "Reference: Powinnaś spróbować kuracji Perindoprylem.\tHypothesis: Poza tym powinny nas spróbować kuracyjkę Peridoprelę.\n",
      "Reference: Na recepcie zapiszę Perindopryl jako lek na nadciśnienie.\tHypothesis: Na recepcie zapisze periokulakolek na nadciśnienie.\n",
      "Reference: Najlepiej w twoim przypadku sprawdzi się Ramipryl.\tHypothesis: Najlepiej w twoim przypadku sprawdzi się rany pyl.\n",
      "Reference: Na recepcie zapiszę Ramipryl.\tHypothesis: Na recepcie zapisze ramiprl.\n",
      "Reference: Najlepiej w twoim przypadku sprawdzi się Amlodipina.\tHypothesis: Najlepiej w twoim przypadku sprawdzisz amiodipinę.\n",
      "Reference: Zalecam Amlodipinę, bo dobrze działa na nadciśnienie.\tHypothesis: Zalecam amlodipinę, bo dobrze działa na nadciśnienie.\n",
      "Reference: Na recepcie zapiszę Hydrochlorotiazyd.\tHypothesis: Na recepcie zapiszę hydrochorotiazyt.\n",
      "Reference: Powinnaś przyjmować Hydrochlorotiazyd na nadciśnienie.\tHypothesis: Pobinnaś przyjmować Hydrochlorotiazyd na nadciśnienie.\n",
      "Reference: Najlepiej w twoim przypadku sprawdzi się Losartan.\tHypothesis: Najlepiej w twoim przypadku sprawdzi się losartem.\n",
      "Reference: Możesz kupić w aptece Losartan, powinien pomóc.\tHypothesis: Możesz kupić w aptecjum sartan, powinien pomóc.\n",
      "Reference: Najlepiej w twoim przypadku sprawdzi się Avamina.\tHypothesis: Najlepiej w twoim przypadku sprawdzi się wamin.\n",
      "Reference: Powinnaś spróbować kuracji Avaminą.\tHypothesis: Pożyl naczyń powinnaś spróbować kuracja waminą.\n",
      "Reference: Przepiszę ci Formetic, bo zwykle dobrze działa.\tHypothesis: Przepiszę onciwormetic, bo zwykle dobrze działa.\n",
      "Reference: Możesz kupić w aptece Formetic, powinien pomóc.\tHypothesis: Możesz kupić w Abtex Informetics. Powinien pomóc.\n",
      "Reference: Na recepcie zapiszę Glucophage XR jako lek na cukrzycę typu drugiego.\tHypothesis: Na recepcie zapisze glukofagę i seria kolegnazukrzycy typu II.\n",
      "Reference: Możesz kupić w aptece Glucophage XR, powinien pomóc.\tHypothesis: Możesz kupić w aptecjum glukozofa GXR. Powinien pomóc.\n",
      "Reference: Możesz kupić w aptece Metformax, powinien pomóc.\tHypothesis: Możesz kupić w aptecjum Metformas. Powinien pomóc.\n",
      "Reference: Powinnaś przyjmować Metformax na cukrzycę typu drugiego.\tHypothesis: Pożynna się przyjmować w metformach snacukrzycy typu 2.\n",
      "Reference: Na recepcie zapiszę Xigduo.\tHypothesis: Na recepcie zapiszę Xigduo\n",
      "Reference: Na cukrzycę typu drugiego przepiszę ci Xigduo.\tHypothesis: Na cukrzycy typu drugiego przepiszę tkankę tkanką tkanką tkanką tkanką tkanką tkanką tkanką tkanką tkanką tkanką tkanką tkanką tkanką tkanką tkanką tkanką tkanką tkanką tkanką tkanką tkanką tkanką tkanką tkanką tkanką tkanką tkanką tkanką tkanką tkanką tkanką tkanką tkanką tkanką tkanką tkanką tkanką tkanką tkanką tkanką tkanką tkanką tkanką tkanką tkanką tkanką tkanką tkanką tkanką tkanką tkanką tkanką tkanką tkanką tkanką tkanką tkanką tkanką tkanką tkanką tkanka tkanka tkanka tkanka tkanka tkanka tkanka tkanka tkanka tkanka tkanka tkanka tkanka tkanka tkanka tkanka tkanka tkanka tkanka tkanka tkanka tkanka tkanka tkanka tkanka tkanka tkanka tkanka tkanka tkanka tkanka tkanka tkanka tkanka tkanka tkanka tkanka tkanka tkanka tkanka tkanka tkanka tkanka tkanka tkanka tkanka tkanka tkanka tkanka tkanka tkanka tkanka tkanka tkanka tkanka tkanka tkanka tkanka tkanka tkanka t\n",
      "Reference: Na recepcie zapiszę Synjardy.\tHypothesis: Na recepcie zapisze osniardy.\n",
      "Reference: Powinnaś spróbować kuracji Synjardy.\tHypothesis: Pożyl naczyń powinnaś spróbować kuracyjsii syniardy.\n",
      "Reference: Najlepiej w twoim przypadku sprawdzi się Actarosin.\tHypothesis: Najlepiej w twoim przypadku sprawdzi się o starości.\n",
      "Reference: Na recepcie zapiszę Actarosin.\tHypothesis: Na recepcie zapisze odstarłość.\n",
      "Reference: Powinnaś przyjmować Arterios na cukrzycę typu drugiego.\tHypothesis: Powinnaś przyjmować Arterios na cukrzycę typu drugiego.\n",
      "Reference: Najlepiej w twoim przypadku sprawdzi się Arterios.\tHypothesis: Najlepiej w twoim przypadku sprawdzi się arterios.\n",
      "Reference: Przepiszę ci Metforminę, bo zwykle dobrze działa.\tHypothesis: Przepisze cimetforminy, bo zwykle dobrze działa.\n",
      "Reference: Możesz kupić w aptece Metforminę, powinien pomóc.\tHypothesis: Możesz kupić Wapę Cimetforminę. Powinien pomóc.\n",
      "Reference: Na recepcie zapiszę Sitagliptynę jako lek na cukrzycę typu drugiego.\tHypothesis: Na recepcie zapisze się tabletiną jakolaj na cukrzycę typu drugiego.\n",
      "Reference: Na cukrzycę typu drugiego przepiszę ci Sitagliptynę.\tHypothesis: Na co chrzyca typu drugiego przepisze ci się ta diktyna.\n",
      "Reference: Na cukrzycę typu drugiego przepiszę ci Linagliptynę.\tHypothesis: Na cukrzycy typu drugiego przepisze klinem liptyny.\n",
      "Reference: Możesz kupić w aptece Linagliptynę, powinien pomóc.\tHypothesis: Możesz kupić wapnę TC i negrytynę. Powinien pomóc.\n",
      "Reference: Najlepiej w twoim przypadku sprawdzi się Liraglutyd.\tHypothesis: Najlepiej w twoim przypadku sprawdzi się lirablutyt.\n",
      "Reference: Na recepcie zapiszę Liraglutyd.\tHypothesis: Na recepcie zapisze laryngo-dyt.\n",
      "Reference: Zalecam Dapagliflozynę, bo dobrze działa na cukrzycę typu drugiego.\tHypothesis: Zalecam depagliflozynę, bo dobrze działa na cukrzycy typu II.\n",
      "Reference: Powinnaś przyjmować Dapagliflozynę na cukrzycę typu drugiego.\tHypothesis: Powinnaś przyjmować dopamiflozynę na cukrzycę typu drugiego.\n",
      "Reference: Jeśli masz wysoki cholesterol dobrze sprawdza się Crestor.\tHypothesis: Jeśli masz wysoki cholesterol, dobrze sprawdza się kresor.\n",
      "Reference: Przepiszę ci Crestor, bo zwykle dobrze działa.\tHypothesis: Przepiszę ciepłe kresce. Zwykle dobrze działa.\n",
      "Reference: Najlepiej w twoim przypadku sprawdzi się Crosuvo.\tHypothesis: Najlepiej w twoim przypadku sprawdzi się krosso.\n",
      "Reference: Możesz kupić w aptece Crosuvo, powinien pomóc.\tHypothesis: Możesz kupić w aptece Crossowo. Powinien pomóc.\n",
      "Reference: Na wysoki cholesterol przepiszę ci Ridlip.\tHypothesis: Na wysokiej cholesterol przepisze chiliglip.\n",
      "Reference: Przepiszę ci Ridlip, bo zwykle dobrze działa.\tHypothesis: Przepiszę ciurki lilii, bo zwykle dobrze działa.\n",
      "Reference: Na wysoki cholesterol przepiszę ci Romazic.\tHypothesis: Na wysokich cholesterol przepiszę chiromazic.\n",
      "Reference: Powinnaś spróbować kuracji Romazicem.\tHypothesis: Poza tym powinna spróbować poradzić ramazicę.\n",
      "Reference: Na recepcie zapiszę Rosucard.\tHypothesis: Na recepcie zapis rosłucard.\n",
      "Reference: Możesz kupić w aptece Rosucard, powinien pomóc.\tHypothesis: Możesz kupić w aptecjum rosłym sarty, powinien pomóc.\n",
      "Reference: Przepiszę ci Rosutrox, bo zwykle dobrze działa.\tHypothesis: Przepiszę ciurosłuproks, bo zwykle dobrze działa.\n",
      "Reference: Zalecam Rosutrox, bo dobrze działa na wysoki cholesterol.\tHypothesis: Zalecam rozsutrok, bo dobrze działa na wysokie cholesterol.\n",
      "Reference: Możesz kupić w aptece Roswerę, powinien pomóc.\tHypothesis: Możesz kupić w aptecjum rosfery, powinien pomóc.\n",
      "Reference: Zalecam Roswerę, bo dobrze działa na wysoki cholesterol.\tHypothesis: Zalecam rosferę, bo dobrze działa na wysokiej cholesterol.\n",
      "Reference: Najlepiej w twoim przypadku sprawdzi się Suvardio.\tHypothesis: Najlepiej w twoim przypadku sprawdzi się suwaria.\n",
      "Reference: Jeśli masz wysoki cholesterol dobrze sprawdza się Suvardio.\tHypothesis: Jeśli masz wysoki cholesterol, dobrze sprawdza się suvardia.\n",
      "Reference: Na wysoki cholesterol przepiszę ci Zahron.\tHypothesis: Na wysokiej cholesterol przepisze ci zachron.\n",
      "Reference: Możesz kupić w aptece Zahron, powinien pomóc.\tHypothesis: Możysz kupić w aptecja Zakron, powinien pomóc.\n",
      "Reference: Jeśli masz wysoki cholesterol dobrze sprawdza się Zaranta.\tHypothesis: Jeśli masz wysoki cholesterol, dobrze sprawdza się z renta.\n",
      "Reference: Na recepcie zapiszę Zarantę jako lek na wysoki cholesterol.\tHypothesis: Na recepcie zapiszą zarantę jakolegna wysokiej cholesterol.\n",
      "Reference: Na recepcie zapiszę Rosuvastatin Medical Valley.\tHypothesis: Na recepcie zapisze rosławostatinę medycylowej.\n",
      "Reference: Możesz kupić w aptece Rosuvastatin Medical Valley, powinien pomóc.\tHypothesis: Możysz kupić w autece Roswastatin w Nichal Valley. Powinien pomóc.\n",
      "Reference: Najlepiej w twoim przypadku sprawdzi się Vigantoletten.\tHypothesis: Najlepiej w twoim przypadku sprawdzi się wiegan toleten.\n",
      "Reference: Jeśli masz niedobór witaminy D dobrze sprawdza się Vigantoletten.\tHypothesis: Jeśli masz niedobór witaminy D, dobrze sprawdza się wigentoleten.\n",
      "Reference: Przepiszę ci Vigantol, bo zwykle dobrze działa.\tHypothesis: Przepisać gigantol, bo zwykle dobrze działa.\n",
      "Reference: Na recepcie zapiszę Vigantol.\tHypothesis: Na recepcie zapisze Mviganto.\n",
      "Reference: Powinnaś spróbować kuracji Ibuvit D3.\tHypothesis: Pożyl naczyń powinnaś spróbować kuracji ibupedii dynczy.\n",
      "Reference: Jeśli masz niedobór witaminy D dobrze sprawdza się Ibuvit D3.\tHypothesis: Jeśli masz niedobór witaminy D dobrze sprawdza się i buwity D3.\n",
      "Reference: Zalecam Biaron D, bo dobrze działa na niedobór witaminy D.\tHypothesis: Zalecam biolonę D, bo dobrze działa na niedobór witamin D.\n",
      "Reference: Najlepiej w twoim przypadku sprawdzi się Biaron D.\tHypothesis: Najlepiej w twoim przypadku sprawdzi się biorondę.\n",
      "Reference: Przepiszę ci ApoD3, bo zwykle dobrze działa.\tHypothesis: Przepiszę ciapę do dęży, bo zwykle dobrze działa.\n",
      "Reference: Jeśli masz niedobór witaminy D dobrze sprawdza się ApoD3.\tHypothesis: Jeśli masz niedobór witaminy doby, dobrze sprawdzasz się apodyczyn.\n",
      "Reference: Przepiszę ci Devikap, bo zwykle dobrze działa.\tHypothesis: Przeproszę ci dylikap, bo zwykle dobrze działa.\n",
      "Reference: Najlepiej w twoim przypadku sprawdzi się Devikap.\tHypothesis: Najlepiej w twoim przypadku sprawdzi się dywikap.\n",
      "Reference: Powinnaś spróbować kuracji Witaminą D3 Forte.\tHypothesis: Powinna spróbować kuracji witaminą D3Fortem.\n",
      "Reference: Powinnaś spróbować kuracji Witaminą D3 Forte.\tHypothesis: Pożyl naczyń powinnaś spróbować kuracji witaminą D3-4.\n",
      "Reference: Na recepcie zapiszę Oriovit-D 1000 jako lek na niedobór witaminy D.\tHypothesis: Na recepcie zapiszę oriołik 1000 jk na niedobór witaminy D.\n",
      "Reference: Jeśli masz niedobór witaminy D dobrze sprawdza się Oriovit-D 1000.\tHypothesis: Jeśli masz niedobór witaminy T, dobrze sprawdza się Oriolisty 1000.\n",
      "Reference: Na recepcie zapiszę Vigalex Bio jako lek na niedobór witaminy D.\tHypothesis: Na recepcie zapiszę wigalek z biakolek na niedobór witaminy D.\n",
      "Reference: Na niedobór witaminy D przepiszę ci Vigalex Bio.\tHypothesis: Na niedobór witaminy D przepiszę kibikalek z biału.\n",
      "Reference: Zalecam Ospen 1000, bo dobrze działa na anginę.\tHypothesis: Zalecam ospę 1000, bo dobrze działa na ankile.\n",
      "Reference: Przepiszę ci Ospen 1000, bo zwykle dobrze działa.\tHypothesis: Przepiszecie ospę 1000, bo zwykle dobrze działa.\n",
      "Reference: Najlepiej w twoim przypadku sprawdzi się Amotaks.\tHypothesis: Najlepiej w twoim przypadku sprawdzi się Amotax.\n",
      "Reference: Przepiszę ci Amotaks, bo zwykle dobrze działa.\tHypothesis: Przepiszę tl-amotax, bo zwykle dobrze działa.\n",
      "Reference: Możesz kupić w aptece Augmentin, powinien pomóc.\tHypothesis: Możesz kupić w aptecjum augmentin, powinien pomóc.\n",
      "Reference: Powinnaś spróbować kuracji Augmentin.\tHypothesis: Pożynna spróbowała kuracji augmentin.\n",
      "Reference: Na recepcie zapiszę Macromax jako lek na anginę.\tHypothesis: Na recepcie zapisze maceromak z piekolek na anginę.\n",
      "Reference: Powinnaś spróbować kuracji Macromax.\tHypothesis: Pożyl należy spróbować do kuracji matromoz.\n",
      "Reference: Na anginę przepiszę ci Sumamed.\tHypothesis: Na anginele przepisem tisumamet.\n",
      "Reference: Zalecam Sumamed, bo dobrze działa na anginę.\tHypothesis: Zalecam sumometr, bo dobrze działa na anginy.\n",
      "Reference: Na recepcie zapiszę Amoksycylinę jako lek na anginę.\tHypothesis: Na recepcie zapisze amoksycylinę i akoleknadinę.\n",
      "Reference: Zalecam Amoksycylinę, bo dobrze działa na anginę.\tHypothesis: Zalecam amosycylinę, bo dobrze działa na anginę.\n",
      "Reference: Przepiszę ci Omeprazol, bo zwykle dobrze działa.\tHypothesis: Przepiszę ci o mp3x, bo zwykle dobrze działa.\n",
      "Reference: Powinnaś spróbować kuracji Omeprazolem.\tHypothesis: Pożyl należy spróbować do kuracji omeprezolem.\n",
      "Reference: Możesz kupić w aptece Pantoprazol, powinien pomóc.\tHypothesis: Możesz kupić w aptece Pantoprazol powinien pomóc.\n",
      "Reference: Na recepcie zapiszę Pantoprazol jako lek na zgaga.\tHypothesis: Na recepcie zapisze pantoplazol jako lek nasgaga.\n",
      "Reference: Powinnaś przyjmować Laktulozę na zgaga.\tHypothesis: Pożynna się przyjmować laktolozyna z gaga.\n",
      "Reference: Zalecam Laktulozę, bo dobrze działa na zgaga.\tHypothesis: Zalecam laktulizę, bo dobrze działa Nazgaka.\n",
      "Reference: Jeśli masz zgaga dobrze sprawdza się Bisakodyl.\tHypothesis: Jeśli masz zgadza dobrze, sprawdza się bisakody.\n",
      "Reference: Zalecam Bisakodyl, bo dobrze działa na zgaga.\tHypothesis: Zalecam Bicacodyl, bo dobrze działa nosgaga.\n",
      "Reference: Zalecam Sukralfat, bo dobrze działa na zgaga.\tHypothesis: Zalecam sukralfat, bo dobrze działa nazgaga.\n",
      "Reference: Jeśli masz zgaga dobrze sprawdza się Sukralfat.\tHypothesis: Jeśli masz zgadza, dobrze sprawdza się sukralfat.\n",
      "Reference: Na recepcie zapiszę Folik.\tHypothesis: Na recepcie zapisem folik.\n",
      "Reference: Przepiszę ci Folik, bo zwykle dobrze działa.\tHypothesis: Przepiszę ciolik, bo zwykle dobrze działa.\n",
      "Reference: Powinnaś przyjmować ActiFolin na profilaktyka.\tHypothesis: Powinna się przyjmować atk i folinna profilaktyka.\n",
      "Reference: Najlepiej w twoim przypadku sprawdzi się ActiFolin.\tHypothesis: Najlepiej w twoim przypadku sprawdzi się accyty folii.\n",
      "Reference: Najlepiej w twoim przypadku sprawdzi się Aliness Kwas Foliowy.\tHypothesis: Najlepiej w twoim przypadku sprawdzi się aline z kwas foliowy.\n",
      "Reference: Przepiszę ci Aliness Kwas Foliowy, bo zwykle dobrze działa.\tHypothesis: Przepiszę ci eliny z kwas foliowy, bo zwykle dobrze działa.\n",
      "Reference: Możesz kupić w aptece D-Vitum Forte, powinien pomóc.\tHypothesis: Możesz kupić w aptecyntowi Tomforta, powinien pomóc.\n",
      "Reference: Najlepiej w twoim przypadku sprawdzi się D-Vitum Forte.\tHypothesis: Najlepiej w twoim przypadku sprawdzi się dewitym fortem.\n",
      "Reference: Powinnaś spróbować kuracji Olicaps Witaminą D3.\tHypothesis: Powinna spróbować kuracji Olicap z witaminą D3.\n",
      "Reference: Na recepcie zapiszę Olicaps Witamina D3 jako lek na profilaktyka.\tHypothesis: Na recepcie zapisze uliczawc witamina D3 jako lek na profilaktykę.\n",
      "Reference: Powinnaś spróbować kuracji OstroVit Omega 3.\tHypothesis: Pożynna spróbowała kuracji ostrożo-witomegaczy.\n",
      "Reference: Na recepcie zapiszę OstroVit Omega 3 jako lek na profilaktyka.\tHypothesis: Na recepcie zapiszę ostrożonę OMEGa3 jako lekna profilaktyka.\n",
      "Reference: Na recepcie zapiszę KFD Omega 3.\tHypothesis: Na recepcie zapiszę KFD-omegaczy.\n",
      "Reference: Przepiszę ci KFD Omega 3, bo zwykle dobrze działa.\tHypothesis: Przepiszę kwiat w DaOmega3, bo zwykle dobrze działa.\n",
      "Reference: Powinnaś spróbować kuracji Zolpidemem.\tHypothesis: Pożyl powinna spróbować kuracji z Opidemem.\n",
      "Reference: Zalecam Zolpidem, bo dobrze działa na bezsenność.\tHypothesis: Zalecam zorbidę, bo dobrze działa na bezsenność.\n",
      "Reference: Najlepiej w twoim przypadku sprawdzi się Zopiklon.\tHypothesis: Najlepiej w twoim przypadku sprawdzisz z opiką.\n",
      "Reference: Na recepcie zapiszę Zopiklon.\tHypothesis: Na recepcie zapiszyn z opitlon.\n",
      "Reference: Na recepcie zapiszę Melatoninę.\tHypothesis: Na recepcie zapisze melatoninę.\n",
      "Reference: Najlepiej w twoim przypadku sprawdzi się Melatonina.\tHypothesis: Najlepiej w twoim przypadku sprawdzi się Melatonina\n",
      "Reference: Przepiszę ci Trazodon, bo zwykle dobrze działa.\tHypothesis: Przepisze triazodon, bo zwykle dobrze działa.\n",
      "Reference: Na recepcie zapiszę Trazodon.\tHypothesis: Na recepcie zapisze trazodon.\n",
      "Reference: Zalecam Mirtazapinę, bo dobrze działa na bezsenność.\tHypothesis: Zalecam mirta za minutę, bo dobrze działa na bezsenność.\n",
      "Reference: Powinnaś spróbować kuracji Mirtazapiną.\tHypothesis: Pożynnaś spróbować kuracją jelita zapiną.\n"
     ]
    }
   ],
   "source": [
    "for ref, hyp in zip(references, hypotheses):\n",
    "    print(f\"Reference: {ref}\\tHypothesis: {hyp}\")"
   ]
  },
  {
   "cell_type": "markdown",
   "id": "89e383c4",
   "metadata": {},
   "source": [
    "### LLM correction"
   ]
  },
  {
   "cell_type": "code",
   "execution_count": null,
   "id": "294f6cb6",
   "metadata": {},
   "outputs": [],
   "source": [
    "hypotheses = []\n",
    "references = []\n",
    "\n",
    "for ex in tqdm(dataset, desc=\"Transcribing\"):\n",
    "    transcription = transcribe_example(ex)\n",
    "    corrected = correct_with_llm(transcription=transcription, api_key = api_key)\n",
    "    hypotheses.append(corrected)\n",
    "    references.append(ex[\"phrase\"])"
   ]
  },
  {
   "cell_type": "code",
   "execution_count": 55,
   "id": "b3b45495",
   "metadata": {},
   "outputs": [
    {
     "name": "stdout",
     "output_type": "stream",
     "text": [
      "Subset WER: 0.8586\n",
      "Subset CER: 0.7186\n"
     ]
    }
   ],
   "source": [
    "wer_score = wer(references, hypotheses)\n",
    "cer_score = cer(references, hypotheses)\n",
    "\n",
    "print(f\"Subset WER: {wer_score:.4f}\")\n",
    "print(f\"Subset CER: {cer_score:.4f}\")"
   ]
  },
  {
   "cell_type": "code",
   "execution_count": 56,
   "id": "48bcb3e7",
   "metadata": {},
   "outputs": [
    {
     "name": "stdout",
     "output_type": "stream",
     "text": [
      "Reference: Powinnaś spróbować kuracji Ibupromem.\tHypothesis: Po spożyciu alkoholu nie należy próbować kuracji odwykowej.\n",
      "Reference: Najlepiej w twoim przypadku sprawdzi się Ibuprom.\tHypothesis: W Pana przypadku najskuteczniejsze będzie ibuprofenum.\n",
      "Reference: Powinnaś spróbować kuracji Metafenem.\tHypothesis: Pobinna spróbować kuracji metafenem. -> Powinna spróbować kuracji metamizolem.\n",
      "Reference: Możesz kupić w aptece Metafen, powinien pomóc.\tHypothesis: Możesz kupić w aptece metforminę, powinna pomóc.\n",
      "Reference: Najlepiej w twoim przypadku sprawdzi się Nurofen Forte.\tHypothesis: Najlepiej w twoim przypadku sprawdzi się niesteroidowy lek przeciwzapalny.\n",
      "Reference: Zalecam Nurofen Forte, bo dobrze działa na ból i stan zapalny.\tHypothesis: Zalecam doustnie Fortem, ponieważ dobrze działa na nabór i stan zapalny.\n",
      "Reference: Przepiszę ci Dolgit, bo zwykle dobrze działa.\tHypothesis: Przepiszę ci diklofenak w żelu, bo zwykle dobrze działa.\n",
      "Reference: Na recepcie zapiszę Dolgit jako lek na ból i stan zapalny.\tHypothesis: Na recepte zapiszę lek przeciwbólowy i przeciwzapalny.\n",
      "Reference: Na nadciśnienie przepiszę ci Bisocard.\tHypothesis: Na nadciśnienie przepisuję Siofor.\n",
      "Reference: Zalecam Bisocard, bo dobrze działa na nadciśnienie.\tHypothesis: Zalecam bisoprolol, ponieważ dobrze działa na nadciśnienie.\n",
      "Reference: Jeśli masz nadciśnienie dobrze sprawdza się Bibloc.\tHypothesis: Jeśli masz nadciśnienie tętnicze, dobrze sprawdzę się w i-LOG.\n",
      "Reference: Zalecam Bibloc, bo dobrze działa na nadciśnienie.\tHypothesis: Zalecam Bibloc, ponieważ dobrze działa na nadciśnienie.\n",
      "Reference: Na nadciśnienie przepiszę ci Concor.\tHypothesis: Na nadciśnienie tętnicze skierować na konsultację.\n",
      "Reference: Jeśli masz nadciśnienie dobrze sprawdza się Concor.\tHypothesis: Jeśli masz nadciśnienie tętnicze, dobrze sprawdza się kontrola kończyn.\n",
      "Reference: Przepiszę ci Bisoratio, bo zwykle dobrze działa.\tHypothesis: Przepiszę kioks radioizotopowy, bo zwykle dobrze działa.\n",
      "Reference: Na recepcie zapiszę Bisoratio jako lek na nadciśnienie.\tHypothesis: Na recepcie zapiszą bisoprolol jako lek na nadciśnienie tętnicze.\n",
      "Reference: Na recepcie zapiszę Sobycor.\tHypothesis: Na recepcie zapiszę sobie COR.\n",
      "Reference: Na recepcie zapiszę Sobycor.\tHypothesis: Na recepcie zapiszę Osobycon.\n",
      "Reference: Na recepcie zapiszę Coronal jako lek na nadciśnienie.\tHypothesis: Na recepcie zapisze coronę jako lek na nadciśnienie tętnicze.\n",
      "Reference: Powinnaś przyjmować Coronal na nadciśnienie.\tHypothesis: Powinna Pani przyjmować koronalne leki obniżające ciśnienie tętnicze, czyli  leki przeciwnadciśnieniowe. \n",
      "lub \n",
      "Panią powinno się leczyć  koronalnie z powodu nadciśnienia tętniczego. \n",
      "\n",
      "Poprawiona wersja:\n",
      "Powinna Pani przyjmować leki przeciwnadciśnieniowe.\n",
      "Reference: Powinnaś spróbować kuracji Prestilolem.\tHypothesis: Pojedyncza pacjentka spróbowała kuracji preparatem Prestil.\n",
      "Reference: Najlepiej w twoim przypadku sprawdzi się Prestilol.\tHypothesis: Najlepiej w Pani przypadku sprawdzi się pristal.\n",
      "Reference: Możesz kupić w aptece Bisoprolol, powinien pomóc.\tHypothesis: Możesz kupić recepturę bisoprololu, powinna pomóc.\n",
      "Reference: Przepiszę ci Bisoprolol, bo zwykle dobrze działa.\tHypothesis: Zapiszę bisoprolol, ponieważ zwykle jest skuteczny.\n",
      "Reference: Powinnaś spróbować kuracji Perindoprylem.\tHypothesis: Poza tym powinnyśmy spróbować podać perindopril.\n",
      "Reference: Na recepcie zapiszę Perindopryl jako lek na nadciśnienie.\tHypothesis: Na recepte zapisze perindopril na nadciśnienie tętnicze.\n",
      "Reference: Najlepiej w twoim przypadku sprawdzi się Ramipryl.\tHypothesis: Najlepiej w twoim przypadku sprawdzi się rana pyloryczna.\n",
      "Reference: Na recepcie zapiszę Ramipryl.\tHypothesis: Na recepcie zapisze ramipryl.\n",
      "Reference: Najlepiej w twoim przypadku sprawdzi się Amlodipina.\tHypothesis: Najlepiej w Pana/Pani przypadku sprawdzi się amlodypina.\n",
      "Reference: Zalecam Amlodipinę, bo dobrze działa na nadciśnienie.\tHypothesis: Zalecam amlodipinę, ponieważ jest skuteczna w leczeniu nadciśnienia tętniczego.\n",
      "Reference: Na recepcie zapiszę Hydrochlorotiazyd.\tHypothesis: Na recepte zapiszę hydrochlorotiazyd.\n",
      "Reference: Powinnaś przyjmować Hydrochlorotiazyd na nadciśnienie.\tHypothesis: Powinna Pani przyjmować hydrochlorotiazyd w leczeniu nadciśnienia tętniczego.\n",
      "Reference: Najlepiej w twoim przypadku sprawdzi się Losartan.\tHypothesis: Najlepiej w Pani/Pana przypadku sprawdzi się losartan.\n",
      "Reference: Możesz kupić w aptece Losartan, powinien pomóc.\tHypothesis: Możesz kupić w aptece sartan, powinien pomóc. \n",
      "\n",
      "Poprawiona wersja: \n",
      "Możesz kupić w aptece lek z grupy sartanów, co powinno pomóc.\n",
      "Reference: Najlepiej w twoim przypadku sprawdzi się Avamina.\tHypothesis: W Pani przypadku najodpowiedniejsze będzie żywienie pozajelitowe.\n",
      "Reference: Powinnaś spróbować kuracji Avaminą.\tHypothesis: Pożyłać naczyń powinnaś spróbować kuracji witaminą.\n",
      "Reference: Przepiszę ci Formetic, bo zwykle dobrze działa.\tHypothesis: Przepiszę iwermektynę, ponieważ zwykle jest ona skuteczna.\n",
      "Reference: Możesz kupić w aptece Formetic, powinien pomóc.\tHypothesis: Można kupić w Abtex Informetics. Powinien okazać się pomocny.\n",
      "Reference: Na recepcie zapiszę Glucophage XR jako lek na cukrzycę typu drugiego.\tHypothesis: Na recepte zapisze metformine i serie leków na cukrzycę typu 2.\n",
      "Reference: Możesz kupić w aptece Glucophage XR, powinien pomóc.\tHypothesis: Możesz kupić w aptece glukozaminę. Powinna pomóc.\n",
      "Reference: Możesz kupić w aptece Metformax, powinien pomóc.\tHypothesis: Możesz kupić w aptece metforminę. Powinna pomóc.\n",
      "Reference: Powinnaś przyjmować Metformax na cukrzycę typu drugiego.\tHypothesis: Metformina jest przyjmowana w cukrzycy typu 2.\n",
      "Reference: Na recepcie zapiszę Xigduo.\tHypothesis: Na recepte zapiszę Xigduo.\n",
      "Reference: Na cukrzycę typu drugiego przepiszę ci Xigduo.\tHypothesis: Na cukrzycę typu 2.\n",
      "Reference: Na recepcie zapiszę Synjardy.\tHypothesis: Na recepcie zapisze Osnardyn.\n",
      "Reference: Powinnaś spróbować kuracji Synjardy.\tHypothesis: Pożyl naczyń powinna Pani spróbować kuracji inhibitorami konwertazy angiotensyny.\n",
      "Reference: Najlepiej w twoim przypadku sprawdzi się Actarosin.\tHypothesis: Oto poprawiona wersja: \n",
      "Najlepiej w twoim przypadku sprawdzi się leczenie otyłości.\n",
      "Reference: Na recepcie zapiszę Actarosin.\tHypothesis: Na recepcie zapisze odstępstwo. \n",
      "lub \n",
      "Na recepcie zapisze odstąpienie. \n",
      "\n",
      "bardziej prawdopodobna wersja medyczna:\n",
      "Na recepcie zapisze dawkowanie/odstęp między dawkami. \n",
      "\n",
      "ale najbardziej prawdopodobna jest wersja:\n",
      "Na recepcie zapisze odstęp.\n",
      "Reference: Powinnaś przyjmować Arterios na cukrzycę typu drugiego.\tHypothesis: Powinna Pani przyjmować metforminę w leczeniu cukrzycy typu 2.\n",
      "Reference: Najlepiej w twoim przypadku sprawdzi się Arterios.\tHypothesis: Najlepiej w Pana przypadku sprawdzi się aspiryna.\n",
      "Reference: Przepiszę ci Metforminę, bo zwykle dobrze działa.\tHypothesis: Przepiszę metforminę, bo zwykle jest skuteczna.\n",
      "Reference: Możesz kupić w aptece Metforminę, powinien pomóc.\tHypothesis: Możesz kupić Wapę lub Cimetforminę. Powinny pomóc.\n",
      "Reference: Na recepcie zapiszę Sitagliptynę jako lek na cukrzycę typu drugiego.\tHypothesis: Na recepte zapisze się tabletkę doustnego leku przeciwcukrzycowego na cukrzycę typu 2.\n",
      "Reference: Na cukrzycę typu drugiego przepiszę ci Sitagliptynę.\tHypothesis: Na cukrzycę typu drugiego przepisze ci się ta metformina.\n",
      "Reference: Na cukrzycę typu drugiego przepiszę ci Linagliptynę.\tHypothesis: Na cukrzycy typu 2 przepiszę lek z grupy inkretyn.\n",
      "Reference: Możesz kupić w aptece Linagliptynę, powinien pomóc.\tHypothesis: Możesz kupić witaminę TC i nystatynę. Powinien pomóc.\n",
      "Reference: Najlepiej w twoim przypadku sprawdzi się Liraglutyd.\tHypothesis: Liraglutyd.\n",
      "Reference: Na recepcie zapiszę Liraglutyd.\tHypothesis: Na recepcie zapisze larotidinę.\n",
      "Reference: Zalecam Dapagliflozynę, bo dobrze działa na cukrzycę typu drugiego.\tHypothesis: Zalecam dapagliflozynę, ponieważ jest skuteczna w leczeniu cukrzycy typu 2.\n",
      "Reference: Powinnaś przyjmować Dapagliflozynę na cukrzycę typu drugiego.\tHypothesis: Powinna Pani przyjmować dapagliflozynę w leczeniu cukrzycy typu 2.\n",
      "Reference: Jeśli masz wysoki cholesterol dobrze sprawdza się Crestor.\tHypothesis: Jeśli masz hipercholesterolemię, dobrze sprawdza się rosuwastatyna.\n",
      "Reference: Przepiszę ci Crestor, bo zwykle dobrze działa.\tHypothesis: Przepiszę okład ciepły. Zwykle dobrze działa.\n",
      "Reference: Najlepiej w twoim przypadku sprawdzi się Crosuvo.\tHypothesis: Kruro-kruralne zespolenie omijające (kruro-kruralne bypass) będzie najlepszą opcją w twoim przypadku.\n",
      "Reference: Możesz kupić w aptece Crosuvo, powinien pomóc.\tHypothesis: Możesz kupić w aptece bez recepty. Powinien pomóc.\n",
      "Reference: Na wysoki cholesterol przepiszę ci Ridlip.\tHypothesis: Na hipercholesterolemię przepiszę statyny.\n",
      "Reference: Przepiszę ci Ridlip, bo zwykle dobrze działa.\tHypothesis: Przepiszę leki moczopędne, bo zwykle dobrze działają.\n",
      "Reference: Na wysoki cholesterol przepiszę ci Romazic.\tHypothesis: Na hipercholesterolemię przepiszę chiwermacynę (chiromazic).\n",
      "Reference: Powinnaś spróbować kuracji Romazicem.\tHypothesis: Poza tym powinna spróbować poradzić sobie z ramiczycą.\n",
      "Reference: Na recepcie zapiszę Rosucard.\tHypothesis: Na recepte zapisano Rosucard.\n",
      "Reference: Możesz kupić w aptece Rosucard, powinien pomóc.\tHypothesis: Możesz kupić w aptece syrop, powinien pomóc.\n",
      "Reference: Przepiszę ci Rosutrox, bo zwykle dobrze działa.\tHypothesis: Przepiszę ciuraprolks, bo zwykle dobrze działa.\n",
      "Reference: Zalecam Rosutrox, bo dobrze działa na wysoki cholesterol.\tHypothesis: Zalecam rozuwastatynę, ponieważ jest skuteczna w leczeniu hipercholesterolemii.\n",
      "Reference: Możesz kupić w aptece Roswerę, powinien pomóc.\tHypothesis: Możesz kupić w aptece rusferyde, powinien pomóc.\n",
      "Reference: Zalecam Roswerę, bo dobrze działa na wysoki cholesterol.\tHypothesis: Zalecam rosuwastatynę, ponieważ jest skuteczna w hipercholesterolemii.\n",
      "Reference: Najlepiej w twoim przypadku sprawdzi się Suvardio.\tHypothesis: Suwak mowy sprawdzi się w Pani przypadku najlepiej.\n",
      "Reference: Jeśli masz wysoki cholesterol dobrze sprawdza się Suvardio.\tHypothesis: Jeśli występuje u Ciebie hipercholesterolemia, dobrze sprawdza się simwastatyna.\n",
      "Reference: Na wysoki cholesterol przepiszę ci Zahron.\tHypothesis: Na wysoki poziom cholesterolu przepiszą ci lek.\n",
      "Reference: Możesz kupić w aptece Zahron, powinien pomóc.\tHypothesis: Można kupić w aptece bez recepty, powinien pomóc.\n",
      "Reference: Jeśli masz wysoki cholesterol dobrze sprawdza się Zaranta.\tHypothesis: Jeśli masz hipercholesterolemię, dobrze sprawdza się statyna.\n",
      "Reference: Na recepcie zapiszę Zarantę jako lek na wysoki cholesterol.\tHypothesis: Na recepcie zapiszą atorwastatynę na wysoki cholesterol.\n",
      "Reference: Na recepcie zapiszę Rosuvastatin Medical Valley.\tHypothesis: Na recepte zapisze rosuwastatynę.\n",
      "Reference: Możesz kupić w aptece Rosuvastatin Medical Valley, powinien pomóc.\tHypothesis: Możesz kupić w aptece Rosuwastatynę w Nichal Valley. Powinna pomóc.\n",
      "Reference: Najlepiej w twoim przypadku sprawdzi się Vigantoletten.\tHypothesis: Wegan toaleta to niezbyt precyzyjne określenie. Najprawdopodobniej eksperci medyczni określiliby to jako: dieta wysokobłonnikowa. Zatem poprawiona wersja to:\n",
      "    Najlepiej w twoim przypadku sprawdzi się dieta wysokobłonnikowa.\n",
      "Reference: Jeśli masz niedobór witaminy D dobrze sprawdza się Vigantoletten.\tHypothesis: Jeśli występuje niedobór witaminy D, dobrze sprawdza się cholekalcyferol.\n",
      "Reference: Przepiszę ci Vigantol, bo zwykle dobrze działa.\tHypothesis: Przepisać gantanol, bo zwykle jest skuteczny.\n",
      "Reference: Na recepcie zapiszę Vigantol.\tHypothesis: Na recepte zapisze Vigantol.\n",
      "Reference: Powinnaś spróbować kuracji Ibuvit D3.\tHypothesis: Pożyl naczyń powinna Pani spróbować kuracji ibuprofenem doustnie.\n",
      "Reference: Jeśli masz niedobór witaminy D dobrze sprawdza się Ibuvit D3.\tHypothesis: Jeśli masz niedobór witaminy D, dobrze sprawdza się suplementacja witaminą D3.\n",
      "Reference: Zalecam Biaron D, bo dobrze działa na niedobór witaminy D.\tHypothesis: Zalecam suplementację witaminą D, ponieważ jest ona skuteczna w leczeniu niedoboru witaminy D.\n",
      "Reference: Najlepiej w twoim przypadku sprawdzi się Biaron D.\tHypothesis: Biorondę należy zastąpić biorównoważnym (lub bioekwiwalentnym) lekiem generycznym lub odpowiednikiem leku oryginalnego. \n",
      "\n",
      "Poprawiona wersja: \n",
      "Najlepiej w twoim przypadku sprawdzi się lek generyczny.\n",
      "Reference: Przepiszę ci ApoD3, bo zwykle dobrze działa.\tHypothesis: Przepiszę cyproteron do dużych dawek, bo zwykle dobrze działa.\n",
      "Reference: Jeśli masz niedobór witaminy D dobrze sprawdza się ApoD3.\tHypothesis: Jeśli masz niedobór witaminy D, dobrze sprawdzają się apodyktycznie suplementy.\n",
      "Reference: Przepiszę ci Devikap, bo zwykle dobrze działa.\tHypothesis: Przepraszam za tę dilejkę, bo zwykle dobrze działa.\n",
      "Reference: Najlepiej w twoim przypadku sprawdzi się Devikap.\tHypothesis: Dywikapran.\n",
      "Reference: Powinnaś spróbować kuracji Witaminą D3 Forte.\tHypothesis: Powinna spróbować leczenia preparatem witaminy D3 o dużej mocy.\n",
      "Reference: Powinnaś spróbować kuracji Witaminą D3 Forte.\tHypothesis: Powinieneś spróbować kuracji witaminą D3 lub D4 w przypadku choroby naczyniowej.\n",
      "Reference: Na recepcie zapiszę Oriovit-D 1000 jako lek na niedobór witaminy D.\tHypothesis: Na recepte zapiszę cholekalcyferol 1000 j.m. w celu suplementacji niedoboru witaminy D.\n",
      "Reference: Jeśli masz niedobór witaminy D dobrze sprawdza się Oriovit-D 1000.\tHypothesis: Jeśli występuje niedobór witaminy T, zasadne jest zastosowanie Orlistatu 120.\n",
      "Reference: Na recepcie zapiszę Vigalex Bio jako lek na niedobór witaminy D.\tHypothesis: Na recepte zapiszę Vigantol z Biakolą na niedobór witaminy D.\n",
      "Reference: Na niedobór witaminy D przepiszę ci Vigalex Bio.\tHypothesis: Na niedobór witaminy D przepiszę cholekalcyferol.\n",
      "Reference: Zalecam Ospen 1000, bo dobrze działa na anginę.\tHypothesis: Zalecam sulfasalazynę w dawce 1000 [mg], ponieważ dobrze działa na zesztywniające zapalenie stawów kręgosłupa.\n",
      "Reference: Przepiszę ci Ospen 1000, bo zwykle dobrze działa.\tHypothesis: Przepiszę Oseltamivir w dawce 1000 mg, bo zwykle jest skuteczny.\n",
      "Reference: Najlepiej w twoim przypadku sprawdzi się Amotaks.\tHypothesis: W Pani przypadku lekiem pierwszego wyboru może być amoksycylina.\n",
      "Reference: Przepiszę ci Amotaks, bo zwykle dobrze działa.\tHypothesis: Przepiszę amoksycylinę z kwasem klawulanowym, ponieważ zwykle jest skuteczna.\n",
      "Reference: Możesz kupić w aptece Augmentin, powinien pomóc.\tHypothesis: Możesz kupić w aptece Augmentin; powinien pomóc.\n",
      "Reference: Powinnaś spróbować kuracji Augmentin.\tHypothesis: Pojedyncza pacjentka spróbowała kuracji augmentynem.\n",
      "Reference: Na recepcie zapiszę Macromax jako lek na anginę.\tHypothesis: Na recepte zapisze makrocypinę z piekolek na anginę.\n",
      "Reference: Powinnaś spróbować kuracji Macromax.\tHypothesis: Pacjent powinien spróbować kuracji metronidazolem.\n",
      "Reference: Na anginę przepiszę ci Sumamed.\tHypothesis: Na anginę przepisano Tysumamet.\n",
      "Reference: Zalecam Sumamed, bo dobrze działa na anginę.\tHypothesis: Zalecam sumamed, ponieważ dobrze działa na zapalenie gardła i migdałków podniebiennych.\n",
      "Reference: Na recepcie zapiszę Amoksycylinę jako lek na anginę.\tHypothesis: Na recepcie zapisze amoksycylinę i aklektyczny lek przeciwhistaminowy (antyhystaminowy) drugiej generacji, prawdopodobnie akrywastynę lub cetyryzynę (choć nazwa \"akoleknadyna\" nie odpowiada żadnemu znanemu lekowi, możliwe, że chodzi o lek z grupy antagonistów receptora H1, np. cetyryzynę lub lewocetyryzynę). \n",
      "\n",
      "Lepiej:  Na recepcie zapisze amoksycylinę i akrywastynę lub Na recepcie zapisze amoksycylinę i cetyryzynę.\n",
      "\n",
      "Lepsza wersja: Na recepcie zapisze amoksycylinę oraz lek przeciwhistaminowy II generacji.\n",
      "\n",
      "Najlepsza wersja:  Na recepcie zapisze amoksycylinę i lek przeciwhistaminowy II generacji.\n",
      "\n",
      "Ostatecznie: Na recepcie zapisze amoksycylinę i lek przeciwhistaminowy II generacji.\n",
      "Reference: Zalecam Amoksycylinę, bo dobrze działa na anginę.\tHypothesis: Zalecam amoksycylinę, ponieważ jest skuteczna w leczeniu anginy paciorkowcowej.\n",
      "Reference: Przepiszę ci Omeprazol, bo zwykle dobrze działa.\tHypothesis: Przepiszę ci MP3X, bo zwykle jest skuteczny.\n",
      "Reference: Powinnaś spróbować kuracji Omeprazolem.\tHypothesis: Pacjent powinien spróbować kuracji omeprazolem.\n",
      "Reference: Możesz kupić w aptece Pantoprazol, powinien pomóc.\tHypothesis: Możesz kupić w aptece pantoprazol, powinien pomóc.\n",
      "Reference: Na recepcie zapiszę Pantoprazol jako lek na zgaga.\tHypothesis: Na recepcie zapisze pantoprazol jako lek nasilający [lub: hamujący] wydzielanie [kwasu solnego].\n",
      "Reference: Powinnaś przyjmować Laktulozę na zgaga.\tHypothesis: Należy przyjmować laktulozę doustnie.\n",
      "Reference: Zalecam Laktulozę, bo dobrze działa na zgaga.\tHypothesis: Zalecam laktulozę, ponieważ dobrze wpływa na encefalopatię wątrobową.\n",
      "Reference: Jeśli masz zgaga dobrze sprawdza się Bisakodyl.\tHypothesis: Jeśli masz zaparcia, sprawdza się bisakodyl.\n",
      "Reference: Zalecam Bisakodyl, bo dobrze działa na zgaga.\tHypothesis: Zalecam bisakodyl, ponieważ dobrze działa na zaparcia.\n",
      "Reference: Zalecam Sukralfat, bo dobrze działa na zgaga.\tHypothesis: Zalecam sukralfat, ponieważ jest skuteczny w leczeniu choroby wrzodowej żołądka.\n",
      "Reference: Jeśli masz zgaga dobrze sprawdza się Sukralfat.\tHypothesis: Jeśli się nie mylę, dobrze sprawdza się sukralfat.\n",
      "Reference: Na recepcie zapiszę Folik.\tHypothesis: Na recepcie zapisałem Folik.\n",
      "Reference: Przepiszę ci Folik, bo zwykle dobrze działa.\tHypothesis: Przepiszę ciolix, bo zwykle jest skuteczny.\n",
      "Reference: Powinnaś przyjmować ActiFolin na profilaktyka.\tHypothesis: Powinna być przyjmowana ATK i folinian profilaktycznie.\n",
      "Reference: Najlepiej w twoim przypadku sprawdzi się ActiFolin.\tHypothesis: Najlepiej w Pani przypadku sprawdzi się kwas acetylosalicylowy w tabletkach dojelitowych.\n",
      "Reference: Najlepiej w twoim przypadku sprawdzi się Aliness Kwas Foliowy.\tHypothesis: Najlepiej w twoim przypadku sprawdzi się suplementacja kwasem foliowym.\n",
      "Reference: Przepiszę ci Aliness Kwas Foliowy, bo zwykle dobrze działa.\tHypothesis: Przepiszę ci elinestrenol z kwasem foliowym, bo zwykle jest skuteczny.\n",
      "Reference: Możesz kupić w aptece D-Vitum Forte, powinien pomóc.\tHypothesis: Możesz kupić w aptekach Tonafort, powinien pomóc.\n",
      "Reference: Najlepiej w twoim przypadku sprawdzi się D-Vitum Forte.\tHypothesis: Dewitym Forte to nazwa handlowa preparatu zawierającego witaminę D3. Poprawiona wersja transkrypcji mowy to: \"Najlepiej w twoim przypadku sprawdzi się witamina D3 w dużej dawce.\"\n",
      "Reference: Powinnaś spróbować kuracji Olicaps Witaminą D3.\tHypothesis: Pacjentka powinna otrzymać lek Olicap wraz z suplementacją witaminą D3.\n",
      "Reference: Na recepcie zapiszę Olicaps Witamina D3 jako lek na profilaktyka.\tHypothesis: Na recepcie zapiszę witaminę D3 jako lek profilaktyczny.\n",
      "Reference: Powinnaś spróbować kuracji OstroVit Omega 3.\tHypothesis: Pojedyncza pacjentka spróbowała kuracji witaminomegadoksowej.\n"
     ]
    }
   ],
   "source": [
    "for ref, hyp in zip(references, hypotheses):\n",
    "    print(f\"Reference: {ref}\\tHypothesis: {hyp}\")"
   ]
  },
  {
   "cell_type": "markdown",
   "id": "18c89a40",
   "metadata": {},
   "source": [
    "## Wnioski:\n",
    "- najlepiej WER i CER zdaje się obniżać parametr initial_prompt"
   ]
  },
  {
   "cell_type": "markdown",
   "id": "da12ed55",
   "metadata": {},
   "source": [
    "## Fine tuning"
   ]
  },
  {
   "cell_type": "code",
   "execution_count": 34,
   "id": "ea2802a6",
   "metadata": {},
   "outputs": [],
   "source": [
    "OUTPUT_DIR = \"./whisper_medical_finetuned_lora\"\n",
    "DEVICE = \"cuda\" if torch.cuda.is_available() else \"cpu\"\n",
    "SAMPLING_RATE = 16000\n",
    "BASE_CHECKPOINT = checkpoint\n",
    "LORA_R = 8\n",
    "LORA_ALPHA = 16\n",
    "LORA_DROPOUT = 0.05\n",
    "TARGET_MODULES = [\"q_proj\", \"v_proj\"] \n",
    "\n",
    "NUM_EPOCHS = 6\n",
    "PER_DEVICE_BATCH_SIZE = 2\n",
    "GRADIENT_ACCUMULATION_STEPS = 8\n",
    "LEARNING_RATE = 1e-4\n",
    "FP16 = True\n",
    "\n",
    "MED_WEIGHT = 5.0"
   ]
  },
  {
   "cell_type": "code",
   "execution_count": 35,
   "id": "b855eff8",
   "metadata": {},
   "outputs": [],
   "source": [
    "checkpoint = \"natural_anonym_synth\"\n",
    "SAMPLING_RATE = 16000\n",
    "language = \"pl\"\n",
    "task = \"transcribe\"\n",
    "peft_config = PeftConfig.from_pretrained(checkpoint) \n",
    "model = WhisperForConditionalGeneration.from_pretrained(peft_config.base_model_name_or_path)\n",
    "model = PeftModel.from_pretrained(model, checkpoint)"
   ]
  },
  {
   "cell_type": "code",
   "execution_count": 36,
   "id": "c4dc3871",
   "metadata": {},
   "outputs": [],
   "source": [
    "class WhisperTuner(PeftModel):\n",
    "    def __init__(self, model: torch.nn.Module, peft_config: PeftConfig, adapter_name: str = \"default\") -> None:\n",
    "        super().__init__(model, peft_config, adapter_name)\n",
    "        self.base_model_prepare_inputs_for_generation = self.base_model.prepare_inputs_for_generation\n",
    "        self.base_model_prepare_encoder_decoder_kwargs_for_generation = (\n",
    "            self.base_model._prepare_encoder_decoder_kwargs_for_generation\n",
    "        )\n",
    "\n",
    "    def forward(self, input_features=None, attention_mask=None, decoder_input_ids=None, decoder_attention_mask=None,\n",
    "                decoder_inputs_embeds=None, labels=None, output_attentions=None, output_hidden_states=None,\n",
    "                return_dict=None, task_ids=None, **kwargs):\n",
    "        allowed = {\"input_features\",\"attention_mask\",\"decoder_input_ids\",\"decoder_attention_mask\",\n",
    "                \"decoder_inputs_embeds\",\"labels\",\"output_attentions\",\"output_hidden_states\",\"return_dict\"}\n",
    "        filtered = {k:v for k,v in kwargs.items() if k in allowed}\n",
    "        if input_features is not None:\n",
    "            filtered[\"input_features\"] = input_features\n",
    "        peft_config = self.active_peft_config\n",
    "        if not peft_config.is_prompt_learning:\n",
    "            if peft_config.peft_type == PeftType.POLY:\n",
    "                kwargs[\"task_ids\"] = task_ids\n",
    "\n",
    "            with self._enable_peft_forward_hooks(**kwargs):\n",
    "                kwargs = {k: v for k, v in kwargs.items() if k not in self.special_peft_forward_args}\n",
    "                return self.base_model(**filtered)\n",
    "    def prepare_inputs_for_generation(self, *args, **kwargs):\n",
    "        model_kwargs = self.base_model_prepare_inputs_for_generation(*args, **kwargs)\n",
    "        if \"input_ids\" in model_kwargs and \"input_features\" not in model_kwargs:\n",
    "            model_kwargs[\"input_features\"] = model_kwargs.pop(\"input_ids\")\n",
    "        return model_kwargs"
   ]
  },
  {
   "cell_type": "code",
   "execution_count": 37,
   "id": "7f930369",
   "metadata": {},
   "outputs": [
    {
     "name": "stderr",
     "output_type": "stream",
     "text": [
      "c:\\Users\\Admin\\AppData\\Local\\Programs\\Python\\Python313\\Lib\\site-packages\\peft\\tuners\\tuners_utils.py:196: UserWarning: Already found a `peft_config` attribute in the model. This will lead to having multiple adapters in the model. Make sure to know what you are doing!\n",
      "  warnings.warn(\n"
     ]
    }
   ],
   "source": [
    "lora_config = LoraConfig(\n",
    "        r=LORA_R,\n",
    "        lora_alpha=LORA_ALPHA,\n",
    "        target_modules=TARGET_MODULES,\n",
    "        lora_dropout=LORA_DROPOUT,\n",
    "        bias=\"none\"\n",
    "    )\n",
    "model = WhisperTuner(model, lora_config)"
   ]
  },
  {
   "cell_type": "code",
   "execution_count": 38,
   "id": "20a01415",
   "metadata": {},
   "outputs": [
    {
     "name": "stdout",
     "output_type": "stream",
     "text": [
      "Model loaded. Trainable parameters:\n",
      "trainable params: 2,359,296 || all params: 766,217,216 || trainable%: 0.3079\n"
     ]
    }
   ],
   "source": [
    "model.to(DEVICE)\n",
    "print(\"Model loaded. Trainable parameters:\")\n",
    "try:\n",
    "    model.print_trainable_parameters()\n",
    "except Exception:\n",
    "    n_trainable = sum(p.numel() for p in model.parameters() if p.requires_grad)\n",
    "    n_total = sum(p.numel() for p in model.parameters())\n",
    "    print(f\"Trainable params: {n_trainable} / {n_total}\")\n",
    "forced_decoder_ids = processor.get_decoder_prompt_ids(language=language, task=task)"
   ]
  },
  {
   "cell_type": "code",
   "execution_count": null,
   "id": "2dc28be6",
   "metadata": {},
   "outputs": [],
   "source": [
    "def prepare_example(example):\n",
    "    audio = example[\"waveform\"]\n",
    "\n",
    "    inputs = processor(audio, sampling_rate=SAMPLING_RATE, return_tensors=\"pt\")\n",
    "    example[\"input_features\"] = inputs.input_features[0]\n",
    "\n",
    "    labels = processor.tokenizer(example[\"phrase\"], add_special_tokens=True).input_ids\n",
    "    example[\"labels\"] = torch.tensor(labels, dtype=torch.long)\n",
    "\n",
    "    return example"
   ]
  },
  {
   "cell_type": "code",
   "execution_count": null,
   "id": "86172760",
   "metadata": {},
   "outputs": [],
   "source": [
    "train_dataset = Dataset.from_list(train_dataset)\n",
    "val_dataset = Dataset.from_list(dataset)"
   ]
  },
  {
   "cell_type": "code",
   "execution_count": 44,
   "id": "a6e08174",
   "metadata": {},
   "outputs": [
    {
     "name": "stderr",
     "output_type": "stream",
     "text": [
      "Map: 100%|██████████| 1102/1102 [01:04<00:00, 17.15 examples/s]\n",
      "Map: 100%|██████████| 146/146 [00:07<00:00, 19.11 examples/s]\n"
     ]
    }
   ],
   "source": [
    "train_dataset = train_dataset.map(prepare_example)\n",
    "val_dataset = val_dataset.map(prepare_example)"
   ]
  },
  {
   "cell_type": "code",
   "execution_count": 80,
   "id": "133528cc",
   "metadata": {},
   "outputs": [],
   "source": [
    "vocab_size = len(processor.tokenizer)\n",
    "token_weights = torch.ones(vocab_size, dtype=torch.float32, device=DEVICE)\n",
    "for word in leki:\n",
    "    ids = processor.tokenizer.encode(word, add_special_tokens=False)\n",
    "    for t in ids:\n",
    "        if 0 <= t < vocab_size:\n",
    "            token_weights[t] = MED_WEIGHT"
   ]
  },
  {
   "cell_type": "code",
   "execution_count": 81,
   "id": "db2e2e75",
   "metadata": {},
   "outputs": [],
   "source": [
    "wer_metric = evaluate.load(\"wer\")"
   ]
  },
  {
   "cell_type": "code",
   "execution_count": 82,
   "id": "2e99cb2b",
   "metadata": {},
   "outputs": [],
   "source": [
    "def compute_metrics_eval(preds: List[str], refs: List[str]) -> Dict[str, float]:\n",
    "    wer = wer_metric.compute(references=refs, predictions=preds)\n",
    "    tp = fp = fn = 0\n",
    "    meds_lower = [m.lower() for m in leki]\n",
    "    for hyp, ref in zip(preds, refs):\n",
    "        hyp_tokens = set([t.lower().strip(\".,\") for t in hyp.split()])\n",
    "        ref_tokens = set([t.lower().strip(\".,\") for t in ref.split()])\n",
    "        for m in meds_lower:\n",
    "            in_ref = m in ref_tokens\n",
    "            in_hyp = m in hyp_tokens\n",
    "            if in_ref and in_hyp:\n",
    "                tp += 1\n",
    "            elif in_hyp and not in_ref:\n",
    "                fp += 1\n",
    "            elif in_ref and not in_hyp:\n",
    "                fn += 1\n",
    "    precision = tp / (tp + fp) if (tp + fp) > 0 else 0.0\n",
    "    recall = tp / (tp + fn) if (tp + fn) > 0 else 0.0\n",
    "    return {\"wer\": wer, \"precision_drugs\": precision, \"recall_drugs\": recall}"
   ]
  },
  {
   "cell_type": "code",
   "execution_count": 83,
   "id": "0e366581",
   "metadata": {},
   "outputs": [],
   "source": [
    "def compute_metrics_for_trainer(eval_pred):\n",
    "    preds_ids, labels_ids = eval_pred\n",
    "    decoded_preds = processor.batch_decode(preds_ids, skip_special_tokens=True)\n",
    "    labels_ids[labels_ids == -100] = processor.tokenizer.pad_token_id\n",
    "    decoded_labels = processor.batch_decode(labels_ids, skip_special_tokens=True)\n",
    "    return compute_metrics_eval(decoded_preds, decoded_labels)"
   ]
  },
  {
   "cell_type": "code",
   "execution_count": 84,
   "id": "0116563e",
   "metadata": {},
   "outputs": [],
   "source": [
    "def collate_fn(batch):\n",
    "    input_features = torch.stack([torch.tensor(x[\"input_features\"]) for x in batch]).to(DEVICE)\n",
    "\n",
    "    labels = [torch.tensor(x[\"labels\"], dtype=torch.long) for x in batch]\n",
    "    labels_padded = torch.nn.utils.rnn.pad_sequence(\n",
    "        labels,\n",
    "        batch_first=True,\n",
    "        padding_value=processor.tokenizer.pad_token_id\n",
    "    ).to(DEVICE)\n",
    "\n",
    "    labels_for_loss = labels_padded.clone()\n",
    "    labels_for_loss[labels_for_loss == processor.tokenizer.pad_token_id] = -100\n",
    "\n",
    "    batch_out = {\n",
    "        \"input_features\": input_features,\n",
    "        \"labels\": labels_for_loss,\n",
    "        \"decoder_input_ids\": labels_padded\n",
    "    }\n",
    "    return batch_out"
   ]
  },
  {
   "cell_type": "code",
   "execution_count": 85,
   "id": "223baf37",
   "metadata": {},
   "outputs": [],
   "source": [
    "class WeightedLossTrainer(Seq2SeqTrainer):\n",
    "    def __init__(self, token_weights_tensor: torch.Tensor, *args, **kwargs):\n",
    "        super().__init__(*args, **kwargs)\n",
    "        self.token_weights = token_weights_tensor\n",
    "\n",
    "    def compute_loss(self, model, inputs, return_outputs=False, num_items_in_batch=None):\n",
    "        labels = inputs.pop(\"labels\")\n",
    "        decoder_input_ids = inputs.pop(\"decoder_input_ids\", None)\n",
    "        input_features = inputs.pop(\"input_features\")\n",
    "        outputs = model(input_features=inputs[\"input_features\"], labels=labels, decoder_input_ids = decoder_input_ids)\n",
    "        logits = outputs.logits\n",
    "\n",
    "        batch_size, seq_len, vocab = logits.size()\n",
    "        logits_flat = logits.view(-1, vocab)\n",
    "        labels_flat = labels.view(-1)\n",
    "        loss_per_token = F.cross_entropy(logits_flat, labels_flat, reduction=\"none\", ignore_index=-100)\n",
    "        loss_per_token = loss_per_token.view(batch_size, seq_len)\n",
    "\n",
    "        labels_masked = labels.clone()\n",
    "        labels_masked[labels_masked == -100] = 0\n",
    "        weights = self.token_weights[labels_masked]\n",
    "        mask = (labels != -100).float()\n",
    "        weights = weights * mask\n",
    "\n",
    "        weighted_loss = (loss_per_token * weights).sum()\n",
    "        normalizer = weights.sum().clamp_min(1.0)\n",
    "        loss = weighted_loss / normalizer\n",
    "        return (loss, outputs) if return_outputs else loss"
   ]
  },
  {
   "cell_type": "code",
   "execution_count": 86,
   "id": "52079a3e",
   "metadata": {},
   "outputs": [
    {
     "name": "stderr",
     "output_type": "stream",
     "text": [
      "C:\\Users\\Admin\\AppData\\Local\\Temp\\ipykernel_18844\\578896928.py:3: FutureWarning: `tokenizer` is deprecated and will be removed in version 5.0.0 for `WeightedLossTrainer.__init__`. Use `processing_class` instead.\n",
      "  super().__init__(*args, **kwargs)\n"
     ]
    }
   ],
   "source": [
    "training_args = Seq2SeqTrainingArguments(\n",
    "    output_dir=OUTPUT_DIR,\n",
    "    per_device_train_batch_size=PER_DEVICE_BATCH_SIZE,\n",
    "    per_device_eval_batch_size=PER_DEVICE_BATCH_SIZE,\n",
    "    gradient_accumulation_steps=GRADIENT_ACCUMULATION_STEPS,\n",
    "    fp16=FP16,\n",
    "    num_train_epochs=NUM_EPOCHS,\n",
    "    learning_rate=LEARNING_RATE,\n",
    "    predict_with_generate=True, \n",
    "    save_strategy=\"steps\",\n",
    "    save_steps=4, #1000\n",
    "    save_total_limit=3, \n",
    "    logging_steps=1, #100\n",
    "    eval_strategy=\"steps\",\n",
    "    eval_steps=2, #500\n",
    "    load_best_model_at_end=True,\n",
    "    metric_for_best_model=\"wer\",\n",
    "    remove_unused_columns=False,\n",
    "    disable_tqdm=False,\n",
    "    max_steps = 8\n",
    ")\n",
    "trainer = WeightedLossTrainer(\n",
    "    token_weights_tensor=token_weights,\n",
    "    model=model,\n",
    "    args=training_args,\n",
    "    train_dataset=train_dataset,\n",
    "    eval_dataset=val_dataset,\n",
    "    data_collator=collate_fn,\n",
    "    tokenizer=processor.tokenizer,\n",
    "    compute_metrics=compute_metrics_for_trainer,\n",
    ")\n"
   ]
  },
  {
   "cell_type": "code",
   "execution_count": 75,
   "id": "d1dac027",
   "metadata": {},
   "outputs": [
    {
     "name": "stdout",
     "output_type": "stream",
     "text": [
      "Starting training...\n"
     ]
    },
    {
     "name": "stderr",
     "output_type": "stream",
     "text": [
      "c:\\Users\\Admin\\AppData\\Local\\Programs\\Python\\Python313\\Lib\\site-packages\\torch\\utils\\data\\dataloader.py:666: UserWarning: 'pin_memory' argument is set as true but no accelerator is found, then device pinned memory won't be used.\n",
      "  warnings.warn(warn_msg)\n",
      "C:\\Users\\Admin\\AppData\\Local\\Temp\\ipykernel_18844\\3509522755.py:2: UserWarning: To copy construct from a tensor, it is recommended to use sourceTensor.detach().clone() or sourceTensor.detach().clone().requires_grad_(True), rather than torch.tensor(sourceTensor).\n",
      "  input_features = torch.stack([torch.tensor(x[\"input_features\"]) for x in batch]).to(DEVICE)\n",
      "C:\\Users\\Admin\\AppData\\Local\\Temp\\ipykernel_18844\\3509522755.py:4: UserWarning: To copy construct from a tensor, it is recommended to use sourceTensor.detach().clone() or sourceTensor.detach().clone().requires_grad_(True), rather than torch.tensor(sourceTensor).\n",
      "  labels = [torch.tensor(x[\"labels\"], dtype=torch.long) for x in batch]\n"
     ]
    },
    {
     "ename": "KeyError",
     "evalue": "'input_features'",
     "output_type": "error",
     "traceback": [
      "\u001b[31m---------------------------------------------------------------------------\u001b[39m",
      "\u001b[31mKeyError\u001b[39m                                  Traceback (most recent call last)",
      "\u001b[36mCell\u001b[39m\u001b[36m \u001b[39m\u001b[32mIn[75]\u001b[39m\u001b[32m, line 2\u001b[39m\n\u001b[32m      1\u001b[39m \u001b[38;5;28mprint\u001b[39m(\u001b[33m\"\u001b[39m\u001b[33mStarting training...\u001b[39m\u001b[33m\"\u001b[39m)\n\u001b[32m----> \u001b[39m\u001b[32m2\u001b[39m \u001b[43mtrainer\u001b[49m\u001b[43m.\u001b[49m\u001b[43mtrain\u001b[49m\u001b[43m(\u001b[49m\u001b[43m)\u001b[49m\n\u001b[32m      3\u001b[39m \u001b[38;5;28mprint\u001b[39m(\u001b[33m\"\u001b[39m\u001b[33mTraining finished. Saving model...\u001b[39m\u001b[33m\"\u001b[39m)\n\u001b[32m      4\u001b[39m trainer.save_model(OUTPUT_DIR)\n",
      "\u001b[36mFile \u001b[39m\u001b[32mc:\\Users\\Admin\\AppData\\Local\\Programs\\Python\\Python313\\Lib\\site-packages\\transformers\\trainer.py:2238\u001b[39m, in \u001b[36mTrainer.train\u001b[39m\u001b[34m(self, resume_from_checkpoint, trial, ignore_keys_for_eval, **kwargs)\u001b[39m\n\u001b[32m   2236\u001b[39m         hf_hub_utils.enable_progress_bars()\n\u001b[32m   2237\u001b[39m \u001b[38;5;28;01melse\u001b[39;00m:\n\u001b[32m-> \u001b[39m\u001b[32m2238\u001b[39m     \u001b[38;5;28;01mreturn\u001b[39;00m \u001b[43minner_training_loop\u001b[49m\u001b[43m(\u001b[49m\n\u001b[32m   2239\u001b[39m \u001b[43m        \u001b[49m\u001b[43margs\u001b[49m\u001b[43m=\u001b[49m\u001b[43margs\u001b[49m\u001b[43m,\u001b[49m\n\u001b[32m   2240\u001b[39m \u001b[43m        \u001b[49m\u001b[43mresume_from_checkpoint\u001b[49m\u001b[43m=\u001b[49m\u001b[43mresume_from_checkpoint\u001b[49m\u001b[43m,\u001b[49m\n\u001b[32m   2241\u001b[39m \u001b[43m        \u001b[49m\u001b[43mtrial\u001b[49m\u001b[43m=\u001b[49m\u001b[43mtrial\u001b[49m\u001b[43m,\u001b[49m\n\u001b[32m   2242\u001b[39m \u001b[43m        \u001b[49m\u001b[43mignore_keys_for_eval\u001b[49m\u001b[43m=\u001b[49m\u001b[43mignore_keys_for_eval\u001b[49m\u001b[43m,\u001b[49m\n\u001b[32m   2243\u001b[39m \u001b[43m    \u001b[49m\u001b[43m)\u001b[49m\n",
      "\u001b[36mFile \u001b[39m\u001b[32mc:\\Users\\Admin\\AppData\\Local\\Programs\\Python\\Python313\\Lib\\site-packages\\transformers\\trainer.py:2582\u001b[39m, in \u001b[36mTrainer._inner_training_loop\u001b[39m\u001b[34m(self, batch_size, args, resume_from_checkpoint, trial, ignore_keys_for_eval)\u001b[39m\n\u001b[32m   2575\u001b[39m context = (\n\u001b[32m   2576\u001b[39m     functools.partial(\u001b[38;5;28mself\u001b[39m.accelerator.no_sync, model=model)\n\u001b[32m   2577\u001b[39m     \u001b[38;5;28;01mif\u001b[39;00m i != \u001b[38;5;28mlen\u001b[39m(batch_samples) - \u001b[32m1\u001b[39m\n\u001b[32m   2578\u001b[39m     \u001b[38;5;129;01mand\u001b[39;00m \u001b[38;5;28mself\u001b[39m.accelerator.distributed_type != DistributedType.DEEPSPEED\n\u001b[32m   2579\u001b[39m     \u001b[38;5;28;01melse\u001b[39;00m contextlib.nullcontext\n\u001b[32m   2580\u001b[39m )\n\u001b[32m   2581\u001b[39m \u001b[38;5;28;01mwith\u001b[39;00m context():\n\u001b[32m-> \u001b[39m\u001b[32m2582\u001b[39m     tr_loss_step = \u001b[38;5;28;43mself\u001b[39;49m\u001b[43m.\u001b[49m\u001b[43mtraining_step\u001b[49m\u001b[43m(\u001b[49m\u001b[43mmodel\u001b[49m\u001b[43m,\u001b[49m\u001b[43m \u001b[49m\u001b[43minputs\u001b[49m\u001b[43m,\u001b[49m\u001b[43m \u001b[49m\u001b[43mnum_items_in_batch\u001b[49m\u001b[43m)\u001b[49m\n\u001b[32m   2584\u001b[39m \u001b[38;5;28;01mif\u001b[39;00m (\n\u001b[32m   2585\u001b[39m     args.logging_nan_inf_filter\n\u001b[32m   2586\u001b[39m     \u001b[38;5;129;01mand\u001b[39;00m \u001b[38;5;129;01mnot\u001b[39;00m is_torch_xla_available()\n\u001b[32m   2587\u001b[39m     \u001b[38;5;129;01mand\u001b[39;00m (torch.isnan(tr_loss_step) \u001b[38;5;129;01mor\u001b[39;00m torch.isinf(tr_loss_step))\n\u001b[32m   2588\u001b[39m ):\n\u001b[32m   2589\u001b[39m     \u001b[38;5;66;03m# if loss is nan or inf simply add the average of previous logged losses\u001b[39;00m\n\u001b[32m   2590\u001b[39m     tr_loss = tr_loss + tr_loss / (\u001b[32m1\u001b[39m + \u001b[38;5;28mself\u001b[39m.state.global_step - \u001b[38;5;28mself\u001b[39m._globalstep_last_logged)\n",
      "\u001b[36mFile \u001b[39m\u001b[32mc:\\Users\\Admin\\AppData\\Local\\Programs\\Python\\Python313\\Lib\\site-packages\\transformers\\trainer.py:3796\u001b[39m, in \u001b[36mTrainer.training_step\u001b[39m\u001b[34m(self, model, inputs, num_items_in_batch)\u001b[39m\n\u001b[32m   3793\u001b[39m     \u001b[38;5;28;01mreturn\u001b[39;00m loss_mb.reduce_mean().detach().to(\u001b[38;5;28mself\u001b[39m.args.device)\n\u001b[32m   3795\u001b[39m \u001b[38;5;28;01mwith\u001b[39;00m \u001b[38;5;28mself\u001b[39m.compute_loss_context_manager():\n\u001b[32m-> \u001b[39m\u001b[32m3796\u001b[39m     loss = \u001b[38;5;28;43mself\u001b[39;49m\u001b[43m.\u001b[49m\u001b[43mcompute_loss\u001b[49m\u001b[43m(\u001b[49m\u001b[43mmodel\u001b[49m\u001b[43m,\u001b[49m\u001b[43m \u001b[49m\u001b[43minputs\u001b[49m\u001b[43m,\u001b[49m\u001b[43m \u001b[49m\u001b[43mnum_items_in_batch\u001b[49m\u001b[43m=\u001b[49m\u001b[43mnum_items_in_batch\u001b[49m\u001b[43m)\u001b[49m\n\u001b[32m   3798\u001b[39m \u001b[38;5;28;01mdel\u001b[39;00m inputs\n\u001b[32m   3799\u001b[39m \u001b[38;5;28;01mif\u001b[39;00m (\n\u001b[32m   3800\u001b[39m     \u001b[38;5;28mself\u001b[39m.args.torch_empty_cache_steps \u001b[38;5;129;01mis\u001b[39;00m \u001b[38;5;129;01mnot\u001b[39;00m \u001b[38;5;28;01mNone\u001b[39;00m\n\u001b[32m   3801\u001b[39m     \u001b[38;5;129;01mand\u001b[39;00m \u001b[38;5;28mself\u001b[39m.state.global_step % \u001b[38;5;28mself\u001b[39m.args.torch_empty_cache_steps == \u001b[32m0\u001b[39m\n\u001b[32m   3802\u001b[39m ):\n",
      "\u001b[36mCell\u001b[39m\u001b[36m \u001b[39m\u001b[32mIn[73]\u001b[39m\u001b[32m, line 10\u001b[39m, in \u001b[36mWeightedLossTrainer.compute_loss\u001b[39m\u001b[34m(self, model, inputs, return_outputs, num_items_in_batch)\u001b[39m\n\u001b[32m      8\u001b[39m decoder_input_ids = inputs.pop(\u001b[33m\"\u001b[39m\u001b[33mdecoder_input_ids\u001b[39m\u001b[33m\"\u001b[39m, \u001b[38;5;28;01mNone\u001b[39;00m)\n\u001b[32m      9\u001b[39m input_features = inputs.pop(\u001b[33m\"\u001b[39m\u001b[33minput_features\u001b[39m\u001b[33m\"\u001b[39m)\n\u001b[32m---> \u001b[39m\u001b[32m10\u001b[39m outputs = model(input_features=\u001b[43minputs\u001b[49m\u001b[43m[\u001b[49m\u001b[33;43m\"\u001b[39;49m\u001b[33;43minput_features\u001b[39;49m\u001b[33;43m\"\u001b[39;49m\u001b[43m]\u001b[49m, labels=labels, decoder_input_ids = decoder_input_ids)\n\u001b[32m     11\u001b[39m logits = outputs.logits\n\u001b[32m     13\u001b[39m batch_size, seq_len, vocab = logits.size()\n",
      "\u001b[31mKeyError\u001b[39m: 'input_features'"
     ]
    }
   ],
   "source": [
    "print(\"Starting training...\")\n",
    "trainer.train()\n",
    "print(\"Training finished. Saving model...\")\n",
    "trainer.save_model(OUTPUT_DIR)\n",
    "processor.save_pretrained(OUTPUT_DIR)"
   ]
  }
 ],
 "metadata": {
  "kernelspec": {
   "display_name": "Python 3",
   "language": "python",
   "name": "python3"
  },
  "language_info": {
   "codemirror_mode": {
    "name": "ipython",
    "version": 3
   },
   "file_extension": ".py",
   "mimetype": "text/x-python",
   "name": "python",
   "nbconvert_exporter": "python",
   "pygments_lexer": "ipython3",
   "version": "3.13.5"
  }
 },
 "nbformat": 4,
 "nbformat_minor": 5
}
